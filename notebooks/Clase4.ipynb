{
  "nbformat": 4,
  "nbformat_minor": 0,
  "metadata": {
    "colab": {
      "name": "Clase4.ipynb",
      "provenance": [],
      "collapsed_sections": []
    },
    "kernelspec": {
      "name": "python3",
      "display_name": "Python 3"
    },
    "language_info": {
      "name": "python"
    },
    "widgets": {
      "application/vnd.jupyter.widget-state+json": {
        "10cc86194c38442ca7573539b2a52f9e": {
          "model_module": "@jupyter-widgets/controls",
          "model_name": "HBoxModel",
          "model_module_version": "1.5.0",
          "state": {
            "_view_name": "HBoxView",
            "_dom_classes": [],
            "_model_name": "HBoxModel",
            "_view_module": "@jupyter-widgets/controls",
            "_model_module_version": "1.5.0",
            "_view_count": null,
            "_view_module_version": "1.5.0",
            "box_style": "",
            "layout": "IPY_MODEL_00b295cbe2ab4c1a980f073df62741c0",
            "_model_module": "@jupyter-widgets/controls",
            "children": [
              "IPY_MODEL_2e1fa7c78ccd4ebe979ad4fd9cd545a1",
              "IPY_MODEL_9c460b4afcd44b0abf7b8aeae0a26e50",
              "IPY_MODEL_87c4ab587e574fdc9debf90515d36b31"
            ]
          }
        },
        "00b295cbe2ab4c1a980f073df62741c0": {
          "model_module": "@jupyter-widgets/base",
          "model_name": "LayoutModel",
          "model_module_version": "1.2.0",
          "state": {
            "_view_name": "LayoutView",
            "grid_template_rows": null,
            "right": null,
            "justify_content": null,
            "_view_module": "@jupyter-widgets/base",
            "overflow": null,
            "_model_module_version": "1.2.0",
            "_view_count": null,
            "flex_flow": null,
            "width": null,
            "min_width": null,
            "border": null,
            "align_items": null,
            "bottom": null,
            "_model_module": "@jupyter-widgets/base",
            "top": null,
            "grid_column": null,
            "overflow_y": null,
            "overflow_x": null,
            "grid_auto_flow": null,
            "grid_area": null,
            "grid_template_columns": null,
            "flex": null,
            "_model_name": "LayoutModel",
            "justify_items": null,
            "grid_row": null,
            "max_height": null,
            "align_content": null,
            "visibility": null,
            "align_self": null,
            "height": null,
            "min_height": null,
            "padding": null,
            "grid_auto_rows": null,
            "grid_gap": null,
            "max_width": null,
            "order": null,
            "_view_module_version": "1.2.0",
            "grid_template_areas": null,
            "object_position": null,
            "object_fit": null,
            "grid_auto_columns": null,
            "margin": null,
            "display": null,
            "left": null
          }
        },
        "2e1fa7c78ccd4ebe979ad4fd9cd545a1": {
          "model_module": "@jupyter-widgets/controls",
          "model_name": "HTMLModel",
          "model_module_version": "1.5.0",
          "state": {
            "_view_name": "HTMLView",
            "style": "IPY_MODEL_af3064ac04da4bf7805cb6da1c5f4261",
            "_dom_classes": [],
            "description": "",
            "_model_name": "HTMLModel",
            "placeholder": "​",
            "_view_module": "@jupyter-widgets/controls",
            "_model_module_version": "1.5.0",
            "value": "100%",
            "_view_count": null,
            "_view_module_version": "1.5.0",
            "description_tooltip": null,
            "_model_module": "@jupyter-widgets/controls",
            "layout": "IPY_MODEL_1366a2c0212a4051bfc76e81fc0df74c"
          }
        },
        "9c460b4afcd44b0abf7b8aeae0a26e50": {
          "model_module": "@jupyter-widgets/controls",
          "model_name": "FloatProgressModel",
          "model_module_version": "1.5.0",
          "state": {
            "_view_name": "ProgressView",
            "style": "IPY_MODEL_932cd144a38a4cd48345f9083caac20e",
            "_dom_classes": [],
            "description": "",
            "_model_name": "FloatProgressModel",
            "bar_style": "success",
            "max": 2428923189,
            "_view_module": "@jupyter-widgets/controls",
            "_model_module_version": "1.5.0",
            "value": 2428923189,
            "_view_count": null,
            "_view_module_version": "1.5.0",
            "orientation": "horizontal",
            "min": 0,
            "description_tooltip": null,
            "_model_module": "@jupyter-widgets/controls",
            "layout": "IPY_MODEL_c24344da8d1142069c77ab445ebfc315"
          }
        },
        "87c4ab587e574fdc9debf90515d36b31": {
          "model_module": "@jupyter-widgets/controls",
          "model_name": "HTMLModel",
          "model_module_version": "1.5.0",
          "state": {
            "_view_name": "HTMLView",
            "style": "IPY_MODEL_bbccc0ee7a1b4945b8ad14ccfacdd40f",
            "_dom_classes": [],
            "description": "",
            "_model_name": "HTMLModel",
            "placeholder": "​",
            "_view_module": "@jupyter-widgets/controls",
            "_model_module_version": "1.5.0",
            "value": " 2.26G/2.26G [00:19&lt;00:00, 214MB/s]",
            "_view_count": null,
            "_view_module_version": "1.5.0",
            "description_tooltip": null,
            "_model_module": "@jupyter-widgets/controls",
            "layout": "IPY_MODEL_e17525b771884c4baeaf44ce514280a2"
          }
        },
        "af3064ac04da4bf7805cb6da1c5f4261": {
          "model_module": "@jupyter-widgets/controls",
          "model_name": "DescriptionStyleModel",
          "model_module_version": "1.5.0",
          "state": {
            "_view_name": "StyleView",
            "_model_name": "DescriptionStyleModel",
            "description_width": "",
            "_view_module": "@jupyter-widgets/base",
            "_model_module_version": "1.5.0",
            "_view_count": null,
            "_view_module_version": "1.2.0",
            "_model_module": "@jupyter-widgets/controls"
          }
        },
        "1366a2c0212a4051bfc76e81fc0df74c": {
          "model_module": "@jupyter-widgets/base",
          "model_name": "LayoutModel",
          "model_module_version": "1.2.0",
          "state": {
            "_view_name": "LayoutView",
            "grid_template_rows": null,
            "right": null,
            "justify_content": null,
            "_view_module": "@jupyter-widgets/base",
            "overflow": null,
            "_model_module_version": "1.2.0",
            "_view_count": null,
            "flex_flow": null,
            "width": null,
            "min_width": null,
            "border": null,
            "align_items": null,
            "bottom": null,
            "_model_module": "@jupyter-widgets/base",
            "top": null,
            "grid_column": null,
            "overflow_y": null,
            "overflow_x": null,
            "grid_auto_flow": null,
            "grid_area": null,
            "grid_template_columns": null,
            "flex": null,
            "_model_name": "LayoutModel",
            "justify_items": null,
            "grid_row": null,
            "max_height": null,
            "align_content": null,
            "visibility": null,
            "align_self": null,
            "height": null,
            "min_height": null,
            "padding": null,
            "grid_auto_rows": null,
            "grid_gap": null,
            "max_width": null,
            "order": null,
            "_view_module_version": "1.2.0",
            "grid_template_areas": null,
            "object_position": null,
            "object_fit": null,
            "grid_auto_columns": null,
            "margin": null,
            "display": null,
            "left": null
          }
        },
        "932cd144a38a4cd48345f9083caac20e": {
          "model_module": "@jupyter-widgets/controls",
          "model_name": "ProgressStyleModel",
          "model_module_version": "1.5.0",
          "state": {
            "_view_name": "StyleView",
            "_model_name": "ProgressStyleModel",
            "description_width": "",
            "_view_module": "@jupyter-widgets/base",
            "_model_module_version": "1.5.0",
            "_view_count": null,
            "_view_module_version": "1.2.0",
            "bar_color": null,
            "_model_module": "@jupyter-widgets/controls"
          }
        },
        "c24344da8d1142069c77ab445ebfc315": {
          "model_module": "@jupyter-widgets/base",
          "model_name": "LayoutModel",
          "model_module_version": "1.2.0",
          "state": {
            "_view_name": "LayoutView",
            "grid_template_rows": null,
            "right": null,
            "justify_content": null,
            "_view_module": "@jupyter-widgets/base",
            "overflow": null,
            "_model_module_version": "1.2.0",
            "_view_count": null,
            "flex_flow": null,
            "width": null,
            "min_width": null,
            "border": null,
            "align_items": null,
            "bottom": null,
            "_model_module": "@jupyter-widgets/base",
            "top": null,
            "grid_column": null,
            "overflow_y": null,
            "overflow_x": null,
            "grid_auto_flow": null,
            "grid_area": null,
            "grid_template_columns": null,
            "flex": null,
            "_model_name": "LayoutModel",
            "justify_items": null,
            "grid_row": null,
            "max_height": null,
            "align_content": null,
            "visibility": null,
            "align_self": null,
            "height": null,
            "min_height": null,
            "padding": null,
            "grid_auto_rows": null,
            "grid_gap": null,
            "max_width": null,
            "order": null,
            "_view_module_version": "1.2.0",
            "grid_template_areas": null,
            "object_position": null,
            "object_fit": null,
            "grid_auto_columns": null,
            "margin": null,
            "display": null,
            "left": null
          }
        },
        "bbccc0ee7a1b4945b8ad14ccfacdd40f": {
          "model_module": "@jupyter-widgets/controls",
          "model_name": "DescriptionStyleModel",
          "model_module_version": "1.5.0",
          "state": {
            "_view_name": "StyleView",
            "_model_name": "DescriptionStyleModel",
            "description_width": "",
            "_view_module": "@jupyter-widgets/base",
            "_model_module_version": "1.5.0",
            "_view_count": null,
            "_view_module_version": "1.2.0",
            "_model_module": "@jupyter-widgets/controls"
          }
        },
        "e17525b771884c4baeaf44ce514280a2": {
          "model_module": "@jupyter-widgets/base",
          "model_name": "LayoutModel",
          "model_module_version": "1.2.0",
          "state": {
            "_view_name": "LayoutView",
            "grid_template_rows": null,
            "right": null,
            "justify_content": null,
            "_view_module": "@jupyter-widgets/base",
            "overflow": null,
            "_model_module_version": "1.2.0",
            "_view_count": null,
            "flex_flow": null,
            "width": null,
            "min_width": null,
            "border": null,
            "align_items": null,
            "bottom": null,
            "_model_module": "@jupyter-widgets/base",
            "top": null,
            "grid_column": null,
            "overflow_y": null,
            "overflow_x": null,
            "grid_auto_flow": null,
            "grid_area": null,
            "grid_template_columns": null,
            "flex": null,
            "_model_name": "LayoutModel",
            "justify_items": null,
            "grid_row": null,
            "max_height": null,
            "align_content": null,
            "visibility": null,
            "align_self": null,
            "height": null,
            "min_height": null,
            "padding": null,
            "grid_auto_rows": null,
            "grid_gap": null,
            "max_width": null,
            "order": null,
            "_view_module_version": "1.2.0",
            "grid_template_areas": null,
            "object_position": null,
            "object_fit": null,
            "grid_auto_columns": null,
            "margin": null,
            "display": null,
            "left": null
          }
        }
      }
    },
    "accelerator": "GPU"
  },
  "cells": [
    {
      "cell_type": "code",
      "metadata": {
        "id": "vaBs6pLbyFf6"
      },
      "source": [
        "import torch\n",
        "import torch.nn as nn\n",
        "import numpy as np\n",
        "import matplotlib.pyplot as plt\n",
        "import torchvision\n",
        "import torchaudio\n",
        "import PIL\n",
        "from torch.functional import F\n",
        "import IPython\n",
        "from IPython.display import Audio, display"
      ],
      "execution_count": 37,
      "outputs": []
    },
    {
      "cell_type": "markdown",
      "source": [
        "Decargando nuestra data: Speech Commands"
      ],
      "metadata": {
        "id": "GbEyUxlmT8Tk"
      }
    },
    {
      "cell_type": "code",
      "source": [
        "sc_train_ds = torchaudio.datasets.SPEECHCOMMANDS(\"./\",download=True,subset=\"training\")\n",
        "sc_test_ds = torchaudio.datasets.SPEECHCOMMANDS(\"./\",download=True,subset=\"testing\")"
      ],
      "metadata": {
        "id": "It8h9RCDel05",
        "colab": {
          "base_uri": "https://localhost:8080/",
          "height": 49,
          "referenced_widgets": [
            "10cc86194c38442ca7573539b2a52f9e",
            "00b295cbe2ab4c1a980f073df62741c0",
            "2e1fa7c78ccd4ebe979ad4fd9cd545a1",
            "9c460b4afcd44b0abf7b8aeae0a26e50",
            "87c4ab587e574fdc9debf90515d36b31",
            "af3064ac04da4bf7805cb6da1c5f4261",
            "1366a2c0212a4051bfc76e81fc0df74c",
            "932cd144a38a4cd48345f9083caac20e",
            "c24344da8d1142069c77ab445ebfc315",
            "bbccc0ee7a1b4945b8ad14ccfacdd40f",
            "e17525b771884c4baeaf44ce514280a2"
          ]
        },
        "outputId": "3dcab3a9-b705-49ec-e306-de945424d8a8"
      },
      "execution_count": 2,
      "outputs": [
        {
          "output_type": "display_data",
          "data": {
            "application/vnd.jupyter.widget-view+json": {
              "model_id": "10cc86194c38442ca7573539b2a52f9e",
              "version_minor": 0,
              "version_major": 2
            },
            "text/plain": [
              "  0%|          | 0.00/2.26G [00:00<?, ?B/s]"
            ]
          },
          "metadata": {}
        }
      ]
    },
    {
      "cell_type": "code",
      "source": [
        "speech_labels = [\"Backward\",\n",
        "\"Bed\",\n",
        "\"Bird\",\n",
        "\"Cat\",\n",
        "\"Dog\",\n",
        "\"Down\",\n",
        "\"Eight\",\n",
        "\"Five\",\n",
        "\"Follow\",\n",
        "\"Forward\",\n",
        "\"Four\",\n",
        "\"Go\",\n",
        "\"Happy\",\n",
        "\"House\",\n",
        "\"Learn\",\n",
        "\"Left\",\n",
        "\"Marvin\",\n",
        "\"Nine\",\n",
        "\"No\",\n",
        "\"Off\",\n",
        "\"On\",\n",
        "\"One\",\n",
        "\"Right\",\n",
        "\"Seven\",\n",
        "\"Sheila\",\n",
        "\"Six\",\n",
        "\"Stop\",\n",
        "\"Three\",\n",
        "\"Tree\",\n",
        "\"Two\",\n",
        "\"Up\",\n",
        "\"Visual\",\n",
        "\"Wow\",\n",
        "\"Yes\",\n",
        "\"Zero\"]\n",
        "speech_dict = {k.lower():v for v,k in enumerate(speech_labels)}"
      ],
      "metadata": {
        "id": "Ai12q4TInTbg"
      },
      "execution_count": 3,
      "outputs": []
    },
    {
      "cell_type": "markdown",
      "source": [
        "# Usemos Convolucion 1D para speech recognition"
      ],
      "metadata": {
        "id": "DLex8xjlc3lc"
      }
    },
    {
      "cell_type": "markdown",
      "source": [
        "Preparando el Dataset"
      ],
      "metadata": {
        "id": "xBL1mkx4T_bz"
      }
    },
    {
      "cell_type": "code",
      "source": [
        "class MyDataset(torch.utils.data.Dataset):\n",
        "  def __init__(self,raw_data):\n",
        "    self.raw_data = raw_data\n",
        "    self.resampling = torchaudio.transforms.Resample(new_freq=8000)\n",
        "  \n",
        "  def __len__(self):\n",
        "    return len(self.raw_data)\n",
        "  \n",
        "  def __getitem__(self,idx):\n",
        "    x, _, y, _, _ = self.raw_data[idx]\n",
        "    C, L = x.shape\n",
        "    if L!=16000:\n",
        "      x = F.pad(x,(0,16000 - L),mode=\"constant\",value=0.0)\n",
        "    return self.resampling(x), speech_dict[y]"
      ],
      "metadata": {
        "id": "CKzQSTPaykfl"
      },
      "execution_count": 4,
      "outputs": []
    },
    {
      "cell_type": "code",
      "metadata": {
        "id": "DinPwqWLyzKH"
      },
      "source": [
        "train_ds = MyDataset(sc_train_ds)\n",
        "test_ds = MyDataset(sc_test_ds)"
      ],
      "execution_count": 58,
      "outputs": []
    },
    {
      "cell_type": "code",
      "source": [
        "x, l = next(iter(train_ds))"
      ],
      "metadata": {
        "id": "Ka_m4N8AYaaI"
      },
      "execution_count": 6,
      "outputs": []
    },
    {
      "cell_type": "code",
      "source": [
        "x.shape"
      ],
      "metadata": {
        "colab": {
          "base_uri": "https://localhost:8080/"
        },
        "id": "vJVJUNfXY2q7",
        "outputId": "f3d12168-448f-47cb-9f33-20401f287ed1"
      },
      "execution_count": 7,
      "outputs": [
        {
          "output_type": "execute_result",
          "data": {
            "text/plain": [
              "torch.Size([1, 8000])"
            ]
          },
          "metadata": {},
          "execution_count": 7
        }
      ]
    },
    {
      "cell_type": "code",
      "source": [
        "plt.plot(x.numpy().reshape(-1))"
      ],
      "metadata": {
        "colab": {
          "base_uri": "https://localhost:8080/",
          "height": 282
        },
        "id": "azYO9t5uYcsN",
        "outputId": "20d1463b-324a-4f92-a920-15b6e054de8a"
      },
      "execution_count": 8,
      "outputs": [
        {
          "output_type": "execute_result",
          "data": {
            "text/plain": [
              "[<matplotlib.lines.Line2D at 0x7f002280e290>]"
            ]
          },
          "metadata": {},
          "execution_count": 8
        },
        {
          "output_type": "display_data",
          "data": {
            "image/png": "[encoded data removed]",
            "text/plain": [
              "<Figure size 432x288 with 1 Axes>"
            ]
          },
          "metadata": {
            "needs_background": "light"
          }
        }
      ]
    },
    {
      "cell_type": "markdown",
      "source": [
        "Creamos nuestro DataLoader"
      ],
      "metadata": {
        "id": "apwz562yUUb_"
      }
    },
    {
      "cell_type": "code",
      "metadata": {
        "id": "aRNJe5Fny4zy"
      },
      "source": [
        "train_dl = torch.utils.data.DataLoader(train_ds, batch_size=32,shuffle=True)\n",
        "test_dl = torch.utils.data.DataLoader(test_ds, batch_size=32,shuffle=True)"
      ],
      "execution_count": 9,
      "outputs": []
    },
    {
      "cell_type": "markdown",
      "source": [
        "Definamos nuestro modelo"
      ],
      "metadata": {
        "id": "-1G8A4f5UWrl"
      }
    },
    {
      "cell_type": "code",
      "source": [
        "for x,y in test_dl:\n",
        "  print(x.shape)\n",
        "  print(y)\n",
        "  break"
      ],
      "metadata": {
        "colab": {
          "base_uri": "https://localhost:8080/"
        },
        "id": "s6obBGTWUeJV",
        "outputId": "a33e2c85-e829-476d-8efb-c4440af881c1"
      },
      "execution_count": 10,
      "outputs": [
        {
          "output_type": "stream",
          "name": "stdout",
          "text": [
            "torch.Size([32, 1, 8000])\n",
            "tensor([25, 10, 12,  1,  6,  2,  3, 32,  8, 19, 29, 26, 30, 27, 30,  6, 21, 22,\n",
            "        15, 20, 30,  9, 20, 21, 25, 33, 26,  6, 20, 15, 13, 11])\n"
          ]
        }
      ]
    },
    {
      "cell_type": "code",
      "source": [
        "dev = torch.device(\"cuda:0\" if torch.cuda.is_available() else \"cpu\")"
      ],
      "metadata": {
        "id": "cWvxRw4OVgNY"
      },
      "execution_count": 11,
      "outputs": []
    },
    {
      "cell_type": "code",
      "source": [
        "model = nn.Sequential(\n",
        "    nn.Conv1d(1,32,100,stride=40,bias=False),\n",
        "    nn.BatchNorm1d(32),\n",
        "    nn.ReLU(inplace=True),\n",
        "    nn.Conv1d(32,64,3,bias=False),\n",
        "    nn.BatchNorm1d(64),\n",
        "    nn.ReLU(inplace=True),\n",
        "    nn.MaxPool1d(4),\n",
        "    nn.Conv1d(64,64,3,bias=False),\n",
        "    nn.BatchNorm1d(64),\n",
        "    nn.ReLU(inplace=True),\n",
        "    nn.MaxPool1d(4),\n",
        "    nn.Flatten(),\n",
        "    nn.Linear(64*11,35)\n",
        ").to(dev)"
      ],
      "metadata": {
        "id": "UsH_VRc0UTwc"
      },
      "execution_count": 55,
      "outputs": []
    },
    {
      "cell_type": "markdown",
      "source": [
        "Entrenando nuestro modelo"
      ],
      "metadata": {
        "id": "HnZt_Z-ucxnk"
      }
    },
    {
      "cell_type": "code",
      "source": [
        "def evaluate(model, loader, crit):\n",
        "  model.eval()\n",
        "  total = 0\n",
        "  corrects = 0\n",
        "  avg_loss = 0\n",
        "  for x, y in loader:\n",
        "    x = x.to(dev)\n",
        "    y = y.to(dev)\n",
        "    o = model(x)\n",
        "    loss = crit(o,y)\n",
        "    avg_loss += loss.item()\n",
        "    corrects += torch.sum(torch.argmax(o,axis=1) == y).item()\n",
        "    total += len(y)\n",
        "  acc = 100* corrects / total\n",
        "  avg_loss /= len(loader)  \n",
        "  return avg_loss, acc\n",
        "\n",
        "def train_one_epoch(model, train_loader, crit, optim):\n",
        "  model.train()\n",
        "  total = 0\n",
        "  corrects = 0\n",
        "  avg_loss = 0\n",
        "  for x, y in train_loader:\n",
        "    optim.zero_grad()\n",
        "    x = x.to(dev)\n",
        "    y = y.to(dev)\n",
        "    o = model(x)\n",
        "    loss = crit(o,y)\n",
        "    avg_loss += loss.item()\n",
        "    loss.backward()\n",
        "    optim.step()\n",
        "    corrects += torch.sum(torch.argmax(o,axis=1) == y).item()\n",
        "    total += len(y)\n",
        "  acc = 100 * corrects / total\n",
        "  avg_loss /= len(train_loader)\n",
        "  return avg_loss, acc\n",
        "\n",
        "def train(model, train_loader, test_loader, crit, optim, epochs = 20):\n",
        "  for epoch in range(epochs):\n",
        "    train_loss, train_acc = train_one_epoch(model, train_loader,crit, optim)\n",
        "    test_loss, test_acc = evaluate(model, test_loader, crit)\n",
        "    print(f\"epoch: {epoch}, train loss: {train_loss}, train acc: {train_acc}%, test loss: {test_loss}, test acc: {test_acc}%\")"
      ],
      "metadata": {
        "id": "Q9UpJeDvVNw5"
      },
      "execution_count": 13,
      "outputs": []
    },
    {
      "cell_type": "code",
      "source": [
        "crit = nn.CrossEntropyLoss()\n",
        "optim = torch.optim.SGD(model.parameters(),lr=0.1)\n",
        "train(model,train_dl, test_dl, crit,optim,epochs=10)"
      ],
      "metadata": {
        "colab": {
          "base_uri": "https://localhost:8080/"
        },
        "id": "l8dNRLoHV2G0",
        "outputId": "c3128682-f7b2-4ef7-f3e0-b2fb80e631b2"
      },
      "execution_count": 14,
      "outputs": [
        {
          "output_type": "stream",
          "name": "stdout",
          "text": [
            "epoch: 0, train loss: 2.377115792009086, train acc: 33.67396249543274%, test loss: 1.8036279144675234, test acc: 49.650159018627896%\n",
            "epoch: 1, train loss: 1.5196780640390304, train acc: 57.2033049279257%, test loss: 1.5720648687592773, test acc: 55.0658791458428%\n",
            "epoch: 2, train loss: 1.221843374923973, train acc: 65.6919250851573%, test loss: 1.2592223208657531, test acc: 63.752839618355296%\n",
            "epoch: 3, train loss: 1.0550669895577753, train acc: 70.26154190681612%, test loss: 1.1218896626039994, test acc: 69.45933666515221%\n",
            "epoch: 4, train loss: 0.9515540603081925, train acc: 73.23644849899226%, test loss: 0.9969441804948241, test acc: 71.84915947296683%\n",
            "epoch: 5, train loss: 0.8832956628135067, train acc: 75.04449394764447%, test loss: 1.0640648035115974, test acc: 71.20399818264426%\n",
            "epoch: 6, train loss: 0.8276392451317511, train acc: 76.5071956437184%, test loss: 1.5212935529822527, test acc: 62.63516583371195%\n",
            "epoch: 7, train loss: 0.7811935854848154, train acc: 77.6728781396226%, test loss: 0.9609303033455859, test acc: 73.94820536119946%\n",
            "epoch: 8, train loss: 0.7536020690117307, train acc: 78.31877703522977%, test loss: 0.9060279745175395, test acc: 75.84734211721944%\n",
            "epoch: 9, train loss: 0.7277489917220753, train acc: 79.1061136452035%, test loss: 0.8438931368724552, test acc: 76.61063153112222%\n"
          ]
        }
      ]
    },
    {
      "cell_type": "code",
      "source": [
        "torch.save(model.state_dict(),\"speech_commnad_model_conv1d.ckpt\")"
      ],
      "metadata": {
        "id": "nQVQzyx4act1"
      },
      "execution_count": 15,
      "outputs": []
    },
    {
      "cell_type": "code",
      "source": [
        "model.load_state_dict(torch.load(\"speech_commnad_model_conv1d.ckpt\"))\n",
        "model.eval()"
      ],
      "metadata": {
        "colab": {
          "base_uri": "https://localhost:8080/"
        },
        "id": "_pnK41VgmHKP",
        "outputId": "4a5e1e2e-ca28-4dbb-d572-84c356d7c7b8"
      },
      "execution_count": 73,
      "outputs": [
        {
          "output_type": "execute_result",
          "data": {
            "text/plain": [
              "Sequential(\n",
              "  (0): Conv1d(1, 32, kernel_size=(100,), stride=(40,), bias=False)\n",
              "  (1): BatchNorm1d(32, eps=1e-05, momentum=0.1, affine=True, track_running_stats=True)\n",
              "  (2): ReLU(inplace=True)\n",
              "  (3): Conv1d(32, 64, kernel_size=(3,), stride=(1,), bias=False)\n",
              "  (4): BatchNorm1d(64, eps=1e-05, momentum=0.1, affine=True, track_running_stats=True)\n",
              "  (5): ReLU(inplace=True)\n",
              "  (6): MaxPool1d(kernel_size=4, stride=4, padding=0, dilation=1, ceil_mode=False)\n",
              "  (7): Conv1d(64, 64, kernel_size=(3,), stride=(1,), bias=False)\n",
              "  (8): BatchNorm1d(64, eps=1e-05, momentum=0.1, affine=True, track_running_stats=True)\n",
              "  (9): ReLU(inplace=True)\n",
              "  (10): MaxPool1d(kernel_size=4, stride=4, padding=0, dilation=1, ceil_mode=False)\n",
              "  (11): Flatten(start_dim=1, end_dim=-1)\n",
              "  (12): Linear(in_features=704, out_features=35, bias=True)\n",
              ")"
            ]
          },
          "metadata": {},
          "execution_count": 73
        }
      ]
    },
    {
      "cell_type": "code",
      "source": [
        "idx = 2020\n",
        "audio_ = Audio(data=sc_train_ds[idx][0][0].numpy(),rate=16000)\n",
        "pred = torch.argmax(model(train_ds[idx][0].reshape(1,1,8000).to(dev)).cpu(),axis=1)[0].item()\n",
        "print(speech_labels[pred])\n",
        "display(audio_)"
      ],
      "metadata": {
        "colab": {
          "base_uri": "https://localhost:8080/",
          "height": 93
        },
        "id": "nhBf3o4UlA0D",
        "outputId": "4c880cfd-8d8a-4f9e-934b-74acb420501f"
      },
      "execution_count": 75,
      "outputs": [
        {
          "output_type": "stream",
          "name": "stdout",
          "text": [
            "Bed\n"
          ]
        },
        {
          "output_type": "display_data",
          "data": {
            "text/html": [
              "\n",
              "                <audio controls=\"controls\" >\n",
              "                    <source src=\"data:audio/wav;base64,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\" type=\"audio/wav\" />\n",
              "                    Your browser does not support the audio element.\n",
              "                </audio>\n",
              "              "
            ],
            "text/plain": [
              "<IPython.lib.display.Audio object>"
            ]
          },
          "metadata": {}
        }
      ]
    },
    {
      "cell_type": "code",
      "source": [
        ""
      ],
      "metadata": {
        "id": "QhMVygiglVA1"
      },
      "execution_count": null,
      "outputs": []
    },
    {
      "cell_type": "markdown",
      "source": [
        "# Usemos Espectrogramas y Convolucion 2D para speech recognition"
      ],
      "metadata": {
        "id": "Mi2Lm4i5c92N"
      }
    },
    {
      "cell_type": "code",
      "source": [
        "count = 0\n",
        "idx = 0\n",
        "fig, axs = plt.subplots(2,2)\n",
        "for x, l in test_ds:\n",
        "  if l ==idx :\n",
        "    print(speech_labels[l])\n",
        "    print(x.shape)\n",
        "    N, l = x.shape\n",
        "    y = torchaudio.transforms.Spectrogram(n_fft=160)(x)\n",
        "    I=np.log(y[0].numpy() + 1e-5)\n",
        "    print(np.min(I))\n",
        "    axs[count,0].imshow(I)\n",
        "    axs[count,1].plot(x[0].numpy())\n",
        "    count += 1\n",
        "    if count == 2:\n",
        "      break"
      ],
      "metadata": {
        "colab": {
          "base_uri": "https://localhost:8080/",
          "height": 373
        },
        "id": "1ensKRvcZZs9",
        "outputId": "0ddb2052-72a7-4fe6-d09d-46e1161330ed"
      },
      "execution_count": 16,
      "outputs": [
        {
          "output_type": "stream",
          "name": "stdout",
          "text": [
            "Backward\n",
            "torch.Size([1, 8000])\n",
            "-11.512923\n",
            "Backward\n",
            "torch.Size([1, 8000])\n",
            "-11.512925\n"
          ]
        },
        {
          "output_type": "display_data",
          "data": {
            "image/png": "[encoded data removed]",
            "text/plain": [
              "<Figure size 432x288 with 4 Axes>"
            ]
          },
          "metadata": {
            "needs_background": "light"
          }
        }
      ]
    },
    {
      "cell_type": "markdown",
      "source": [
        "Definamos nuestro dataset"
      ],
      "metadata": {
        "id": "GllbOQEndEZN"
      }
    },
    {
      "cell_type": "code",
      "source": [
        "class MySpectrogramDataset(torch.utils.data.Dataset):\n",
        "  def __init__(self,raw_data):\n",
        "    self.raw_data = raw_data\n",
        "    self.resampling = torchaudio.transforms.Resample(new_freq=8000)\n",
        "    self.spectrogram = torchaudio.transforms.Spectrogram(n_fft=160)\n",
        "  \n",
        "  def __len__(self):\n",
        "    return len(self.raw_data)\n",
        "  \n",
        "  def __getitem__(self,idx):\n",
        "    x, _, y, _, _ = self.raw_data[idx]\n",
        "    C, L = x.shape\n",
        "    if L!=16000:\n",
        "      x = F.pad(x,(0,16000 - L),mode=\"constant\",value=0.0)\n",
        "    return self.spectrogram(self.resampling(x)), speech_dict[y]"
      ],
      "metadata": {
        "id": "V1RRSe75WIsD"
      },
      "execution_count": 17,
      "outputs": []
    },
    {
      "cell_type": "code",
      "source": [
        "train_ds = MySpectrogramDataset(sc_train_ds)\n",
        "test_ds = MySpectrogramDataset(sc_test_ds)"
      ],
      "metadata": {
        "id": "jmOCPXDZZYaK"
      },
      "execution_count": 78,
      "outputs": []
    },
    {
      "cell_type": "markdown",
      "source": [
        "Preparemos nuestro dataloader"
      ],
      "metadata": {
        "id": "cdciEnTVdHDl"
      }
    },
    {
      "cell_type": "code",
      "source": [
        "train_dl = torch.utils.data.DataLoader(train_ds,batch_size=32,shuffle=True)\n",
        "test_dl = torch.utils.data.DataLoader(test_ds,batch_size=32,shuffle=True)"
      ],
      "metadata": {
        "id": "A42dBg9wZw6t"
      },
      "execution_count": 19,
      "outputs": []
    },
    {
      "cell_type": "markdown",
      "source": [
        "Definamos nuestro modelo"
      ],
      "metadata": {
        "id": "X1pIlT-KdI-7"
      }
    },
    {
      "cell_type": "code",
      "source": [
        "model = nn.Sequential(\n",
        "  nn.Conv2d(1,16,7,bias=False),\n",
        "  nn.BatchNorm2d(16),\n",
        "  nn.ReLU(inplace=True),\n",
        "  nn.MaxPool2d(2),\n",
        "  nn.Conv2d(16,32,3,bias=False),\n",
        "  nn.BatchNorm2d(32),\n",
        "  nn.ReLU(inplace=True),\n",
        "  nn.MaxPool2d(2),\n",
        "  nn.Conv2d(32,64,3,bias=False),\n",
        "  nn.BatchNorm2d(64),\n",
        "  nn.ReLU(inplace=True),\n",
        "  nn.MaxPool2d(2),\n",
        "  nn.Conv2d(64,64,3,bias=False),\n",
        "  nn.BatchNorm2d(64),\n",
        "  nn.ReLU(inplace=True),\n",
        "  nn.MaxPool2d(2),\n",
        "  nn.Flatten(),\n",
        "  nn.Linear(64*8,35)\n",
        ").to(dev)"
      ],
      "metadata": {
        "id": "asPKieeqaU9b"
      },
      "execution_count": 76,
      "outputs": []
    },
    {
      "cell_type": "markdown",
      "source": [
        "Entrenemos nuestro modelo"
      ],
      "metadata": {
        "id": "5Xx6rZUMdK7x"
      }
    },
    {
      "cell_type": "code",
      "source": [
        "crit = nn.CrossEntropyLoss()\n",
        "optim = torch.optim.SGD(model.parameters(),lr=0.1)\n",
        "train(model,train_dl, test_dl, crit,optim,epochs=10)"
      ],
      "metadata": {
        "colab": {
          "base_uri": "https://localhost:8080/"
        },
        "id": "xtlfB-4AcO_k",
        "outputId": "8db53d68-879a-437c-eae0-8373409d775b"
      },
      "execution_count": 25,
      "outputs": [
        {
          "output_type": "stream",
          "name": "stdout",
          "text": [
            "epoch: 0, train loss: 1.8738873636583218, train acc: 47.08461511261978%, test loss: 3.785495261813319, test acc: 16.583371194911404%\n",
            "epoch: 1, train loss: 0.9291191263795798, train acc: 73.34016948952771%, test loss: 2.3057779603919317, test acc: 37.900954111767376%\n",
            "epoch: 2, train loss: 0.7054947461444059, train acc: 79.59878835024692%, test loss: 2.1324095043332076, test acc: 39.436619718309856%\n",
            "epoch: 3, train loss: 0.5932417686433049, train acc: 82.81649635208562%, test loss: 2.0738513338011364, test acc: 41.49023171285779%\n",
            "epoch: 4, train loss: 0.5246588598001259, train acc: 84.76597951510436%, test loss: 2.3492763278096223, test acc: 43.44388914129941%\n",
            "epoch: 5, train loss: 0.4911858556106642, train acc: 85.62521362988107%, test loss: 2.3227659356455472, test acc: 38.95502044525216%\n",
            "epoch: 6, train loss: 0.4443840169408225, train acc: 86.97947974494066%, test loss: 1.895372542357722, test acc: 48.178100863243984%\n",
            "epoch: 7, train loss: 0.45305606227390594, train acc: 86.75082210671475%, test loss: 1.8429146246161572, test acc: 48.29622898682417%\n",
            "epoch: 8, train loss: 0.44413136896364064, train acc: 86.8592576877291%, test loss: 3.132455192333044, test acc: 28.187187641980916%\n",
            "epoch: 9, train loss: 0.3695395884049992, train acc: 89.04918496517097%, test loss: 1.8253535063460815, test acc: 50.985915492957744%\n"
          ]
        }
      ]
    },
    {
      "cell_type": "code",
      "source": [
        "torch.save(model.state_dict(),\"speech_command_model_spectrogram.ckpt\")"
      ],
      "metadata": {
        "id": "aFKYUwWEccEU"
      },
      "execution_count": 26,
      "outputs": []
    },
    {
      "cell_type": "code",
      "source": [
        "model.load_state_dict(torch.load(\"speech_command_model_spectrogram.ckpt\"))\n",
        "model.eval()"
      ],
      "metadata": {
        "colab": {
          "base_uri": "https://localhost:8080/"
        },
        "id": "DWpoGkP0m2l9",
        "outputId": "7f13824b-0d1c-44a2-9243-500121b0e8d4"
      },
      "execution_count": 77,
      "outputs": [
        {
          "output_type": "execute_result",
          "data": {
            "text/plain": [
              "Sequential(\n",
              "  (0): Conv2d(1, 16, kernel_size=(7, 7), stride=(1, 1), bias=False)\n",
              "  (1): BatchNorm2d(16, eps=1e-05, momentum=0.1, affine=True, track_running_stats=True)\n",
              "  (2): ReLU(inplace=True)\n",
              "  (3): MaxPool2d(kernel_size=2, stride=2, padding=0, dilation=1, ceil_mode=False)\n",
              "  (4): Conv2d(16, 32, kernel_size=(3, 3), stride=(1, 1), bias=False)\n",
              "  (5): BatchNorm2d(32, eps=1e-05, momentum=0.1, affine=True, track_running_stats=True)\n",
              "  (6): ReLU(inplace=True)\n",
              "  (7): MaxPool2d(kernel_size=2, stride=2, padding=0, dilation=1, ceil_mode=False)\n",
              "  (8): Conv2d(32, 64, kernel_size=(3, 3), stride=(1, 1), bias=False)\n",
              "  (9): BatchNorm2d(64, eps=1e-05, momentum=0.1, affine=True, track_running_stats=True)\n",
              "  (10): ReLU(inplace=True)\n",
              "  (11): MaxPool2d(kernel_size=2, stride=2, padding=0, dilation=1, ceil_mode=False)\n",
              "  (12): Conv2d(64, 64, kernel_size=(3, 3), stride=(1, 1), bias=False)\n",
              "  (13): BatchNorm2d(64, eps=1e-05, momentum=0.1, affine=True, track_running_stats=True)\n",
              "  (14): ReLU(inplace=True)\n",
              "  (15): MaxPool2d(kernel_size=2, stride=2, padding=0, dilation=1, ceil_mode=False)\n",
              "  (16): Flatten(start_dim=1, end_dim=-1)\n",
              "  (17): Linear(in_features=512, out_features=35, bias=True)\n",
              ")"
            ]
          },
          "metadata": {},
          "execution_count": 77
        }
      ]
    },
    {
      "cell_type": "code",
      "source": [
        "idx = 2001\n",
        "audio_ = Audio(data=sc_train_ds[idx][0][0].numpy(),rate=16000)\n",
        "pred = torch.argmax(model(train_ds[idx][0].reshape(1,1,81,101).to(dev)).cpu(),axis=1)[0].item()\n",
        "print(speech_labels[pred])\n",
        "display(audio_)"
      ],
      "metadata": {
        "colab": {
          "base_uri": "https://localhost:8080/",
          "height": 93
        },
        "id": "XhVYfHj9juJG",
        "outputId": "a0c80080-7ca5-482b-cfea-c295caa2b2d3"
      },
      "execution_count": 82,
      "outputs": [
        {
          "output_type": "stream",
          "name": "stdout",
          "text": [
            "Bird\n"
          ]
        },
        {
          "output_type": "display_data",
          "data": {
            "text/html": [
              "\n",
              "                <audio controls=\"controls\" >\n",
              "                    <source src=\"data:audio/wav;base64,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\" type=\"audio/wav\" />\n",
              "                    Your browser does not support the audio element.\n",
              "                </audio>\n",
              "              "
            ],
            "text/plain": [
              "<IPython.lib.display.Audio object>"
            ]
          },
          "metadata": {}
        }
      ]
    },
    {
      "cell_type": "markdown",
      "source": [
        "Usando LSTM (Long-Short term memory) para speech recognition"
      ],
      "metadata": {
        "id": "HyJ1aLF8dOhc"
      }
    }
  ]
}