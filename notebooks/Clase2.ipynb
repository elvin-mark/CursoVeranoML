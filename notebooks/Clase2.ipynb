{
  "nbformat": 4,
  "nbformat_minor": 0,
  "metadata": {
    "colab": {
      "name": "Clase2.ipynb",
      "provenance": [],
      "collapsed_sections": [
        "PgnERHnoAy3t"
      ]
    },
    "kernelspec": {
      "name": "python3",
      "display_name": "Python 3"
    },
    "language_info": {
      "name": "python"
    },
    "accelerator": "GPU",
    "widgets": {
      "application/vnd.jupyter.widget-state+json": {
        "d6434cd897f34ee0a92f52ce877ef031": {
          "model_module": "@jupyter-widgets/controls",
          "model_name": "HBoxModel",
          "model_module_version": "1.5.0",
          "state": {
            "_view_name": "HBoxView",
            "_dom_classes": [],
            "_model_name": "HBoxModel",
            "_view_module": "@jupyter-widgets/controls",
            "_model_module_version": "1.5.0",
            "_view_count": null,
            "_view_module_version": "1.5.0",
            "box_style": "",
            "layout": "IPY_MODEL_8d11892b9e2d489b8ca216aefc324efe",
            "_model_module": "@jupyter-widgets/controls",
            "children": [
              "IPY_MODEL_04fae51013fd480cad4a675202f68931",
              "IPY_MODEL_deb0334cf2f34efc9e6ed9939d40570c",
              "IPY_MODEL_4b31f11ccbe84f21b81b53de551535e2"
            ]
          }
        },
        "8d11892b9e2d489b8ca216aefc324efe": {
          "model_module": "@jupyter-widgets/base",
          "model_name": "LayoutModel",
          "model_module_version": "1.2.0",
          "state": {
            "_view_name": "LayoutView",
            "grid_template_rows": null,
            "right": null,
            "justify_content": null,
            "_view_module": "@jupyter-widgets/base",
            "overflow": null,
            "_model_module_version": "1.2.0",
            "_view_count": null,
            "flex_flow": null,
            "width": null,
            "min_width": null,
            "border": null,
            "align_items": null,
            "bottom": null,
            "_model_module": "@jupyter-widgets/base",
            "top": null,
            "grid_column": null,
            "overflow_y": null,
            "overflow_x": null,
            "grid_auto_flow": null,
            "grid_area": null,
            "grid_template_columns": null,
            "flex": null,
            "_model_name": "LayoutModel",
            "justify_items": null,
            "grid_row": null,
            "max_height": null,
            "align_content": null,
            "visibility": null,
            "align_self": null,
            "height": null,
            "min_height": null,
            "padding": null,
            "grid_auto_rows": null,
            "grid_gap": null,
            "max_width": null,
            "order": null,
            "_view_module_version": "1.2.0",
            "grid_template_areas": null,
            "object_position": null,
            "object_fit": null,
            "grid_auto_columns": null,
            "margin": null,
            "display": null,
            "left": null
          }
        },
        "04fae51013fd480cad4a675202f68931": {
          "model_module": "@jupyter-widgets/controls",
          "model_name": "HTMLModel",
          "model_module_version": "1.5.0",
          "state": {
            "_view_name": "HTMLView",
            "style": "IPY_MODEL_e331a43179a64a38848991b3cf2da817",
            "_dom_classes": [],
            "description": "",
            "_model_name": "HTMLModel",
            "placeholder": "​",
            "_view_module": "@jupyter-widgets/controls",
            "_model_module_version": "1.5.0",
            "value": "",
            "_view_count": null,
            "_view_module_version": "1.5.0",
            "description_tooltip": null,
            "_model_module": "@jupyter-widgets/controls",
            "layout": "IPY_MODEL_923f171f74624c3e9556335c7a52ae77"
          }
        },
        "deb0334cf2f34efc9e6ed9939d40570c": {
          "model_module": "@jupyter-widgets/controls",
          "model_name": "FloatProgressModel",
          "model_module_version": "1.5.0",
          "state": {
            "_view_name": "ProgressView",
            "style": "IPY_MODEL_dd2eb39b62f64b0d856b9a5137b9a196",
            "_dom_classes": [],
            "description": "",
            "_model_name": "FloatProgressModel",
            "bar_style": "success",
            "max": 170498071,
            "_view_module": "@jupyter-widgets/controls",
            "_model_module_version": "1.5.0",
            "value": 170498071,
            "_view_count": null,
            "_view_module_version": "1.5.0",
            "orientation": "horizontal",
            "min": 0,
            "description_tooltip": null,
            "_model_module": "@jupyter-widgets/controls",
            "layout": "IPY_MODEL_40515b3fc45748ed9ddd083bd9a17793"
          }
        },
        "4b31f11ccbe84f21b81b53de551535e2": {
          "model_module": "@jupyter-widgets/controls",
          "model_name": "HTMLModel",
          "model_module_version": "1.5.0",
          "state": {
            "_view_name": "HTMLView",
            "style": "IPY_MODEL_42055d63021e48d187896563d7a07f50",
            "_dom_classes": [],
            "description": "",
            "_model_name": "HTMLModel",
            "placeholder": "​",
            "_view_module": "@jupyter-widgets/controls",
            "_model_module_version": "1.5.0",
            "value": " 170499072/? [00:04&lt;00:00, 62887933.39it/s]",
            "_view_count": null,
            "_view_module_version": "1.5.0",
            "description_tooltip": null,
            "_model_module": "@jupyter-widgets/controls",
            "layout": "IPY_MODEL_20729b789bec4c8b98ba74c722ef70b3"
          }
        },
        "e331a43179a64a38848991b3cf2da817": {
          "model_module": "@jupyter-widgets/controls",
          "model_name": "DescriptionStyleModel",
          "model_module_version": "1.5.0",
          "state": {
            "_view_name": "StyleView",
            "_model_name": "DescriptionStyleModel",
            "description_width": "",
            "_view_module": "@jupyter-widgets/base",
            "_model_module_version": "1.5.0",
            "_view_count": null,
            "_view_module_version": "1.2.0",
            "_model_module": "@jupyter-widgets/controls"
          }
        },
        "923f171f74624c3e9556335c7a52ae77": {
          "model_module": "@jupyter-widgets/base",
          "model_name": "LayoutModel",
          "model_module_version": "1.2.0",
          "state": {
            "_view_name": "LayoutView",
            "grid_template_rows": null,
            "right": null,
            "justify_content": null,
            "_view_module": "@jupyter-widgets/base",
            "overflow": null,
            "_model_module_version": "1.2.0",
            "_view_count": null,
            "flex_flow": null,
            "width": null,
            "min_width": null,
            "border": null,
            "align_items": null,
            "bottom": null,
            "_model_module": "@jupyter-widgets/base",
            "top": null,
            "grid_column": null,
            "overflow_y": null,
            "overflow_x": null,
            "grid_auto_flow": null,
            "grid_area": null,
            "grid_template_columns": null,
            "flex": null,
            "_model_name": "LayoutModel",
            "justify_items": null,
            "grid_row": null,
            "max_height": null,
            "align_content": null,
            "visibility": null,
            "align_self": null,
            "height": null,
            "min_height": null,
            "padding": null,
            "grid_auto_rows": null,
            "grid_gap": null,
            "max_width": null,
            "order": null,
            "_view_module_version": "1.2.0",
            "grid_template_areas": null,
            "object_position": null,
            "object_fit": null,
            "grid_auto_columns": null,
            "margin": null,
            "display": null,
            "left": null
          }
        },
        "dd2eb39b62f64b0d856b9a5137b9a196": {
          "model_module": "@jupyter-widgets/controls",
          "model_name": "ProgressStyleModel",
          "model_module_version": "1.5.0",
          "state": {
            "_view_name": "StyleView",
            "_model_name": "ProgressStyleModel",
            "description_width": "",
            "_view_module": "@jupyter-widgets/base",
            "_model_module_version": "1.5.0",
            "_view_count": null,
            "_view_module_version": "1.2.0",
            "bar_color": null,
            "_model_module": "@jupyter-widgets/controls"
          }
        },
        "40515b3fc45748ed9ddd083bd9a17793": {
          "model_module": "@jupyter-widgets/base",
          "model_name": "LayoutModel",
          "model_module_version": "1.2.0",
          "state": {
            "_view_name": "LayoutView",
            "grid_template_rows": null,
            "right": null,
            "justify_content": null,
            "_view_module": "@jupyter-widgets/base",
            "overflow": null,
            "_model_module_version": "1.2.0",
            "_view_count": null,
            "flex_flow": null,
            "width": null,
            "min_width": null,
            "border": null,
            "align_items": null,
            "bottom": null,
            "_model_module": "@jupyter-widgets/base",
            "top": null,
            "grid_column": null,
            "overflow_y": null,
            "overflow_x": null,
            "grid_auto_flow": null,
            "grid_area": null,
            "grid_template_columns": null,
            "flex": null,
            "_model_name": "LayoutModel",
            "justify_items": null,
            "grid_row": null,
            "max_height": null,
            "align_content": null,
            "visibility": null,
            "align_self": null,
            "height": null,
            "min_height": null,
            "padding": null,
            "grid_auto_rows": null,
            "grid_gap": null,
            "max_width": null,
            "order": null,
            "_view_module_version": "1.2.0",
            "grid_template_areas": null,
            "object_position": null,
            "object_fit": null,
            "grid_auto_columns": null,
            "margin": null,
            "display": null,
            "left": null
          }
        },
        "42055d63021e48d187896563d7a07f50": {
          "model_module": "@jupyter-widgets/controls",
          "model_name": "DescriptionStyleModel",
          "model_module_version": "1.5.0",
          "state": {
            "_view_name": "StyleView",
            "_model_name": "DescriptionStyleModel",
            "description_width": "",
            "_view_module": "@jupyter-widgets/base",
            "_model_module_version": "1.5.0",
            "_view_count": null,
            "_view_module_version": "1.2.0",
            "_model_module": "@jupyter-widgets/controls"
          }
        },
        "20729b789bec4c8b98ba74c722ef70b3": {
          "model_module": "@jupyter-widgets/base",
          "model_name": "LayoutModel",
          "model_module_version": "1.2.0",
          "state": {
            "_view_name": "LayoutView",
            "grid_template_rows": null,
            "right": null,
            "justify_content": null,
            "_view_module": "@jupyter-widgets/base",
            "overflow": null,
            "_model_module_version": "1.2.0",
            "_view_count": null,
            "flex_flow": null,
            "width": null,
            "min_width": null,
            "border": null,
            "align_items": null,
            "bottom": null,
            "_model_module": "@jupyter-widgets/base",
            "top": null,
            "grid_column": null,
            "overflow_y": null,
            "overflow_x": null,
            "grid_auto_flow": null,
            "grid_area": null,
            "grid_template_columns": null,
            "flex": null,
            "_model_name": "LayoutModel",
            "justify_items": null,
            "grid_row": null,
            "max_height": null,
            "align_content": null,
            "visibility": null,
            "align_self": null,
            "height": null,
            "min_height": null,
            "padding": null,
            "grid_auto_rows": null,
            "grid_gap": null,
            "max_width": null,
            "order": null,
            "_view_module_version": "1.2.0",
            "grid_template_areas": null,
            "object_position": null,
            "object_fit": null,
            "grid_auto_columns": null,
            "margin": null,
            "display": null,
            "left": null
          }
        },
        "ededf0f922b246418e2d4d0d7b950f72": {
          "model_module": "@jupyter-widgets/controls",
          "model_name": "HBoxModel",
          "model_module_version": "1.5.0",
          "state": {
            "_view_name": "HBoxView",
            "_dom_classes": [],
            "_model_name": "HBoxModel",
            "_view_module": "@jupyter-widgets/controls",
            "_model_module_version": "1.5.0",
            "_view_count": null,
            "_view_module_version": "1.5.0",
            "box_style": "",
            "layout": "IPY_MODEL_2a54fc15c3014f469367a1de03193778",
            "_model_module": "@jupyter-widgets/controls",
            "children": [
              "IPY_MODEL_b650d1f94baf4362aa2f5659fb285a99",
              "IPY_MODEL_1bf1e7db411441cab081d610e2c36977",
              "IPY_MODEL_3558759f965043daa88ad44bec511745"
            ]
          }
        },
        "2a54fc15c3014f469367a1de03193778": {
          "model_module": "@jupyter-widgets/base",
          "model_name": "LayoutModel",
          "model_module_version": "1.2.0",
          "state": {
            "_view_name": "LayoutView",
            "grid_template_rows": null,
            "right": null,
            "justify_content": null,
            "_view_module": "@jupyter-widgets/base",
            "overflow": null,
            "_model_module_version": "1.2.0",
            "_view_count": null,
            "flex_flow": null,
            "width": null,
            "min_width": null,
            "border": null,
            "align_items": null,
            "bottom": null,
            "_model_module": "@jupyter-widgets/base",
            "top": null,
            "grid_column": null,
            "overflow_y": null,
            "overflow_x": null,
            "grid_auto_flow": null,
            "grid_area": null,
            "grid_template_columns": null,
            "flex": null,
            "_model_name": "LayoutModel",
            "justify_items": null,
            "grid_row": null,
            "max_height": null,
            "align_content": null,
            "visibility": null,
            "align_self": null,
            "height": null,
            "min_height": null,
            "padding": null,
            "grid_auto_rows": null,
            "grid_gap": null,
            "max_width": null,
            "order": null,
            "_view_module_version": "1.2.0",
            "grid_template_areas": null,
            "object_position": null,
            "object_fit": null,
            "grid_auto_columns": null,
            "margin": null,
            "display": null,
            "left": null
          }
        },
        "b650d1f94baf4362aa2f5659fb285a99": {
          "model_module": "@jupyter-widgets/controls",
          "model_name": "HTMLModel",
          "model_module_version": "1.5.0",
          "state": {
            "_view_name": "HTMLView",
            "style": "IPY_MODEL_efe0b340abb14b95ad3af3b6b6fdcf8e",
            "_dom_classes": [],
            "description": "",
            "_model_name": "HTMLModel",
            "placeholder": "​",
            "_view_module": "@jupyter-widgets/controls",
            "_model_module_version": "1.5.0",
            "value": "",
            "_view_count": null,
            "_view_module_version": "1.5.0",
            "description_tooltip": null,
            "_model_module": "@jupyter-widgets/controls",
            "layout": "IPY_MODEL_e07f782efb4d4089b4edf46adfc7442e"
          }
        },
        "1bf1e7db411441cab081d610e2c36977": {
          "model_module": "@jupyter-widgets/controls",
          "model_name": "FloatProgressModel",
          "model_module_version": "1.5.0",
          "state": {
            "_view_name": "ProgressView",
            "style": "IPY_MODEL_cf7fbfb37f1548afb9c47b0594a76ff9",
            "_dom_classes": [],
            "description": "",
            "_model_name": "FloatProgressModel",
            "bar_style": "success",
            "max": 169001437,
            "_view_module": "@jupyter-widgets/controls",
            "_model_module_version": "1.5.0",
            "value": 169001437,
            "_view_count": null,
            "_view_module_version": "1.5.0",
            "orientation": "horizontal",
            "min": 0,
            "description_tooltip": null,
            "_model_module": "@jupyter-widgets/controls",
            "layout": "IPY_MODEL_d9b67400baf34f2b9fc7b14143a877fe"
          }
        },
        "3558759f965043daa88ad44bec511745": {
          "model_module": "@jupyter-widgets/controls",
          "model_name": "HTMLModel",
          "model_module_version": "1.5.0",
          "state": {
            "_view_name": "HTMLView",
            "style": "IPY_MODEL_df513a7d52224ee0b5a2407580edc850",
            "_dom_classes": [],
            "description": "",
            "_model_name": "HTMLModel",
            "placeholder": "​",
            "_view_module": "@jupyter-widgets/controls",
            "_model_module_version": "1.5.0",
            "value": " 169001984/? [00:02&lt;00:00, 57327165.13it/s]",
            "_view_count": null,
            "_view_module_version": "1.5.0",
            "description_tooltip": null,
            "_model_module": "@jupyter-widgets/controls",
            "layout": "IPY_MODEL_ef353cd17b2044509d81fdf33c46a547"
          }
        },
        "efe0b340abb14b95ad3af3b6b6fdcf8e": {
          "model_module": "@jupyter-widgets/controls",
          "model_name": "DescriptionStyleModel",
          "model_module_version": "1.5.0",
          "state": {
            "_view_name": "StyleView",
            "_model_name": "DescriptionStyleModel",
            "description_width": "",
            "_view_module": "@jupyter-widgets/base",
            "_model_module_version": "1.5.0",
            "_view_count": null,
            "_view_module_version": "1.2.0",
            "_model_module": "@jupyter-widgets/controls"
          }
        },
        "e07f782efb4d4089b4edf46adfc7442e": {
          "model_module": "@jupyter-widgets/base",
          "model_name": "LayoutModel",
          "model_module_version": "1.2.0",
          "state": {
            "_view_name": "LayoutView",
            "grid_template_rows": null,
            "right": null,
            "justify_content": null,
            "_view_module": "@jupyter-widgets/base",
            "overflow": null,
            "_model_module_version": "1.2.0",
            "_view_count": null,
            "flex_flow": null,
            "width": null,
            "min_width": null,
            "border": null,
            "align_items": null,
            "bottom": null,
            "_model_module": "@jupyter-widgets/base",
            "top": null,
            "grid_column": null,
            "overflow_y": null,
            "overflow_x": null,
            "grid_auto_flow": null,
            "grid_area": null,
            "grid_template_columns": null,
            "flex": null,
            "_model_name": "LayoutModel",
            "justify_items": null,
            "grid_row": null,
            "max_height": null,
            "align_content": null,
            "visibility": null,
            "align_self": null,
            "height": null,
            "min_height": null,
            "padding": null,
            "grid_auto_rows": null,
            "grid_gap": null,
            "max_width": null,
            "order": null,
            "_view_module_version": "1.2.0",
            "grid_template_areas": null,
            "object_position": null,
            "object_fit": null,
            "grid_auto_columns": null,
            "margin": null,
            "display": null,
            "left": null
          }
        },
        "cf7fbfb37f1548afb9c47b0594a76ff9": {
          "model_module": "@jupyter-widgets/controls",
          "model_name": "ProgressStyleModel",
          "model_module_version": "1.5.0",
          "state": {
            "_view_name": "StyleView",
            "_model_name": "ProgressStyleModel",
            "description_width": "",
            "_view_module": "@jupyter-widgets/base",
            "_model_module_version": "1.5.0",
            "_view_count": null,
            "_view_module_version": "1.2.0",
            "bar_color": null,
            "_model_module": "@jupyter-widgets/controls"
          }
        },
        "d9b67400baf34f2b9fc7b14143a877fe": {
          "model_module": "@jupyter-widgets/base",
          "model_name": "LayoutModel",
          "model_module_version": "1.2.0",
          "state": {
            "_view_name": "LayoutView",
            "grid_template_rows": null,
            "right": null,
            "justify_content": null,
            "_view_module": "@jupyter-widgets/base",
            "overflow": null,
            "_model_module_version": "1.2.0",
            "_view_count": null,
            "flex_flow": null,
            "width": null,
            "min_width": null,
            "border": null,
            "align_items": null,
            "bottom": null,
            "_model_module": "@jupyter-widgets/base",
            "top": null,
            "grid_column": null,
            "overflow_y": null,
            "overflow_x": null,
            "grid_auto_flow": null,
            "grid_area": null,
            "grid_template_columns": null,
            "flex": null,
            "_model_name": "LayoutModel",
            "justify_items": null,
            "grid_row": null,
            "max_height": null,
            "align_content": null,
            "visibility": null,
            "align_self": null,
            "height": null,
            "min_height": null,
            "padding": null,
            "grid_auto_rows": null,
            "grid_gap": null,
            "max_width": null,
            "order": null,
            "_view_module_version": "1.2.0",
            "grid_template_areas": null,
            "object_position": null,
            "object_fit": null,
            "grid_auto_columns": null,
            "margin": null,
            "display": null,
            "left": null
          }
        },
        "df513a7d52224ee0b5a2407580edc850": {
          "model_module": "@jupyter-widgets/controls",
          "model_name": "DescriptionStyleModel",
          "model_module_version": "1.5.0",
          "state": {
            "_view_name": "StyleView",
            "_model_name": "DescriptionStyleModel",
            "description_width": "",
            "_view_module": "@jupyter-widgets/base",
            "_model_module_version": "1.5.0",
            "_view_count": null,
            "_view_module_version": "1.2.0",
            "_model_module": "@jupyter-widgets/controls"
          }
        },
        "ef353cd17b2044509d81fdf33c46a547": {
          "model_module": "@jupyter-widgets/base",
          "model_name": "LayoutModel",
          "model_module_version": "1.2.0",
          "state": {
            "_view_name": "LayoutView",
            "grid_template_rows": null,
            "right": null,
            "justify_content": null,
            "_view_module": "@jupyter-widgets/base",
            "overflow": null,
            "_model_module_version": "1.2.0",
            "_view_count": null,
            "flex_flow": null,
            "width": null,
            "min_width": null,
            "border": null,
            "align_items": null,
            "bottom": null,
            "_model_module": "@jupyter-widgets/base",
            "top": null,
            "grid_column": null,
            "overflow_y": null,
            "overflow_x": null,
            "grid_auto_flow": null,
            "grid_area": null,
            "grid_template_columns": null,
            "flex": null,
            "_model_name": "LayoutModel",
            "justify_items": null,
            "grid_row": null,
            "max_height": null,
            "align_content": null,
            "visibility": null,
            "align_self": null,
            "height": null,
            "min_height": null,
            "padding": null,
            "grid_auto_rows": null,
            "grid_gap": null,
            "max_width": null,
            "order": null,
            "_view_module_version": "1.2.0",
            "grid_template_areas": null,
            "object_position": null,
            "object_fit": null,
            "grid_auto_columns": null,
            "margin": null,
            "display": null,
            "left": null
          }
        },
        "49672662ae244247b07d8e195babee63": {
          "model_module": "@jupyter-widgets/controls",
          "model_name": "HBoxModel",
          "model_module_version": "1.5.0",
          "state": {
            "_view_name": "HBoxView",
            "_dom_classes": [],
            "_model_name": "HBoxModel",
            "_view_module": "@jupyter-widgets/controls",
            "_model_module_version": "1.5.0",
            "_view_count": null,
            "_view_module_version": "1.5.0",
            "box_style": "",
            "layout": "IPY_MODEL_3a42a1d45f8244febf110ec14409dd6e",
            "_model_module": "@jupyter-widgets/controls",
            "children": [
              "IPY_MODEL_37d1adf0c0b64482ad66a3dd0aaaf98c",
              "IPY_MODEL_26f29d370f51496ea210938bf43b5fc8",
              "IPY_MODEL_99f0baa0ddf04101b1f0b097cf03fe7b"
            ]
          }
        },
        "3a42a1d45f8244febf110ec14409dd6e": {
          "model_module": "@jupyter-widgets/base",
          "model_name": "LayoutModel",
          "model_module_version": "1.2.0",
          "state": {
            "_view_name": "LayoutView",
            "grid_template_rows": null,
            "right": null,
            "justify_content": null,
            "_view_module": "@jupyter-widgets/base",
            "overflow": null,
            "_model_module_version": "1.2.0",
            "_view_count": null,
            "flex_flow": null,
            "width": null,
            "min_width": null,
            "border": null,
            "align_items": null,
            "bottom": null,
            "_model_module": "@jupyter-widgets/base",
            "top": null,
            "grid_column": null,
            "overflow_y": null,
            "overflow_x": null,
            "grid_auto_flow": null,
            "grid_area": null,
            "grid_template_columns": null,
            "flex": null,
            "_model_name": "LayoutModel",
            "justify_items": null,
            "grid_row": null,
            "max_height": null,
            "align_content": null,
            "visibility": null,
            "align_self": null,
            "height": null,
            "min_height": null,
            "padding": null,
            "grid_auto_rows": null,
            "grid_gap": null,
            "max_width": null,
            "order": null,
            "_view_module_version": "1.2.0",
            "grid_template_areas": null,
            "object_position": null,
            "object_fit": null,
            "grid_auto_columns": null,
            "margin": null,
            "display": null,
            "left": null
          }
        },
        "37d1adf0c0b64482ad66a3dd0aaaf98c": {
          "model_module": "@jupyter-widgets/controls",
          "model_name": "HTMLModel",
          "model_module_version": "1.5.0",
          "state": {
            "_view_name": "HTMLView",
            "style": "IPY_MODEL_b2ef3b36c3c94c849c99da6e2dc14768",
            "_dom_classes": [],
            "description": "",
            "_model_name": "HTMLModel",
            "placeholder": "​",
            "_view_module": "@jupyter-widgets/controls",
            "_model_module_version": "1.5.0",
            "value": "100%",
            "_view_count": null,
            "_view_module_version": "1.5.0",
            "description_tooltip": null,
            "_model_module": "@jupyter-widgets/controls",
            "layout": "IPY_MODEL_50e802c0e8274f498e4d305cadde8cd1"
          }
        },
        "26f29d370f51496ea210938bf43b5fc8": {
          "model_module": "@jupyter-widgets/controls",
          "model_name": "FloatProgressModel",
          "model_module_version": "1.5.0",
          "state": {
            "_view_name": "ProgressView",
            "style": "IPY_MODEL_44c33fa831ed4dd59dfbcffc7d40069b",
            "_dom_classes": [],
            "description": "",
            "_model_name": "FloatProgressModel",
            "bar_style": "success",
            "max": 46830571,
            "_view_module": "@jupyter-widgets/controls",
            "_model_module_version": "1.5.0",
            "value": 46830571,
            "_view_count": null,
            "_view_module_version": "1.5.0",
            "orientation": "horizontal",
            "min": 0,
            "description_tooltip": null,
            "_model_module": "@jupyter-widgets/controls",
            "layout": "IPY_MODEL_34dd797e0e6c45e4818c68736e40a2c3"
          }
        },
        "99f0baa0ddf04101b1f0b097cf03fe7b": {
          "model_module": "@jupyter-widgets/controls",
          "model_name": "HTMLModel",
          "model_module_version": "1.5.0",
          "state": {
            "_view_name": "HTMLView",
            "style": "IPY_MODEL_ccb6c06f58494ecca761090040933dc3",
            "_dom_classes": [],
            "description": "",
            "_model_name": "HTMLModel",
            "placeholder": "​",
            "_view_module": "@jupyter-widgets/controls",
            "_model_module_version": "1.5.0",
            "value": " 44.7M/44.7M [00:00&lt;00:00, 110MB/s]",
            "_view_count": null,
            "_view_module_version": "1.5.0",
            "description_tooltip": null,
            "_model_module": "@jupyter-widgets/controls",
            "layout": "IPY_MODEL_ec8ee515be144f669830ad90f356ce37"
          }
        },
        "b2ef3b36c3c94c849c99da6e2dc14768": {
          "model_module": "@jupyter-widgets/controls",
          "model_name": "DescriptionStyleModel",
          "model_module_version": "1.5.0",
          "state": {
            "_view_name": "StyleView",
            "_model_name": "DescriptionStyleModel",
            "description_width": "",
            "_view_module": "@jupyter-widgets/base",
            "_model_module_version": "1.5.0",
            "_view_count": null,
            "_view_module_version": "1.2.0",
            "_model_module": "@jupyter-widgets/controls"
          }
        },
        "50e802c0e8274f498e4d305cadde8cd1": {
          "model_module": "@jupyter-widgets/base",
          "model_name": "LayoutModel",
          "model_module_version": "1.2.0",
          "state": {
            "_view_name": "LayoutView",
            "grid_template_rows": null,
            "right": null,
            "justify_content": null,
            "_view_module": "@jupyter-widgets/base",
            "overflow": null,
            "_model_module_version": "1.2.0",
            "_view_count": null,
            "flex_flow": null,
            "width": null,
            "min_width": null,
            "border": null,
            "align_items": null,
            "bottom": null,
            "_model_module": "@jupyter-widgets/base",
            "top": null,
            "grid_column": null,
            "overflow_y": null,
            "overflow_x": null,
            "grid_auto_flow": null,
            "grid_area": null,
            "grid_template_columns": null,
            "flex": null,
            "_model_name": "LayoutModel",
            "justify_items": null,
            "grid_row": null,
            "max_height": null,
            "align_content": null,
            "visibility": null,
            "align_self": null,
            "height": null,
            "min_height": null,
            "padding": null,
            "grid_auto_rows": null,
            "grid_gap": null,
            "max_width": null,
            "order": null,
            "_view_module_version": "1.2.0",
            "grid_template_areas": null,
            "object_position": null,
            "object_fit": null,
            "grid_auto_columns": null,
            "margin": null,
            "display": null,
            "left": null
          }
        },
        "44c33fa831ed4dd59dfbcffc7d40069b": {
          "model_module": "@jupyter-widgets/controls",
          "model_name": "ProgressStyleModel",
          "model_module_version": "1.5.0",
          "state": {
            "_view_name": "StyleView",
            "_model_name": "ProgressStyleModel",
            "description_width": "",
            "_view_module": "@jupyter-widgets/base",
            "_model_module_version": "1.5.0",
            "_view_count": null,
            "_view_module_version": "1.2.0",
            "bar_color": null,
            "_model_module": "@jupyter-widgets/controls"
          }
        },
        "34dd797e0e6c45e4818c68736e40a2c3": {
          "model_module": "@jupyter-widgets/base",
          "model_name": "LayoutModel",
          "model_module_version": "1.2.0",
          "state": {
            "_view_name": "LayoutView",
            "grid_template_rows": null,
            "right": null,
            "justify_content": null,
            "_view_module": "@jupyter-widgets/base",
            "overflow": null,
            "_model_module_version": "1.2.0",
            "_view_count": null,
            "flex_flow": null,
            "width": null,
            "min_width": null,
            "border": null,
            "align_items": null,
            "bottom": null,
            "_model_module": "@jupyter-widgets/base",
            "top": null,
            "grid_column": null,
            "overflow_y": null,
            "overflow_x": null,
            "grid_auto_flow": null,
            "grid_area": null,
            "grid_template_columns": null,
            "flex": null,
            "_model_name": "LayoutModel",
            "justify_items": null,
            "grid_row": null,
            "max_height": null,
            "align_content": null,
            "visibility": null,
            "align_self": null,
            "height": null,
            "min_height": null,
            "padding": null,
            "grid_auto_rows": null,
            "grid_gap": null,
            "max_width": null,
            "order": null,
            "_view_module_version": "1.2.0",
            "grid_template_areas": null,
            "object_position": null,
            "object_fit": null,
            "grid_auto_columns": null,
            "margin": null,
            "display": null,
            "left": null
          }
        },
        "ccb6c06f58494ecca761090040933dc3": {
          "model_module": "@jupyter-widgets/controls",
          "model_name": "DescriptionStyleModel",
          "model_module_version": "1.5.0",
          "state": {
            "_view_name": "StyleView",
            "_model_name": "DescriptionStyleModel",
            "description_width": "",
            "_view_module": "@jupyter-widgets/base",
            "_model_module_version": "1.5.0",
            "_view_count": null,
            "_view_module_version": "1.2.0",
            "_model_module": "@jupyter-widgets/controls"
          }
        },
        "ec8ee515be144f669830ad90f356ce37": {
          "model_module": "@jupyter-widgets/base",
          "model_name": "LayoutModel",
          "model_module_version": "1.2.0",
          "state": {
            "_view_name": "LayoutView",
            "grid_template_rows": null,
            "right": null,
            "justify_content": null,
            "_view_module": "@jupyter-widgets/base",
            "overflow": null,
            "_model_module_version": "1.2.0",
            "_view_count": null,
            "flex_flow": null,
            "width": null,
            "min_width": null,
            "border": null,
            "align_items": null,
            "bottom": null,
            "_model_module": "@jupyter-widgets/base",
            "top": null,
            "grid_column": null,
            "overflow_y": null,
            "overflow_x": null,
            "grid_auto_flow": null,
            "grid_area": null,
            "grid_template_columns": null,
            "flex": null,
            "_model_name": "LayoutModel",
            "justify_items": null,
            "grid_row": null,
            "max_height": null,
            "align_content": null,
            "visibility": null,
            "align_self": null,
            "height": null,
            "min_height": null,
            "padding": null,
            "grid_auto_rows": null,
            "grid_gap": null,
            "max_width": null,
            "order": null,
            "_view_module_version": "1.2.0",
            "grid_template_areas": null,
            "object_position": null,
            "object_fit": null,
            "grid_auto_columns": null,
            "margin": null,
            "display": null,
            "left": null
          }
        }
      }
    }
  },
  "cells": [
    {
      "cell_type": "code",
      "execution_count": null,
      "metadata": {
        "id": "8zLVLrVDbeoK"
      },
      "outputs": [],
      "source": [
        "import torch\n",
        "import torch.nn as nn\n",
        "import torchvision \n",
        "import matplotlib.pyplot as plt\n",
        "import PIL\n",
        "import cv2"
      ]
    },
    {
      "cell_type": "markdown",
      "source": [
        "# Convolutional Neural Networks"
      ],
      "metadata": {
        "id": "qXeZf6Xi5dr0"
      }
    },
    {
      "cell_type": "markdown",
      "source": [
        "# Convolution"
      ],
      "metadata": {
        "id": "v3xBthG35hrd"
      }
    },
    {
      "cell_type": "code",
      "source": [
        "!wget https://cdn.ndtv.com/tech/images/gadgets/pikachu_hi_pokemon.jpg -O pikachu.jpg"
      ],
      "metadata": {
        "colab": {
          "base_uri": "https://localhost:8080/"
        },
        "id": "nHMsdbq-33-J",
        "outputId": "4687e9d1-f370-47b0-b999-ab0d227a3a3f"
      },
      "execution_count": null,
      "outputs": [
        {
          "output_type": "stream",
          "name": "stdout",
          "text": [
            "--2022-01-29 05:54:48--  https://cdn.ndtv.com/tech/images/gadgets/pikachu_hi_pokemon.jpg\n",
            "Resolving cdn.ndtv.com (cdn.ndtv.com)... 23.52.176.146, 2600:1406:5400:58d::24e8, 2600:1406:5400:592::24e8\n",
            "Connecting to cdn.ndtv.com (cdn.ndtv.com)|23.52.176.146|:443... connected.\n",
            "HTTP request sent, awaiting response... 200 OK\n",
            "Length: 44842 (44K) [image/jpeg]\n",
            "Saving to: ‘pikachu.jpg’\n",
            "\n",
            "pikachu.jpg         100%[===================>]  43.79K  --.-KB/s    in 0.009s  \n",
            "\n",
            "2022-01-29 05:54:48 (4.59 MB/s) - ‘pikachu.jpg’ saved [44842/44842]\n",
            "\n"
          ]
        }
      ]
    },
    {
      "cell_type": "markdown",
      "source": [
        "Utilicemos opencv para leer la imagen (convertirla a escala de gris) y luego convertir la matriz (de pixeles) en un tensor con el cual PyTorch pueda hacer operaciones"
      ],
      "metadata": {
        "id": "g_MuAOqFZx4U"
      }
    },
    {
      "cell_type": "code",
      "source": [
        "I = cv2.imread(\"pikachu.jpg\",cv2.IMREAD_GRAYSCALE)\n",
        "print(I.shape)\n",
        "I1 = torch.from_numpy(I).float().reshape(1,1,600,800)\n",
        "print(I1.shape)"
      ],
      "metadata": {
        "id": "JRNWLe-435HN",
        "colab": {
          "base_uri": "https://localhost:8080/"
        },
        "outputId": "c78cd1b6-885d-4443-9cf2-1082b4bd368c"
      },
      "execution_count": null,
      "outputs": [
        {
          "output_type": "stream",
          "name": "stdout",
          "text": [
            "(600, 800)\n",
            "torch.Size([1, 1, 600, 800])\n"
          ]
        }
      ]
    },
    {
      "cell_type": "markdown",
      "source": [
        "Realicemos lo mismo pero ahora utlizando la libreria PIL (Python Image Library) y algunas herramientas que nos brinda Torchvision (paquete especializado en Computer Vision)"
      ],
      "metadata": {
        "id": "zquuWlTeZ9XF"
      }
    },
    {
      "cell_type": "code",
      "source": [
        "I = PIL.Image.open(open(\"pikachu.jpg\",\"rb\"))\n",
        "transf = torchvision.transforms.Compose([\n",
        "  torchvision.transforms.Grayscale(),\n",
        "  torchvision.transforms.ToTensor()\n",
        "])\n",
        "I1 = transf(I)\n",
        "I1 = I1.reshape(1,1,600,800)"
      ],
      "metadata": {
        "id": "c7T3k2yD37BC"
      },
      "execution_count": null,
      "outputs": []
    },
    {
      "cell_type": "markdown",
      "source": [
        "Veamos un ejemplo de convolución entre matrices"
      ],
      "metadata": {
        "id": "ziycJ2MHajFo"
      }
    },
    {
      "cell_type": "code",
      "source": [
        "F = torch.tensor([[0,1,0],[1,-4,1],[0,1,0]]).float().reshape(1,1,3,3)\n",
        "I2 = torch.conv2d(I1,F)"
      ],
      "metadata": {
        "id": "GGHYxkhi39Vy"
      },
      "execution_count": null,
      "outputs": []
    },
    {
      "cell_type": "code",
      "source": [
        "plt.imshow(I,cmap=\"hot\")"
      ],
      "metadata": {
        "colab": {
          "base_uri": "https://localhost:8080/",
          "height": 286
        },
        "id": "7--7_CAI3_Ov",
        "outputId": "88db4b1f-0e04-4053-c887-43482f6ed3f3"
      },
      "execution_count": null,
      "outputs": [
        {
          "output_type": "execute_result",
          "data": {
            "text/plain": [
              "<matplotlib.image.AxesImage at 0x7fe05a382a90>"
            ]
          },
          "metadata": {},
          "execution_count": 9
        },
        {
          "output_type": "display_data",
          "data": {
            "image/png": "[encoded data removed]",
            "text/plain": [
              "<Figure size 432x288 with 1 Axes>"
            ]
          },
          "metadata": {
            "needs_background": "light"
          }
        }
      ]
    },
    {
      "cell_type": "code",
      "source": [
        "plt.imshow(I2.reshape(598,798).numpy(),cmap=\"hot\")"
      ],
      "metadata": {
        "colab": {
          "base_uri": "https://localhost:8080/",
          "height": 286
        },
        "id": "8YdNRVqr4BOf",
        "outputId": "d7c34327-c257-4205-805a-00230e5cd1d9"
      },
      "execution_count": null,
      "outputs": [
        {
          "output_type": "execute_result",
          "data": {
            "text/plain": [
              "<matplotlib.image.AxesImage at 0x7fe059d0f7d0>"
            ]
          },
          "metadata": {},
          "execution_count": 10
        },
        {
          "output_type": "display_data",
          "data": {
            "image/png": "[encoded data removed]",
            "text/plain": [
              "<Figure size 432x288 with 1 Axes>"
            ]
          },
          "metadata": {
            "needs_background": "light"
          }
        }
      ]
    },
    {
      "cell_type": "markdown",
      "source": [
        "Veamos con una matriz más pequeña la como se realiza esta operación y como se realiza el backpropagation en esta operación"
      ],
      "metadata": {
        "id": "YfASI005auVL"
      }
    },
    {
      "cell_type": "code",
      "source": [
        "A = torch.arange(1,10).reshape(1,1,3,3).float().requires_grad_(True)\n",
        "F = torch.tensor([[1,2],[3,4]]).reshape(1,1,2,2).float().requires_grad_(True)\n",
        "print(A)\n",
        "print(F)"
      ],
      "metadata": {
        "colab": {
          "base_uri": "https://localhost:8080/"
        },
        "id": "1ie73GdOua5G",
        "outputId": "1131a9bc-6514-40c6-abe6-c8074f4c365c"
      },
      "execution_count": null,
      "outputs": [
        {
          "output_type": "stream",
          "name": "stdout",
          "text": [
            "tensor([[[[1., 2., 3.],\n",
            "          [4., 5., 6.],\n",
            "          [7., 8., 9.]]]], requires_grad=True)\n",
            "tensor([[[[1., 2.],\n",
            "          [3., 4.]]]], requires_grad=True)\n"
          ]
        }
      ]
    },
    {
      "cell_type": "code",
      "source": [
        "B = torch.conv2d(A,F)\n",
        "print(B)\n",
        "tot = torch.sum(B*B)\n",
        "print(tot)"
      ],
      "metadata": {
        "colab": {
          "base_uri": "https://localhost:8080/"
        },
        "id": "aG1Zt-sCuyFS",
        "outputId": "5376a5dc-c69c-4f4b-aed3-e359a8b501cb"
      },
      "execution_count": null,
      "outputs": [
        {
          "output_type": "stream",
          "name": "stdout",
          "text": [
            "tensor([[[[37., 47.],\n",
            "          [67., 77.]]]], grad_fn=<ThnnConv2DBackward0>)\n",
            "tensor(13996., grad_fn=<SumBackward0>)\n"
          ]
        }
      ]
    },
    {
      "cell_type": "code",
      "source": [
        "tot.backward()"
      ],
      "metadata": {
        "id": "53w7bvlgvG0o"
      },
      "execution_count": null,
      "outputs": []
    },
    {
      "cell_type": "code",
      "source": [
        "d_B = 2*B\n",
        "print(d_B)"
      ],
      "metadata": {
        "colab": {
          "base_uri": "https://localhost:8080/"
        },
        "id": "0ZVm1o_4vOGD",
        "outputId": "324035a8-6f40-46d6-df5d-abbc3f98fea1"
      },
      "execution_count": null,
      "outputs": [
        {
          "output_type": "stream",
          "name": "stdout",
          "text": [
            "tensor([[[[ 74.,  94.],\n",
            "          [134., 154.]]]], grad_fn=<MulBackward0>)\n"
          ]
        }
      ]
    },
    {
      "cell_type": "code",
      "source": [
        "F.grad"
      ],
      "metadata": {
        "colab": {
          "base_uri": "https://localhost:8080/"
        },
        "id": "NvZfugfkvrlb",
        "outputId": "1b76fd4f-f31b-43a5-9ce8-cdcc0c5f9b4c"
      },
      "execution_count": null,
      "outputs": [
        {
          "output_type": "execute_result",
          "data": {
            "text/plain": [
              "tensor([[[[1568., 2024.],\n",
              "          [2936., 3392.]]]])"
            ]
          },
          "metadata": {},
          "execution_count": 15
        }
      ]
    },
    {
      "cell_type": "code",
      "source": [
        "torch.conv2d(A,d_B)"
      ],
      "metadata": {
        "colab": {
          "base_uri": "https://localhost:8080/"
        },
        "id": "Qu_MIU0sxJfA",
        "outputId": "5b8d443a-409f-4f3d-d486-f2b4991bcea3"
      },
      "execution_count": null,
      "outputs": [
        {
          "output_type": "execute_result",
          "data": {
            "text/plain": [
              "tensor([[[[1568., 2024.],\n",
              "          [2936., 3392.]]]], grad_fn=<ThnnConv2DBackward0>)"
            ]
          },
          "metadata": {},
          "execution_count": 16
        }
      ]
    },
    {
      "cell_type": "code",
      "source": [
        "A.grad"
      ],
      "metadata": {
        "colab": {
          "base_uri": "https://localhost:8080/"
        },
        "id": "TGhu9unF1Wma",
        "outputId": "f33bbb1d-9d3d-45f5-c5d6-79b6a161e92e"
      },
      "execution_count": null,
      "outputs": [
        {
          "output_type": "execute_result",
          "data": {
            "text/plain": [
              "tensor([[[[  74.,  242.,  188.],\n",
              "          [ 356., 1000.,  684.],\n",
              "          [ 402.,  998.,  616.]]]])"
            ]
          },
          "metadata": {},
          "execution_count": 17
        }
      ]
    },
    {
      "cell_type": "code",
      "source": [
        "torch.conv2d(d_B,F.flip(0,1,3,2),padding=1)"
      ],
      "metadata": {
        "colab": {
          "base_uri": "https://localhost:8080/"
        },
        "id": "tcXk9vuu1XqT",
        "outputId": "62871a64-3bfe-4250-dee6-4f061c81c182"
      },
      "execution_count": null,
      "outputs": [
        {
          "output_type": "execute_result",
          "data": {
            "text/plain": [
              "tensor([[[[  74.,  242.,  188.],\n",
              "          [ 356., 1000.,  684.],\n",
              "          [ 402.,  998.,  616.]]]], grad_fn=<ThnnConv2DBackward0>)"
            ]
          },
          "metadata": {},
          "execution_count": 18
        }
      ]
    },
    {
      "cell_type": "markdown",
      "source": [
        "Convolutional Layer utilizado en las redes neuronales"
      ],
      "metadata": {
        "id": "FNuUsPxbcRrh"
      }
    },
    {
      "cell_type": "code",
      "source": [
        "conv_layer = nn.Conv2d(1,3,kernel_size=3)"
      ],
      "metadata": {
        "id": "6_n_za6010u0"
      },
      "execution_count": null,
      "outputs": []
    },
    {
      "cell_type": "code",
      "source": [
        "for param in conv_layer.parameters():\n",
        "  print(param.shape)"
      ],
      "metadata": {
        "colab": {
          "base_uri": "https://localhost:8080/"
        },
        "id": "rFHK3ittcqzk",
        "outputId": "eee5b420-e7b7-4575-d585-b3897bd2bf4e"
      },
      "execution_count": null,
      "outputs": [
        {
          "output_type": "stream",
          "name": "stdout",
          "text": [
            "torch.Size([3, 1, 3, 3])\n",
            "torch.Size([3])\n"
          ]
        }
      ]
    },
    {
      "cell_type": "code",
      "source": [
        "x = torch.rand(10,1,5,5)"
      ],
      "metadata": {
        "id": "9Tg20aJE2e0v"
      },
      "execution_count": null,
      "outputs": []
    },
    {
      "cell_type": "code",
      "source": [
        "conv_layer(x).shape"
      ],
      "metadata": {
        "colab": {
          "base_uri": "https://localhost:8080/"
        },
        "id": "Ya5r-NWM2lJs",
        "outputId": "3c3f2a04-1848-47ff-9d2d-3e0d6d67afa8"
      },
      "execution_count": null,
      "outputs": [
        {
          "output_type": "execute_result",
          "data": {
            "text/plain": [
              "torch.Size([10, 3, 3, 3])"
            ]
          },
          "metadata": {},
          "execution_count": 21
        }
      ]
    },
    {
      "cell_type": "markdown",
      "source": [
        "# Pooling Layers"
      ],
      "metadata": {
        "id": "PgnERHnoAy3t"
      }
    },
    {
      "cell_type": "markdown",
      "source": [
        "Otros de los layers más utilizados en redes neuronales son los pooling layers."
      ],
      "metadata": {
        "id": "tS0T14G6c0nl"
      }
    },
    {
      "cell_type": "markdown",
      "source": [
        "# Max Pooling Layers"
      ],
      "metadata": {
        "id": "L_UcwmXUCCf4"
      }
    },
    {
      "cell_type": "markdown",
      "source": [
        "Dentro de los pooling layers, talvez el que más se utiliza son los max pool layers, debido al bajo coste computacional y a su eficiencia que se ha demostrado experimentalmente."
      ],
      "metadata": {
        "id": "8T0KUZyxd9ml"
      }
    },
    {
      "cell_type": "code",
      "source": [
        "max_pool = nn.MaxPool2d(kernel_size=2)"
      ],
      "metadata": {
        "id": "3hNDExz83QC3"
      },
      "execution_count": null,
      "outputs": []
    },
    {
      "cell_type": "markdown",
      "source": [
        "Veamos el tipo de operación que realiza el max pooling layer"
      ],
      "metadata": {
        "id": "Q1-O7Ba4dQNf"
      }
    },
    {
      "cell_type": "code",
      "source": [
        "x = torch.randint(low=0,high=10,size=(1,1,6,6)).float()\n",
        "print(x)"
      ],
      "metadata": {
        "colab": {
          "base_uri": "https://localhost:8080/"
        },
        "id": "ipWwm4Zh3XV0",
        "outputId": "8943d655-4727-4cb9-f31e-3e7e510ebc92"
      },
      "execution_count": null,
      "outputs": [
        {
          "output_type": "stream",
          "name": "stdout",
          "text": [
            "tensor([[[[6., 0., 8., 7., 9., 4.],\n",
            "          [0., 6., 1., 4., 7., 1.],\n",
            "          [1., 2., 3., 1., 2., 8.],\n",
            "          [9., 0., 2., 7., 0., 7.],\n",
            "          [3., 4., 7., 1., 1., 1.],\n",
            "          [5., 6., 0., 1., 5., 6.]]]])\n"
          ]
        }
      ]
    },
    {
      "cell_type": "code",
      "source": [
        "max_pool(x)"
      ],
      "metadata": {
        "colab": {
          "base_uri": "https://localhost:8080/"
        },
        "id": "Rl43Bx1EA-qT",
        "outputId": "58e23c9f-11c5-485c-8cc4-3079e694bcef"
      },
      "execution_count": null,
      "outputs": [
        {
          "output_type": "execute_result",
          "data": {
            "text/plain": [
              "tensor([[[[6., 8., 9.],\n",
              "          [9., 7., 8.],\n",
              "          [6., 7., 6.]]]])"
            ]
          },
          "metadata": {},
          "execution_count": 26
        }
      ]
    },
    {
      "cell_type": "markdown",
      "source": [
        "# Average Pooling Layers"
      ],
      "metadata": {
        "id": "-LcJuNYWCFYQ"
      }
    },
    {
      "cell_type": "code",
      "source": [
        "avg_pool = nn.AvgPool2d(kernel_size=2)"
      ],
      "metadata": {
        "id": "r2JSS9-z3ovt"
      },
      "execution_count": null,
      "outputs": []
    },
    {
      "cell_type": "code",
      "source": [
        "x = torch.randint(low=0,high=10,size=(1,1,4,4)).float()\n",
        "print(x)"
      ],
      "metadata": {
        "colab": {
          "base_uri": "https://localhost:8080/"
        },
        "id": "hIIJR_kSCRl7",
        "outputId": "ea0a1170-e4c7-4fee-9d0f-7ef3e9aaa240"
      },
      "execution_count": null,
      "outputs": [
        {
          "output_type": "stream",
          "name": "stdout",
          "text": [
            "tensor([[[[6., 0., 9., 3.],\n",
            "          [9., 4., 9., 9.],\n",
            "          [6., 6., 9., 3.],\n",
            "          [3., 5., 2., 0.]]]])\n"
          ]
        }
      ]
    },
    {
      "cell_type": "code",
      "source": [
        "avg_pool(x)"
      ],
      "metadata": {
        "colab": {
          "base_uri": "https://localhost:8080/"
        },
        "id": "zSkpvbeZBbu3",
        "outputId": "d9d7a444-dded-4de5-9737-f68a7b5334de"
      },
      "execution_count": null,
      "outputs": [
        {
          "output_type": "execute_result",
          "data": {
            "text/plain": [
              "tensor([[[[4.7500, 7.5000],\n",
              "          [5.0000, 3.5000]]]])"
            ]
          },
          "metadata": {},
          "execution_count": 29
        }
      ]
    },
    {
      "cell_type": "markdown",
      "source": [
        "# Adaptive Average Pooling Layers"
      ],
      "metadata": {
        "id": "ajo8i1i4CHng"
      }
    },
    {
      "cell_type": "code",
      "source": [
        "x = torch.randint(low=0,high=10,size=(1,3,2,2)).float()\n",
        "print(x)"
      ],
      "metadata": {
        "colab": {
          "base_uri": "https://localhost:8080/"
        },
        "id": "mlIXGAkoCNdU",
        "outputId": "1c8ecc3f-8f3f-4642-e309-927ea865c448"
      },
      "execution_count": null,
      "outputs": [
        {
          "output_type": "stream",
          "name": "stdout",
          "text": [
            "tensor([[[[2., 9.],\n",
            "          [1., 8.]],\n",
            "\n",
            "         [[7., 3.],\n",
            "          [5., 0.]],\n",
            "\n",
            "         [[7., 1.],\n",
            "          [5., 2.]]]])\n"
          ]
        }
      ]
    },
    {
      "cell_type": "code",
      "source": [
        "adap_avg_pool = nn.AdaptiveAvgPool2d(1)"
      ],
      "metadata": {
        "id": "6iK3Eg-_B0Qw"
      },
      "execution_count": null,
      "outputs": []
    },
    {
      "cell_type": "code",
      "source": [
        "adap_avg_pool(x)"
      ],
      "metadata": {
        "colab": {
          "base_uri": "https://localhost:8080/"
        },
        "id": "mHLQGIQ9Bqny",
        "outputId": "82bbda5b-e37c-4904-971e-a572821d0188"
      },
      "execution_count": null,
      "outputs": [
        {
          "output_type": "execute_result",
          "data": {
            "text/plain": [
              "tensor([[[[5.0000]],\n",
              "\n",
              "         [[3.7500]],\n",
              "\n",
              "         [[3.7500]]]])"
            ]
          },
          "metadata": {},
          "execution_count": 38
        }
      ]
    },
    {
      "cell_type": "markdown",
      "source": [
        "# Dropout Layers"
      ],
      "metadata": {
        "id": "0JTtS2wlCbxh"
      }
    },
    {
      "cell_type": "markdown",
      "source": [
        "Uno de los grandes problemas recurrentes en el entrenamiento de redes neuronales, es el \"sobreentrenamiento\" o \"overfitting\". Esto significa que el modelo se ha adecuado tanto a los datos de entrenamiento que no produce buenas predicciones para nuevos datos. Para evitar este tipo de problemas se utilizan métodos de regularización (como L1 and L2 regularization methods en problemas de regresión), pero en el mundo de redes neuronales los dropout layers son los más utilizados. "
      ],
      "metadata": {
        "id": "d77TBhese4bz"
      }
    },
    {
      "cell_type": "code",
      "source": [
        "drop_layer = nn.Dropout2d(p=0.5)"
      ],
      "metadata": {
        "id": "Z5Ry5Y-8CdUi"
      },
      "execution_count": null,
      "outputs": []
    },
    {
      "cell_type": "code",
      "source": [
        "x = torch.randint(low=0,high=10,size=(1,3,2,2)).float()\n",
        "print(x)"
      ],
      "metadata": {
        "colab": {
          "base_uri": "https://localhost:8080/"
        },
        "id": "ySUYmjVJChXg",
        "outputId": "e110309f-85b8-405c-9694-37df39160f35"
      },
      "execution_count": null,
      "outputs": [
        {
          "output_type": "stream",
          "name": "stdout",
          "text": [
            "tensor([[[[9., 3.],\n",
            "          [7., 1.]],\n",
            "\n",
            "         [[3., 7.],\n",
            "          [3., 4.]],\n",
            "\n",
            "         [[6., 9.],\n",
            "          [8., 2.]]]])\n"
          ]
        }
      ]
    },
    {
      "cell_type": "code",
      "source": [
        "drop_layer(x)"
      ],
      "metadata": {
        "colab": {
          "base_uri": "https://localhost:8080/"
        },
        "id": "RydO9Sk4Dbvb",
        "outputId": "f3bd3d61-f961-43a2-8fab-bdc577f349e7"
      },
      "execution_count": null,
      "outputs": [
        {
          "output_type": "execute_result",
          "data": {
            "text/plain": [
              "tensor([[[[ 0.,  0.],\n",
              "          [ 0.,  0.]],\n",
              "\n",
              "         [[ 0.,  0.],\n",
              "          [ 0.,  0.]],\n",
              "\n",
              "         [[12., 18.],\n",
              "          [16.,  4.]]]])"
            ]
          },
          "metadata": {},
          "execution_count": 164
        }
      ]
    },
    {
      "cell_type": "markdown",
      "source": [
        "# Batch Normalization Layers"
      ],
      "metadata": {
        "id": "CdNVkFglP4VD"
      }
    },
    {
      "cell_type": "markdown",
      "source": [
        "Otro de los layers muy utilizados son los batch norm layers. Básicamente estos layers reescalan los datos utilizando una media y una variación que se va calculando durando el entrenamiento. Esto permite que los valores que se van pasando entre los layers de la red neuronal no exploten y crezcan descontroladamente."
      ],
      "metadata": {
        "id": "WTka2IT0ocaw"
      }
    },
    {
      "cell_type": "markdown",
      "source": [
        "Veamos un ejemplo de como el batch norm layer opera"
      ],
      "metadata": {
        "id": "06MkpIFFp2sa"
      }
    },
    {
      "cell_type": "code",
      "source": [
        "x = torch.randint(low=0,high=10,size=(1,3,4,4)).float()"
      ],
      "metadata": {
        "id": "7kIUzbaWDphl"
      },
      "execution_count": null,
      "outputs": []
    },
    {
      "cell_type": "code",
      "source": [
        "bn_layer = nn.BatchNorm2d(3)"
      ],
      "metadata": {
        "id": "A-4raKMqDkr0"
      },
      "execution_count": null,
      "outputs": []
    },
    {
      "cell_type": "code",
      "source": [
        "print(bn_layer.running_mean)\n",
        "print(bn_layer.running_var)"
      ],
      "metadata": {
        "colab": {
          "base_uri": "https://localhost:8080/"
        },
        "id": "KHccPKgdYtuX",
        "outputId": "a3f90efb-dd59-4fa1-985a-d239a4e66c5c"
      },
      "execution_count": null,
      "outputs": [
        {
          "output_type": "stream",
          "name": "stdout",
          "text": [
            "tensor([0., 0., 0.])\n",
            "tensor([1., 1., 1.])\n"
          ]
        }
      ]
    },
    {
      "cell_type": "code",
      "source": [
        "bn_layer(x)"
      ],
      "metadata": {
        "colab": {
          "base_uri": "https://localhost:8080/"
        },
        "id": "LTn7hX-9DwTd",
        "outputId": "61e8e6bf-753b-48a1-80ed-ec8b6c05ab71"
      },
      "execution_count": null,
      "outputs": [
        {
          "output_type": "execute_result",
          "data": {
            "text/plain": [
              "tensor([[[[ 0.3508, -1.7541,  0.7016,  1.0525],\n",
              "          [ 0.3508,  1.0525,  0.3508, -0.3508],\n",
              "          [ 0.7016, -1.7541,  0.3508, -1.4033],\n",
              "          [-0.7016, -1.0525,  0.7016,  1.4033]],\n",
              "\n",
              "         [[ 1.3697,  0.7524, -0.7910,  0.4437],\n",
              "          [ 0.7524, -0.1736, -1.0996, -0.4823],\n",
              "          [-1.4083,  1.3697, -1.0996,  1.0610],\n",
              "          [-1.4083,  0.1350,  1.3697, -0.7910]],\n",
              "\n",
              "         [[-0.7979,  1.2179,  0.5459, -0.4620],\n",
              "          [ 0.2100,  1.5539, -0.7979, -1.1339],\n",
              "          [ 1.5539, -0.7979, -0.7979, -1.1339],\n",
              "          [ 0.8819, -1.4699,  0.5459,  0.8819]]]],\n",
              "       grad_fn=<NativeBatchNormBackward0>)"
            ]
          },
          "metadata": {},
          "execution_count": 168
        }
      ]
    },
    {
      "cell_type": "code",
      "source": [
        "print(bn_layer.running_mean)\n",
        "print(bn_layer.running_var)"
      ],
      "metadata": {
        "colab": {
          "base_uri": "https://localhost:8080/"
        },
        "id": "3rmoTeHjREBS",
        "outputId": "95fa6718-d474-4d17-af2f-4ddb561e3ce6"
      },
      "execution_count": null,
      "outputs": [
        {
          "output_type": "stream",
          "name": "stdout",
          "text": [
            "tensor([0.5000, 0.4563, 0.4375])\n",
            "tensor([1.7667, 2.0196, 1.8450])\n"
          ]
        }
      ]
    },
    {
      "cell_type": "markdown",
      "source": [
        "Recreemos esta operación"
      ],
      "metadata": {
        "id": "tFGMBwM8qFp8"
      }
    },
    {
      "cell_type": "code",
      "source": [
        "mu = torch.mean(x,axis=(2,3))\n",
        "var = torch.var(x,axis=(2,3))\n",
        "bias_var = torch.var(x,axis=(2,3),unbiased=False)\n",
        "print(0.9 * 0 + 0.1 * mu, 0.9 * 1 + 0.1  * var )"
      ],
      "metadata": {
        "id": "L5rkM9tGD1v-",
        "colab": {
          "base_uri": "https://localhost:8080/"
        },
        "outputId": "fa14d158-9625-4d48-ef7f-33ca4bff27cd"
      },
      "execution_count": null,
      "outputs": [
        {
          "output_type": "stream",
          "name": "stdout",
          "text": [
            "tensor([[0.5000, 0.4563, 0.4375]]) tensor([[1.7667, 2.0196, 1.8450]])\n"
          ]
        }
      ]
    },
    {
      "cell_type": "code",
      "source": [
        "(x - mu.reshape(1,3,1,1)) / (bias_var.reshape(1,3,1,1) + 1e-5)** 0.5"
      ],
      "metadata": {
        "id": "LbSgnPZ-D8A1",
        "outputId": "b8535ea1-f9f2-4f67-ce31-ffc04d14b6ff",
        "colab": {
          "base_uri": "https://localhost:8080/"
        }
      },
      "execution_count": null,
      "outputs": [
        {
          "output_type": "execute_result",
          "data": {
            "text/plain": [
              "tensor([[[[ 0.3508, -1.7541,  0.7016,  1.0525],\n",
              "          [ 0.3508,  1.0525,  0.3508, -0.3508],\n",
              "          [ 0.7016, -1.7541,  0.3508, -1.4033],\n",
              "          [-0.7016, -1.0525,  0.7016,  1.4033]],\n",
              "\n",
              "         [[ 1.3697,  0.7524, -0.7910,  0.4437],\n",
              "          [ 0.7524, -0.1736, -1.0996, -0.4823],\n",
              "          [-1.4083,  1.3697, -1.0996,  1.0610],\n",
              "          [-1.4083,  0.1350,  1.3697, -0.7910]],\n",
              "\n",
              "         [[-0.7979,  1.2179,  0.5459, -0.4620],\n",
              "          [ 0.2100,  1.5539, -0.7979, -1.1339],\n",
              "          [ 1.5539, -0.7979, -0.7979, -1.1339],\n",
              "          [ 0.8819, -1.4699,  0.5459,  0.8819]]]])"
            ]
          },
          "metadata": {},
          "execution_count": 171
        }
      ]
    },
    {
      "cell_type": "markdown",
      "source": [
        "# Vanishing Gradient Problem"
      ],
      "metadata": {
        "id": "TwgRXP3naw5J"
      }
    },
    {
      "cell_type": "markdown",
      "source": [
        "Otro de los problemas recurrentes cuando se entrenan redes neuronales, es el problema del desvanecimiento del gradiente. Especialmente en redes neuronales grandes (deep neuronal networks), al momento de realizar el backpropagation, debido a la cantidad de layers, el gradiente que se propaga se vuelve cada vez más pequeño haciendo que los primeros layers no se entrenen apropiadamente o que se demoren en entrenarse en comparación con los layers más próximos a la última capa."
      ],
      "metadata": {
        "id": "DYVnmR_fqL3u"
      }
    },
    {
      "cell_type": "markdown",
      "source": [
        "Veamos un ejemplo de esto"
      ],
      "metadata": {
        "id": "f-13UvtBrkOT"
      }
    },
    {
      "cell_type": "code",
      "source": [
        "model = nn.Sequential(\n",
        "    nn.Linear(2,3),\n",
        "    nn.Sigmoid(),\n",
        "    nn.Linear(3,5),\n",
        "    nn.Sigmoid(),\n",
        "    nn.Linear(5,5),\n",
        "    nn.Sigmoid(),\n",
        "    nn.Linear(5,5),\n",
        "    nn.Sigmoid(),\n",
        "    nn.Linear(5,1),\n",
        "    nn.Sigmoid(),\n",
        ")"
      ],
      "metadata": {
        "id": "88qv8-UTZFLB"
      },
      "execution_count": null,
      "outputs": []
    },
    {
      "cell_type": "code",
      "source": [
        "x = torch.rand(1,2)\n",
        "y = torch.ones(1,1)"
      ],
      "metadata": {
        "id": "zKMvRoJ9bLyl"
      },
      "execution_count": null,
      "outputs": []
    },
    {
      "cell_type": "code",
      "source": [
        "crit = nn.MSELoss()"
      ],
      "metadata": {
        "id": "DDfjj2yqbOTz"
      },
      "execution_count": null,
      "outputs": []
    },
    {
      "cell_type": "code",
      "source": [
        "l = crit(model(x),y)\n",
        "l.backward()"
      ],
      "metadata": {
        "id": "3NNIqMubbaZo"
      },
      "execution_count": null,
      "outputs": []
    },
    {
      "cell_type": "code",
      "source": [
        "for param in model.parameters():\n",
        "  print(param.grad)"
      ],
      "metadata": {
        "colab": {
          "base_uri": "https://localhost:8080/"
        },
        "id": "lOS1WvpSbdHd",
        "outputId": "9b25ed8c-3a33-438e-d5d6-97e12b70e32c"
      },
      "execution_count": null,
      "outputs": [
        {
          "output_type": "stream",
          "name": "stdout",
          "text": [
            "tensor([[-1.6474e-06, -1.7902e-06],\n",
            "        [ 1.0155e-05,  1.1036e-05],\n",
            "        [ 3.9242e-06,  4.2643e-06]])\n",
            "tensor([-4.8077e-06,  2.9637e-05,  1.1452e-05])\n",
            "tensor([[ 3.5826e-05,  3.7056e-05,  4.6679e-05],\n",
            "        [ 2.2214e-05,  2.2977e-05,  2.8944e-05],\n",
            "        [ 2.0615e-05,  2.1323e-05,  2.6860e-05],\n",
            "        [ 5.9569e-05,  6.1614e-05,  7.7614e-05],\n",
            "        [-1.0052e-04, -1.0397e-04, -1.3097e-04]])\n",
            "tensor([ 6.5155e-05,  4.0400e-05,  3.7492e-05,  1.0834e-04, -1.8282e-04])\n",
            "tensor([[-9.7971e-05, -7.9531e-05, -1.1294e-04, -7.6158e-05, -7.8179e-05],\n",
            "        [-6.4872e-04, -5.2662e-04, -7.4785e-04, -5.0429e-04, -5.1767e-04],\n",
            "        [-7.1025e-04, -5.7657e-04, -8.1878e-04, -5.5212e-04, -5.6677e-04],\n",
            "        [ 1.8212e-04,  1.4785e-04,  2.0995e-04,  1.4158e-04,  1.4533e-04],\n",
            "        [ 5.8031e-04,  4.7109e-04,  6.6899e-04,  4.5111e-04,  4.6308e-04]])\n",
            "tensor([-0.0001, -0.0009, -0.0010,  0.0003,  0.0008])\n",
            "tensor([[-0.0063, -0.0065, -0.0052, -0.0039, -0.0074],\n",
            "        [-0.0067, -0.0069, -0.0055, -0.0041, -0.0079],\n",
            "        [-0.0031, -0.0031, -0.0025, -0.0019, -0.0036],\n",
            "        [ 0.0092,  0.0094,  0.0076,  0.0056,  0.0109],\n",
            "        [-0.0006, -0.0007, -0.0005, -0.0004, -0.0008]])\n",
            "tensor([-0.0113, -0.0120, -0.0055,  0.0164, -0.0011])\n",
            "tensor([[-0.1224, -0.1295, -0.1001, -0.1332, -0.1264]])\n",
            "tensor([-0.2302])\n"
          ]
        }
      ]
    },
    {
      "cell_type": "markdown",
      "source": [
        "Para solucionar este problema, se utilizan los skip connections. Básicamente consiste en \"conectar\" la entrada con la salida de un layer (de ahi el nombre de skip o \"shortcut\"), esta conexión permite que el gradiente pase por ahi sin reducirse mucho. "
      ],
      "metadata": {
        "id": "Y1k0-Py6rqIa"
      }
    },
    {
      "cell_type": "code",
      "source": [
        "class SkipLinear(nn.Module):\n",
        "  def __init__(self,in_features,out_features):\n",
        "    super().__init__()\n",
        "    self.fc = nn.Linear(in_features,out_features)\n",
        "    self.shortcut = torch.eye(n = in_features, m = out_features)\n",
        "  def forward(self,x):\n",
        "    return x @ self.shortcut + torch.sigmoid(self.fc(x))"
      ],
      "metadata": {
        "id": "-eMwce5MbvKO"
      },
      "execution_count": null,
      "outputs": []
    },
    {
      "cell_type": "code",
      "source": [
        "model = nn.Sequential(\n",
        "    SkipLinear(2,3),\n",
        "    SkipLinear(3,5),\n",
        "    SkipLinear(5,5),\n",
        "    SkipLinear(5,5),\n",
        "    nn.Linear(5,1),\n",
        "    nn.Sigmoid(),\n",
        ")"
      ],
      "metadata": {
        "id": "YMkjoBgqcJH3"
      },
      "execution_count": null,
      "outputs": []
    },
    {
      "cell_type": "code",
      "source": [
        "l = crit(model(x),y)\n",
        "l.backward()"
      ],
      "metadata": {
        "id": "CwYCCukKcUJX"
      },
      "execution_count": null,
      "outputs": []
    },
    {
      "cell_type": "code",
      "source": [
        "for param in model.parameters():\n",
        "  print(param.grad)"
      ],
      "metadata": {
        "colab": {
          "base_uri": "https://localhost:8080/"
        },
        "id": "vFIegbAkcarS",
        "outputId": "ae088ae8-c7e5-476b-9fb1-a2ab7e452e13"
      },
      "execution_count": null,
      "outputs": [
        {
          "output_type": "stream",
          "name": "stdout",
          "text": [
            "tensor([[-0.0007, -0.0008],\n",
            "        [ 0.0048,  0.0053],\n",
            "        [-0.0063, -0.0068]])\n",
            "tensor([-0.0021,  0.0141, -0.0184])\n",
            "tensor([[-0.0003, -0.0004, -0.0003],\n",
            "        [ 0.0107,  0.0118,  0.0084],\n",
            "        [-0.0140, -0.0154, -0.0110],\n",
            "        [ 0.0025,  0.0027,  0.0020],\n",
            "        [ 0.0023,  0.0025,  0.0018]])\n",
            "tensor([-0.0005,  0.0154, -0.0201,  0.0036,  0.0033])\n",
            "tensor([[ 0.0006,  0.0007,  0.0006,  0.0001,  0.0002],\n",
            "        [ 0.0106,  0.0118,  0.0103,  0.0025,  0.0042],\n",
            "        [-0.0198, -0.0220, -0.0191, -0.0047, -0.0079],\n",
            "        [ 0.0072,  0.0080,  0.0069,  0.0017,  0.0029],\n",
            "        [ 0.0029,  0.0032,  0.0028,  0.0007,  0.0011]])\n",
            "tensor([ 0.0006,  0.0095, -0.0177,  0.0064,  0.0026])\n",
            "tensor([[-0.0024, -0.0020, -0.0021, -0.0009, -0.0012],\n",
            "        [ 0.0204,  0.0166,  0.0173,  0.0077,  0.0105],\n",
            "        [-0.0282, -0.0229, -0.0239, -0.0107, -0.0144],\n",
            "        [ 0.0043,  0.0035,  0.0036,  0.0016,  0.0022],\n",
            "        [ 0.0020,  0.0017,  0.0017,  0.0008,  0.0010]])\n",
            "tensor([-0.0013,  0.0113, -0.0157,  0.0024,  0.0011])\n",
            "tensor([[-0.4177, -0.4227, -0.3759, -0.1557, -0.2376]])\n",
            "tensor([-0.1936])\n"
          ]
        }
      ]
    },
    {
      "cell_type": "markdown",
      "source": [
        "# ResNet: Residual Neural Networks"
      ],
      "metadata": {
        "id": "mvL5Y13NfVNo"
      }
    },
    {
      "cell_type": "markdown",
      "source": [
        "Uno de las rede convolucionales más famosas tal vez sean las redes residuales. Este tipo de redes son básicamente, redes convolucionales muy grandes (profundas) que utilizan skip connections."
      ],
      "metadata": {
        "id": "ECM-FVuXsEkk"
      }
    },
    {
      "cell_type": "markdown",
      "source": [
        "Veamos un ejemplo de una red residual"
      ],
      "metadata": {
        "id": "Lq6pkr_Wsanb"
      }
    },
    {
      "cell_type": "code",
      "source": [
        "cifar10_train_ds = torchvision.datasets.CIFAR10(\"./\",train=True,download=True,transform=torchvision.transforms.ToTensor())\n",
        "cifar10_test_ds = torchvision.datasets.CIFAR10(\"./\",train=False,download=True,transform=torchvision.transforms.ToTensor())"
      ],
      "metadata": {
        "colab": {
          "base_uri": "https://localhost:8080/",
          "height": 101,
          "referenced_widgets": [
            "d6434cd897f34ee0a92f52ce877ef031",
            "8d11892b9e2d489b8ca216aefc324efe",
            "04fae51013fd480cad4a675202f68931",
            "deb0334cf2f34efc9e6ed9939d40570c",
            "4b31f11ccbe84f21b81b53de551535e2",
            "e331a43179a64a38848991b3cf2da817",
            "923f171f74624c3e9556335c7a52ae77",
            "dd2eb39b62f64b0d856b9a5137b9a196",
            "40515b3fc45748ed9ddd083bd9a17793",
            "42055d63021e48d187896563d7a07f50",
            "20729b789bec4c8b98ba74c722ef70b3"
          ]
        },
        "id": "22HXlDoPeLT8",
        "outputId": "8c02d58f-57c9-4091-950f-adf1834a6988"
      },
      "execution_count": null,
      "outputs": [
        {
          "output_type": "stream",
          "name": "stdout",
          "text": [
            "Downloading https://www.cs.toronto.edu/~kriz/cifar-10-python.tar.gz to ./cifar-10-python.tar.gz\n"
          ]
        },
        {
          "output_type": "display_data",
          "data": {
            "application/vnd.jupyter.widget-view+json": {
              "model_id": "d6434cd897f34ee0a92f52ce877ef031",
              "version_minor": 0,
              "version_major": 2
            },
            "text/plain": [
              "  0%|          | 0/170498071 [00:00<?, ?it/s]"
            ]
          },
          "metadata": {}
        },
        {
          "output_type": "stream",
          "name": "stdout",
          "text": [
            "Extracting ./cifar-10-python.tar.gz to ./\n",
            "Files already downloaded and verified\n"
          ]
        }
      ]
    },
    {
      "cell_type": "code",
      "source": [
        "cifar10_labels = [\"airplane\",\"automobile\",\"bird\",\"cat\",\"deer\",\"dog\",\"frog\",\"horse\",\"ship\",\"truck\"]"
      ],
      "metadata": {
        "id": "M_TF6PHJe8nd"
      },
      "execution_count": null,
      "outputs": []
    },
    {
      "cell_type": "code",
      "source": [
        "N = 5\n",
        "fig, axs = plt.subplots(1,N,figsize=(16,8))\n",
        "for i, (x,y) in enumerate(cifar10_train_ds):\n",
        "  if i == N:\n",
        "    break\n",
        "  axs[i].imshow(x.reshape(3,32,32).numpy().transpose(1,2,0))\n",
        "  axs[i].set_title(cifar10_labels[y])"
      ],
      "metadata": {
        "colab": {
          "base_uri": "https://localhost:8080/",
          "height": 218
        },
        "id": "3n2GDujveesW",
        "outputId": "fd96412b-f661-4c10-8c7b-db2de87dc7d4"
      },
      "execution_count": null,
      "outputs": [
        {
          "output_type": "display_data",
          "data": {
            "image/png": "[encoded data removed]",
            "text/plain": [
              "<Figure size 1152x576 with 5 Axes>"
            ]
          },
          "metadata": {
            "needs_background": "light"
          }
        }
      ]
    },
    {
      "cell_type": "code",
      "source": [
        "cifar10_train_dl = torch.utils.data.DataLoader(cifar10_train_ds,batch_size=128)\n",
        "cifar10_test_dl = torch.utils.data.DataLoader(cifar10_test_ds,batch_size=128)"
      ],
      "metadata": {
        "id": "a7cU4T1xftJ_"
      },
      "execution_count": null,
      "outputs": []
    },
    {
      "cell_type": "code",
      "source": [
        "dev = torch.device(\"cuda:0\" if torch.cuda.is_available() else \"cpu\")"
      ],
      "metadata": {
        "id": "WRnppxhrjLI1"
      },
      "execution_count": null,
      "outputs": []
    },
    {
      "cell_type": "code",
      "source": [
        "def evaluate(model, loader, crit):\n",
        "  model.eval()\n",
        "  total = 0\n",
        "  corrects = 0\n",
        "  avg_loss = 0\n",
        "  for x, y in loader:\n",
        "    x = x.to(dev)\n",
        "    y = y.to(dev)\n",
        "    o = model(x)\n",
        "    loss = crit(o,y)\n",
        "    avg_loss += loss.item()\n",
        "    corrects += torch.sum(torch.argmax(o,axis=1) == y).item()\n",
        "    total += len(y)\n",
        "  acc = 100* corrects / total\n",
        "  avg_loss /= len(loader)  \n",
        "  return avg_loss, acc\n",
        "\n",
        "def train_one_epoch(model, train_loader, crit, optim):\n",
        "  model.train()\n",
        "  total = 0\n",
        "  corrects = 0\n",
        "  avg_loss = 0\n",
        "  for x, y in train_loader:\n",
        "    optim.zero_grad()\n",
        "    x = x.to(dev)\n",
        "    y = y.to(dev)\n",
        "    o = model(x)\n",
        "    loss = crit(o,y)\n",
        "    avg_loss += loss.item()\n",
        "    loss.backward()\n",
        "    optim.step()\n",
        "    corrects += torch.sum(torch.argmax(o,axis=1) == y).item()\n",
        "    total += len(y)\n",
        "  acc = 100 * corrects / total\n",
        "  avg_loss /= len(train_loader)\n",
        "  return avg_loss, acc\n",
        "\n",
        "def train(model, train_loader, test_loader, crit, optim, epochs = 20):\n",
        "  for epoch in range(epochs):\n",
        "    train_loss, train_acc = train_one_epoch(model, train_loader,crit, optim)\n",
        "    test_loss, test_acc = evaluate(model, test_loader, crit)\n",
        "    print(f\"epoch: {epoch}, train loss: {train_loss}, train acc: {train_acc}%, test loss: {test_loss}, test acc: {test_acc}%\")"
      ],
      "metadata": {
        "id": "36VJNBGzgbO_"
      },
      "execution_count": null,
      "outputs": []
    },
    {
      "cell_type": "markdown",
      "source": [
        "Definamos nuestro \"Bloque residual\"."
      ],
      "metadata": {
        "id": "e9l89DPrskyE"
      }
    },
    {
      "cell_type": "code",
      "source": [
        "class BasicResBlock(nn.Module):\n",
        "  def __init__(self,in_planes, out_planes, kernel_size=3, stride=1,padding=1):\n",
        "    super().__init__()\n",
        "    self.conv1 = nn.Conv2d(in_planes, out_planes, kernel_size=kernel_size,stride=stride,padding=padding,bias=False)\n",
        "    self.bn1 = nn.BatchNorm2d(out_planes)\n",
        "    self.relu1 = nn.ReLU(inplace=True)\n",
        "    self.conv2 = nn.Conv2d(out_planes, out_planes, kernel_size=kernel_size,stride=1,padding=padding,bias=False)\n",
        "    self.bn2 = nn.BatchNorm2d(out_planes)\n",
        "    self.relu2 = nn.ReLU()\n",
        "    self.shortcut = nn.Sequential()\n",
        "    if stride > 1 or in_planes != out_planes:\n",
        "      self.shortcut = nn.Sequential(\n",
        "          nn.Conv2d(in_planes,out_planes,kernel_size=1,stride=stride,padding=0,bias=False),\n",
        "          nn.BatchNorm2d(out_planes)\n",
        "      )\n",
        "  def forward(self,x):\n",
        "    o = self.conv1(x)\n",
        "    o = self.bn1(o)\n",
        "    o = self.relu1(o)\n",
        "    o = self.conv2(o)\n",
        "    o = self.bn2(o)\n",
        "    o = self.relu2(self.shortcut(x) + o)\n",
        "    return o"
      ],
      "metadata": {
        "id": "1uMCIs-Se568"
      },
      "execution_count": null,
      "outputs": []
    },
    {
      "cell_type": "markdown",
      "source": [
        "Construyamos nuestro model utilizando los bloques residuales que definimos antes."
      ],
      "metadata": {
        "id": "yJsgKIqLssIc"
      }
    },
    {
      "cell_type": "code",
      "source": [
        "cifar10_model = nn.Sequential(\n",
        "    BasicResBlock(3,16),\n",
        "    nn.MaxPool2d(kernel_size=2),\n",
        "    BasicResBlock(16,32),\n",
        "    nn.MaxPool2d(kernel_size=2),\n",
        "    BasicResBlock(32,64),\n",
        "    nn.MaxPool2d(kernel_size=2),\n",
        "    BasicResBlock(64,128),\n",
        "    nn.MaxPool2d(kernel_size=2),\n",
        "    nn.Flatten(),\n",
        "    nn.Linear(512,128),\n",
        "    nn.ReLU(inplace=True),\n",
        "    nn.Linear(128,10)\n",
        ").to(dev)"
      ],
      "metadata": {
        "id": "6HzjXC69iW-o"
      },
      "execution_count": null,
      "outputs": []
    },
    {
      "cell_type": "markdown",
      "source": [
        "Entrenemos nuestra red neuronal"
      ],
      "metadata": {
        "id": "d95ajBLlsyWY"
      }
    },
    {
      "cell_type": "code",
      "source": [
        "crit = nn.CrossEntropyLoss()\n",
        "optim = torch.optim.SGD(cifar10_model.parameters(),lr=0.01)\n",
        "\n",
        "train(cifar10_model, cifar10_train_dl, cifar10_test_dl, crit, optim, epochs=10)"
      ],
      "metadata": {
        "id": "_s_PKngIjTU3",
        "colab": {
          "base_uri": "https://localhost:8080/"
        },
        "outputId": "3dce9fad-11dd-415c-bd8c-8f8f8df08055"
      },
      "execution_count": null,
      "outputs": [
        {
          "output_type": "stream",
          "name": "stdout",
          "text": [
            "epoch: 0, train loss: 1.5598378593049695, train acc: 43.2%, test loss: 1.3338598646695101, test acc: 51.55%\n",
            "epoch: 1, train loss: 1.1557491767741834, train acc: 58.322%, test loss: 1.163758467269849, test acc: 57.86%\n",
            "epoch: 2, train loss: 0.9679951367475798, train acc: 65.488%, test loss: 1.096148548246939, test acc: 60.8%\n",
            "epoch: 3, train loss: 0.8410213761927222, train acc: 70.186%, test loss: 1.0156754828706573, test acc: 64.5%\n",
            "epoch: 4, train loss: 0.7416981981538445, train acc: 73.928%, test loss: 0.9517272371280042, test acc: 66.99%\n",
            "epoch: 5, train loss: 0.6555857122554194, train acc: 77.37%, test loss: 0.9725156245352347, test acc: 66.71%\n",
            "epoch: 6, train loss: 0.5762002197525385, train acc: 80.342%, test loss: 1.0524480237236506, test acc: 65.53%\n",
            "epoch: 7, train loss: 0.5010501058662639, train acc: 83.294%, test loss: 1.0397599422478978, test acc: 66.19%\n",
            "epoch: 8, train loss: 0.42794071736238193, train acc: 86.106%, test loss: 1.0396722298634202, test acc: 66.97%\n",
            "epoch: 9, train loss: 0.35829739714674935, train acc: 88.826%, test loss: 1.050223072872886, test acc: 67.35%\n"
          ]
        }
      ]
    },
    {
      "cell_type": "code",
      "source": [
        "cifar10_model.eval()"
      ],
      "metadata": {
        "colab": {
          "base_uri": "https://localhost:8080/"
        },
        "id": "Ox97rtzEjG8Y",
        "outputId": "af2ab727-da03-4965-9000-fd569b96832b"
      },
      "execution_count": null,
      "outputs": [
        {
          "output_type": "execute_result",
          "data": {
            "text/plain": [
              "Sequential(\n",
              "  (0): BasicResBlock(\n",
              "    (conv1): Conv2d(3, 16, kernel_size=(3, 3), stride=(1, 1), padding=(1, 1), bias=False)\n",
              "    (bn1): BatchNorm2d(16, eps=1e-05, momentum=0.1, affine=True, track_running_stats=True)\n",
              "    (relu1): ReLU(inplace=True)\n",
              "    (conv2): Conv2d(16, 16, kernel_size=(3, 3), stride=(1, 1), padding=(1, 1), bias=False)\n",
              "    (bn2): BatchNorm2d(16, eps=1e-05, momentum=0.1, affine=True, track_running_stats=True)\n",
              "    (relu2): ReLU()\n",
              "    (shortcut): Sequential(\n",
              "      (0): Conv2d(3, 16, kernel_size=(1, 1), stride=(1, 1), bias=False)\n",
              "      (1): BatchNorm2d(16, eps=1e-05, momentum=0.1, affine=True, track_running_stats=True)\n",
              "    )\n",
              "  )\n",
              "  (1): MaxPool2d(kernel_size=2, stride=2, padding=0, dilation=1, ceil_mode=False)\n",
              "  (2): BasicResBlock(\n",
              "    (conv1): Conv2d(16, 32, kernel_size=(3, 3), stride=(1, 1), padding=(1, 1), bias=False)\n",
              "    (bn1): BatchNorm2d(32, eps=1e-05, momentum=0.1, affine=True, track_running_stats=True)\n",
              "    (relu1): ReLU(inplace=True)\n",
              "    (conv2): Conv2d(32, 32, kernel_size=(3, 3), stride=(1, 1), padding=(1, 1), bias=False)\n",
              "    (bn2): BatchNorm2d(32, eps=1e-05, momentum=0.1, affine=True, track_running_stats=True)\n",
              "    (relu2): ReLU()\n",
              "    (shortcut): Sequential(\n",
              "      (0): Conv2d(16, 32, kernel_size=(1, 1), stride=(1, 1), bias=False)\n",
              "      (1): BatchNorm2d(32, eps=1e-05, momentum=0.1, affine=True, track_running_stats=True)\n",
              "    )\n",
              "  )\n",
              "  (3): MaxPool2d(kernel_size=2, stride=2, padding=0, dilation=1, ceil_mode=False)\n",
              "  (4): BasicResBlock(\n",
              "    (conv1): Conv2d(32, 64, kernel_size=(3, 3), stride=(1, 1), padding=(1, 1), bias=False)\n",
              "    (bn1): BatchNorm2d(64, eps=1e-05, momentum=0.1, affine=True, track_running_stats=True)\n",
              "    (relu1): ReLU(inplace=True)\n",
              "    (conv2): Conv2d(64, 64, kernel_size=(3, 3), stride=(1, 1), padding=(1, 1), bias=False)\n",
              "    (bn2): BatchNorm2d(64, eps=1e-05, momentum=0.1, affine=True, track_running_stats=True)\n",
              "    (relu2): ReLU()\n",
              "    (shortcut): Sequential(\n",
              "      (0): Conv2d(32, 64, kernel_size=(1, 1), stride=(1, 1), bias=False)\n",
              "      (1): BatchNorm2d(64, eps=1e-05, momentum=0.1, affine=True, track_running_stats=True)\n",
              "    )\n",
              "  )\n",
              "  (5): MaxPool2d(kernel_size=2, stride=2, padding=0, dilation=1, ceil_mode=False)\n",
              "  (6): BasicResBlock(\n",
              "    (conv1): Conv2d(64, 128, kernel_size=(3, 3), stride=(1, 1), padding=(1, 1), bias=False)\n",
              "    (bn1): BatchNorm2d(128, eps=1e-05, momentum=0.1, affine=True, track_running_stats=True)\n",
              "    (relu1): ReLU(inplace=True)\n",
              "    (conv2): Conv2d(128, 128, kernel_size=(3, 3), stride=(1, 1), padding=(1, 1), bias=False)\n",
              "    (bn2): BatchNorm2d(128, eps=1e-05, momentum=0.1, affine=True, track_running_stats=True)\n",
              "    (relu2): ReLU()\n",
              "    (shortcut): Sequential(\n",
              "      (0): Conv2d(64, 128, kernel_size=(1, 1), stride=(1, 1), bias=False)\n",
              "      (1): BatchNorm2d(128, eps=1e-05, momentum=0.1, affine=True, track_running_stats=True)\n",
              "    )\n",
              "  )\n",
              "  (7): MaxPool2d(kernel_size=2, stride=2, padding=0, dilation=1, ceil_mode=False)\n",
              "  (8): Flatten(start_dim=1, end_dim=-1)\n",
              "  (9): Linear(in_features=512, out_features=128, bias=True)\n",
              "  (10): ReLU(inplace=True)\n",
              "  (11): Linear(in_features=128, out_features=10, bias=True)\n",
              ")"
            ]
          },
          "metadata": {},
          "execution_count": 12
        }
      ]
    },
    {
      "cell_type": "markdown",
      "source": [
        "Veamos algunas predicciones"
      ],
      "metadata": {
        "id": "9JVIZMT2t_ZA"
      }
    },
    {
      "cell_type": "code",
      "source": [
        "N = 5\n",
        "fig, axs = plt.subplots(1,N,figsize=(16,8))\n",
        "for i,(x, y) in enumerate(iter(cifar10_test_ds)):\n",
        "  if i == N:\n",
        "    break\n",
        "  x = x.reshape(1,3,32,32).to(dev)\n",
        "  ypred = cifar10_model(x.to(dev))\n",
        "  axs[i].imshow(x.cpu().reshape(3,32,32).numpy().transpose(1,2,0))\n",
        "  axs[i].set_title(f\"El model predice: {cifar10_labels[torch.argmax(ypred)]}\")"
      ],
      "metadata": {
        "colab": {
          "base_uri": "https://localhost:8080/",
          "height": 218
        },
        "id": "Tbc3GKD-jRCm",
        "outputId": "b5c21d47-32dc-4e8e-effc-4a136adc9db2"
      },
      "execution_count": null,
      "outputs": [
        {
          "output_type": "display_data",
          "data": {
            "image/png": "[encoded data removed]",
            "text/plain": [
              "<Figure size 1152x576 with 5 Axes>"
            ]
          },
          "metadata": {
            "needs_background": "light"
          }
        }
      ]
    },
    {
      "cell_type": "markdown",
      "source": [
        "Utilizemos otro dataset: CIFAR10\n"
      ],
      "metadata": {
        "id": "78wbSGUAuCHI"
      }
    },
    {
      "cell_type": "code",
      "source": [
        "cifar100_train_ds = torchvision.datasets.CIFAR100(\"./\",train=True,download=True,transform=torchvision.transforms.ToTensor())\n",
        "cifar100_test_ds = torchvision.datasets.CIFAR100(\"./\",train=False,download=True,transform=torchvision.transforms.ToTensor())"
      ],
      "metadata": {
        "colab": {
          "base_uri": "https://localhost:8080/",
          "height": 101,
          "referenced_widgets": [
            "ededf0f922b246418e2d4d0d7b950f72",
            "2a54fc15c3014f469367a1de03193778",
            "b650d1f94baf4362aa2f5659fb285a99",
            "1bf1e7db411441cab081d610e2c36977",
            "3558759f965043daa88ad44bec511745",
            "efe0b340abb14b95ad3af3b6b6fdcf8e",
            "e07f782efb4d4089b4edf46adfc7442e",
            "cf7fbfb37f1548afb9c47b0594a76ff9",
            "d9b67400baf34f2b9fc7b14143a877fe",
            "df513a7d52224ee0b5a2407580edc850",
            "ef353cd17b2044509d81fdf33c46a547"
          ]
        },
        "id": "RvIdweb7jnSV",
        "outputId": "9cf6d3b7-52c7-490a-ba86-a5ca630da9d1"
      },
      "execution_count": null,
      "outputs": [
        {
          "output_type": "stream",
          "name": "stdout",
          "text": [
            "Downloading https://www.cs.toronto.edu/~kriz/cifar-100-python.tar.gz to ./cifar-100-python.tar.gz\n"
          ]
        },
        {
          "output_type": "display_data",
          "data": {
            "application/vnd.jupyter.widget-view+json": {
              "model_id": "ededf0f922b246418e2d4d0d7b950f72",
              "version_minor": 0,
              "version_major": 2
            },
            "text/plain": [
              "  0%|          | 0/169001437 [00:00<?, ?it/s]"
            ]
          },
          "metadata": {}
        },
        {
          "output_type": "stream",
          "name": "stdout",
          "text": [
            "Extracting ./cifar-100-python.tar.gz to ./\n",
            "Files already downloaded and verified\n"
          ]
        }
      ]
    },
    {
      "cell_type": "code",
      "source": [
        "import functools\n",
        "\n",
        "cifar100_superclass = [['beaver', 'dolphin', 'otter', 'seal', 'whale'],\n",
        "              ['aquarium_fish', 'flatfish', 'ray', 'shark', 'trout'],\n",
        "              ['orchid', 'poppy', 'rose', 'sunflower', 'tulip'],\n",
        "              ['bottle', 'bowl', 'can', 'cup', 'plate'],\n",
        "              ['apple', 'mushroom', 'orange', 'pear', 'sweet_pepper'],\n",
        "              ['clock', 'keyboard', 'lamp', 'telephone', 'television'],\n",
        "              ['bed', 'chair', 'couch', 'table', 'wardrobe'],\n",
        "              ['bee', 'beetle', 'butterfly', 'caterpillar', 'cockroach'],\n",
        "              ['bear', 'leopard', 'lion', 'tiger', 'wolf'],\n",
        "              ['bridge', 'castle', 'house', 'road', 'skyscraper'],\n",
        "              ['cloud', 'forest', 'mountain', 'plain', 'sea'],\n",
        "              ['camel', 'cattle', 'chimpanzee', 'elephant', 'kangaroo'],\n",
        "              ['fox', 'porcupine', 'possum', 'raccoon', 'skunk'],\n",
        "              ['crab', 'lobster', 'snail', 'spider', 'worm'],\n",
        "              ['baby', 'boy', 'girl', 'man', 'woman'],\n",
        "              ['crocodile', 'dinosaur', 'lizard', 'snake', 'turtle'],\n",
        "              ['hamster', 'mouse', 'rabbit', 'shrew', 'squirrel'],\n",
        "              ['maple_tree', 'oak_tree', 'palm_tree', 'pine_tree', 'willow_tree'],\n",
        "              ['bicycle', 'bus', 'motorcycle', 'pickup_truck', 'train'],\n",
        "              ['lawn_mower', 'rocket', 'streetcar', 'tank', 'tractor']]\n",
        "\n",
        "cifar100_labels = sorted(functools.reduce(lambda a,b: a + b, cifar100_superclass))"
      ],
      "metadata": {
        "id": "RnPX2AsHk4OG"
      },
      "execution_count": null,
      "outputs": []
    },
    {
      "cell_type": "code",
      "source": [
        "N = 5\n",
        "fig, axs = plt.subplots(1,N,figsize=(16,8))\n",
        "for i, (x,y) in enumerate(cifar100_train_ds):\n",
        "  if i == N:\n",
        "    break\n",
        "  axs[i].imshow(x.reshape(3,32,32).numpy().transpose(1,2,0))\n",
        "  axs[i].set_title(cifar100_labels[y])"
      ],
      "metadata": {
        "colab": {
          "base_uri": "https://localhost:8080/",
          "height": 218
        },
        "id": "AcLLesXLj9fu",
        "outputId": "25bf3b90-f137-4f84-d1e4-4336f467ce28"
      },
      "execution_count": null,
      "outputs": [
        {
          "output_type": "display_data",
          "data": {
            "image/png": "[encoded data removed]",
            "text/plain": [
              "<Figure size 1152x576 with 5 Axes>"
            ]
          },
          "metadata": {
            "needs_background": "light"
          }
        }
      ]
    },
    {
      "cell_type": "code",
      "source": [
        "cifar100_train_dl = torch.utils.data.DataLoader(cifar100_train_ds, batch_size = 128)\n",
        "cifar100_test_dl = torch.utils.data.DataLoader(cifar100_test_ds, batch_size = 128)"
      ],
      "metadata": {
        "id": "AdRrxb44l_VF"
      },
      "execution_count": null,
      "outputs": []
    },
    {
      "cell_type": "code",
      "source": [
        "cifar100_model = nn.Sequential(\n",
        "    BasicResBlock(3,16),\n",
        "    nn.MaxPool2d(kernel_size=2),\n",
        "    BasicResBlock(16,32),\n",
        "    nn.MaxPool2d(kernel_size=2),\n",
        "    BasicResBlock(32,64),\n",
        "    nn.MaxPool2d(kernel_size=2),\n",
        "    BasicResBlock(64,128),\n",
        "    nn.MaxPool2d(kernel_size=2),\n",
        "    nn.Flatten(),\n",
        "    nn.Linear(512,256),\n",
        "    nn.ReLU(inplace=True),\n",
        "    nn.Linear(256,100)\n",
        ").to(dev)"
      ],
      "metadata": {
        "id": "6S32tQRJjQYc"
      },
      "execution_count": null,
      "outputs": []
    },
    {
      "cell_type": "code",
      "source": [
        "crit = nn.CrossEntropyLoss()\n",
        "optim = torch.optim.Adam(cifar100_model.parameters(), lr=0.01)\n",
        "\n",
        "train(cifar100_model, cifar100_train_dl, cifar100_test_dl,crit,optim,epochs=10)"
      ],
      "metadata": {
        "colab": {
          "base_uri": "https://localhost:8080/"
        },
        "id": "kRrupcQ2jmzr",
        "outputId": "fc8533f0-d650-45ca-f96b-6015526aa0e6"
      },
      "execution_count": null,
      "outputs": [
        {
          "output_type": "stream",
          "name": "stdout",
          "text": [
            "epoch: 0, train loss: 3.9955804713851655, train acc: 7.606%, test loss: 3.656052296674704, test acc: 12.09%\n",
            "epoch: 1, train loss: 3.3831156025762144, train acc: 17.112%, test loss: 3.335155963897705, test acc: 17.99%\n",
            "epoch: 2, train loss: 3.0627322520136526, train acc: 23.066%, test loss: 3.0283568237401264, test acc: 23.88%\n",
            "epoch: 3, train loss: 2.8430573275631956, train acc: 27.282%, test loss: 2.929079107091397, test acc: 25.57%\n",
            "epoch: 4, train loss: 2.658494188962385, train acc: 30.9%, test loss: 2.79584034485153, test acc: 29.05%\n",
            "epoch: 5, train loss: 2.48882836271125, train acc: 34.094%, test loss: 2.7710394466979595, test acc: 30.72%\n",
            "epoch: 6, train loss: 2.328634625200725, train acc: 37.566%, test loss: 2.6863004376616657, test acc: 32.1%\n",
            "epoch: 7, train loss: 2.177242443994488, train acc: 40.706%, test loss: 2.6544710382630554, test acc: 34.12%\n",
            "epoch: 8, train loss: 2.0428274034539147, train acc: 43.614%, test loss: 2.6160182500187354, test acc: 35.33%\n",
            "epoch: 9, train loss: 1.9107870756817595, train acc: 46.58%, test loss: 2.6646345204944852, test acc: 34.9%\n"
          ]
        }
      ]
    },
    {
      "cell_type": "code",
      "source": [
        "cifar100_model.eval()"
      ],
      "metadata": {
        "colab": {
          "base_uri": "https://localhost:8080/"
        },
        "id": "Jir2SyvMo1Ed",
        "outputId": "fc419361-43bd-451d-e35c-d8c6fe5ef291"
      },
      "execution_count": null,
      "outputs": [
        {
          "output_type": "execute_result",
          "data": {
            "text/plain": [
              "Sequential(\n",
              "  (0): BasicResBlock(\n",
              "    (conv1): Conv2d(3, 16, kernel_size=(3, 3), stride=(1, 1), padding=(1, 1), bias=False)\n",
              "    (bn1): BatchNorm2d(16, eps=1e-05, momentum=0.1, affine=True, track_running_stats=True)\n",
              "    (relu1): ReLU(inplace=True)\n",
              "    (conv2): Conv2d(16, 16, kernel_size=(3, 3), stride=(1, 1), padding=(1, 1), bias=False)\n",
              "    (bn2): BatchNorm2d(16, eps=1e-05, momentum=0.1, affine=True, track_running_stats=True)\n",
              "    (relu2): ReLU()\n",
              "    (shortcut): Sequential(\n",
              "      (0): Conv2d(3, 16, kernel_size=(1, 1), stride=(1, 1), bias=False)\n",
              "      (1): BatchNorm2d(16, eps=1e-05, momentum=0.1, affine=True, track_running_stats=True)\n",
              "    )\n",
              "  )\n",
              "  (1): MaxPool2d(kernel_size=2, stride=2, padding=0, dilation=1, ceil_mode=False)\n",
              "  (2): BasicResBlock(\n",
              "    (conv1): Conv2d(16, 32, kernel_size=(3, 3), stride=(1, 1), padding=(1, 1), bias=False)\n",
              "    (bn1): BatchNorm2d(32, eps=1e-05, momentum=0.1, affine=True, track_running_stats=True)\n",
              "    (relu1): ReLU(inplace=True)\n",
              "    (conv2): Conv2d(32, 32, kernel_size=(3, 3), stride=(1, 1), padding=(1, 1), bias=False)\n",
              "    (bn2): BatchNorm2d(32, eps=1e-05, momentum=0.1, affine=True, track_running_stats=True)\n",
              "    (relu2): ReLU()\n",
              "    (shortcut): Sequential(\n",
              "      (0): Conv2d(16, 32, kernel_size=(1, 1), stride=(1, 1), bias=False)\n",
              "      (1): BatchNorm2d(32, eps=1e-05, momentum=0.1, affine=True, track_running_stats=True)\n",
              "    )\n",
              "  )\n",
              "  (3): MaxPool2d(kernel_size=2, stride=2, padding=0, dilation=1, ceil_mode=False)\n",
              "  (4): BasicResBlock(\n",
              "    (conv1): Conv2d(32, 64, kernel_size=(3, 3), stride=(1, 1), padding=(1, 1), bias=False)\n",
              "    (bn1): BatchNorm2d(64, eps=1e-05, momentum=0.1, affine=True, track_running_stats=True)\n",
              "    (relu1): ReLU(inplace=True)\n",
              "    (conv2): Conv2d(64, 64, kernel_size=(3, 3), stride=(1, 1), padding=(1, 1), bias=False)\n",
              "    (bn2): BatchNorm2d(64, eps=1e-05, momentum=0.1, affine=True, track_running_stats=True)\n",
              "    (relu2): ReLU()\n",
              "    (shortcut): Sequential(\n",
              "      (0): Conv2d(32, 64, kernel_size=(1, 1), stride=(1, 1), bias=False)\n",
              "      (1): BatchNorm2d(64, eps=1e-05, momentum=0.1, affine=True, track_running_stats=True)\n",
              "    )\n",
              "  )\n",
              "  (5): MaxPool2d(kernel_size=2, stride=2, padding=0, dilation=1, ceil_mode=False)\n",
              "  (6): BasicResBlock(\n",
              "    (conv1): Conv2d(64, 128, kernel_size=(3, 3), stride=(1, 1), padding=(1, 1), bias=False)\n",
              "    (bn1): BatchNorm2d(128, eps=1e-05, momentum=0.1, affine=True, track_running_stats=True)\n",
              "    (relu1): ReLU(inplace=True)\n",
              "    (conv2): Conv2d(128, 128, kernel_size=(3, 3), stride=(1, 1), padding=(1, 1), bias=False)\n",
              "    (bn2): BatchNorm2d(128, eps=1e-05, momentum=0.1, affine=True, track_running_stats=True)\n",
              "    (relu2): ReLU()\n",
              "    (shortcut): Sequential(\n",
              "      (0): Conv2d(64, 128, kernel_size=(1, 1), stride=(1, 1), bias=False)\n",
              "      (1): BatchNorm2d(128, eps=1e-05, momentum=0.1, affine=True, track_running_stats=True)\n",
              "    )\n",
              "  )\n",
              "  (7): MaxPool2d(kernel_size=2, stride=2, padding=0, dilation=1, ceil_mode=False)\n",
              "  (8): Flatten(start_dim=1, end_dim=-1)\n",
              "  (9): Linear(in_features=512, out_features=256, bias=True)\n",
              "  (10): ReLU(inplace=True)\n",
              "  (11): Linear(in_features=256, out_features=100, bias=True)\n",
              ")"
            ]
          },
          "metadata": {},
          "execution_count": 20
        }
      ]
    },
    {
      "cell_type": "code",
      "source": [
        "M = 4\n",
        "N = 5"
      ],
      "metadata": {
        "id": "vv6SdPXQxMbz"
      },
      "execution_count": null,
      "outputs": []
    },
    {
      "cell_type": "code",
      "source": [
        "soft_max = nn.Softmax(dim=1)"
      ],
      "metadata": {
        "id": "xnDjoAseyU7y"
      },
      "execution_count": null,
      "outputs": []
    },
    {
      "cell_type": "code",
      "source": [
        "ypred_ = []\n",
        "for i, (x, y) in enumerate(iter(cifar100_test_ds)):\n",
        "  if i == N*M:\n",
        "    break\n",
        "  x = x.reshape(1,3,32,32).to(dev)\n",
        "  ypred_.append(soft_max(cifar100_model(x).cpu().detach()))"
      ],
      "metadata": {
        "id": "klA8U3CTws9X"
      },
      "execution_count": null,
      "outputs": []
    },
    {
      "cell_type": "code",
      "source": [
        "fig, axs = plt.subplots(M,2*N,figsize=(32,4*M))\n",
        "for i,(x, y) in enumerate(iter(cifar100_test_ds)):\n",
        "  if i == N*M:\n",
        "    break\n",
        "  axs[i//N, 2*(i%N)].imshow(x.reshape(3,32,32).numpy().transpose(1,2,0))\n",
        "  axs[i//N, 2*(i%N)].set_title(f\"{cifar100_labels[y]}\")\n",
        "  top5_idxs = torch.argsort(ypred_[i][0],descending=True)[:5]\n",
        "  axs[i//N, 2*(i%N) + 1].barh(list(range(5)),ypred_[i][0][top5_idxs].numpy())\n",
        "  axs[i//N, 2*(i%N) + 1].set_yticks(list(range(5)))\n",
        "  axs[i//N, 2*(i%N) + 1].set_yticklabels([cifar100_labels[i] for i in top5_idxs])\n",
        "plt.tight_layout()"
      ],
      "metadata": {
        "colab": {
          "base_uri": "https://localhost:8080/",
          "height": 1000
        },
        "id": "LCxFHKWOo5Mc",
        "outputId": "8004ebb4-b063-4d77-c0c0-81eab52d6f60"
      },
      "execution_count": null,
      "outputs": [
        {
          "output_type": "display_data",
          "data": {
            "image/png": "[encoded data removed]",
            "text/plain": [
              "<Figure size 2304x1152 with 40 Axes>"
            ]
          },
          "metadata": {
            "needs_background": "light"
          }
        }
      ]
    },
    {
      "cell_type": "markdown",
      "source": [
        "Veamos un model (resnet18) pre entrenado en el dataset Imagenet1K."
      ],
      "metadata": {
        "id": "VIko18amvl4G"
      }
    },
    {
      "cell_type": "code",
      "source": [
        "resnet18_model = torchvision.models.resnet18(pretrained=True)"
      ],
      "metadata": {
        "id": "16g3Y9gB44MU",
        "colab": {
          "base_uri": "https://localhost:8080/",
          "height": 66,
          "referenced_widgets": [
            "49672662ae244247b07d8e195babee63",
            "3a42a1d45f8244febf110ec14409dd6e",
            "37d1adf0c0b64482ad66a3dd0aaaf98c",
            "26f29d370f51496ea210938bf43b5fc8",
            "99f0baa0ddf04101b1f0b097cf03fe7b",
            "b2ef3b36c3c94c849c99da6e2dc14768",
            "50e802c0e8274f498e4d305cadde8cd1",
            "44c33fa831ed4dd59dfbcffc7d40069b",
            "34dd797e0e6c45e4818c68736e40a2c3",
            "ccb6c06f58494ecca761090040933dc3",
            "ec8ee515be144f669830ad90f356ce37"
          ]
        },
        "outputId": "ee132ad8-9f3f-4727-e95c-6588305a7446"
      },
      "execution_count": null,
      "outputs": [
        {
          "output_type": "stream",
          "name": "stderr",
          "text": [
            "Downloading: \"https://download.pytorch.org/models/resnet18-f37072fd.pth\" to /root/.cache/torch/hub/checkpoints/resnet18-f37072fd.pth\n"
          ]
        },
        {
          "output_type": "display_data",
          "data": {
            "application/vnd.jupyter.widget-view+json": {
              "model_id": "49672662ae244247b07d8e195babee63",
              "version_minor": 0,
              "version_major": 2
            },
            "text/plain": [
              "  0%|          | 0.00/44.7M [00:00<?, ?B/s]"
            ]
          },
          "metadata": {}
        }
      ]
    },
    {
      "cell_type": "code",
      "source": [
        "!wget https://gist.githubusercontent.com/yrevar/942d3a0ac09ec9e5eb3a/raw/238f720ff059c1f82f368259d1ca4ffa5dd8f9f5/imagenet1000_clsidx_to_labels.txt\n",
        "\n",
        "with open(\"imagenet1000_clsidx_to_labels.txt\",\"r\") as f:\n",
        "  img1k_labels_ = f.readlines()"
      ],
      "metadata": {
        "colab": {
          "base_uri": "https://localhost:8080/"
        },
        "id": "TzHgvjno5B2s",
        "outputId": "eea164a9-5222-44bc-c48f-bcf0e6ecaf4a"
      },
      "execution_count": null,
      "outputs": [
        {
          "output_type": "stream",
          "name": "stdout",
          "text": [
            "--2022-01-29 07:32:00--  https://gist.githubusercontent.com/yrevar/942d3a0ac09ec9e5eb3a/raw/238f720ff059c1f82f368259d1ca4ffa5dd8f9f5/imagenet1000_clsidx_to_labels.txt\n",
            "Resolving gist.githubusercontent.com (gist.githubusercontent.com)... 185.199.108.133, 185.199.109.133, 185.199.110.133, ...\n",
            "Connecting to gist.githubusercontent.com (gist.githubusercontent.com)|185.199.108.133|:443... connected.\n",
            "HTTP request sent, awaiting response... 200 OK\n",
            "Length: 30564 (30K) [text/plain]\n",
            "Saving to: ‘imagenet1000_clsidx_to_labels.txt’\n",
            "\n",
            "\r          imagenet1   0%[                    ]       0  --.-KB/s               \rimagenet1000_clsidx 100%[===================>]  29.85K  --.-KB/s    in 0.002s  \n",
            "\n",
            "2022-01-29 07:32:00 (13.7 MB/s) - ‘imagenet1000_clsidx_to_labels.txt’ saved [30564/30564]\n",
            "\n"
          ]
        }
      ]
    },
    {
      "cell_type": "code",
      "source": [
        "import functools\n",
        "\n",
        "img1k_labels_ = functools.reduce(lambda a, b: a+b, img1k_labels_)\n",
        "img1k_labels = eval(img1k_labels_)"
      ],
      "metadata": {
        "id": "w4B112L95XpF"
      },
      "execution_count": null,
      "outputs": []
    },
    {
      "cell_type": "code",
      "source": [
        "!wget https://i.pinimg.com/originals/a1/b6/e1/a1b6e19e01422fa942aad1a8985130b5.png -O dog_poodle.png"
      ],
      "metadata": {
        "colab": {
          "base_uri": "https://localhost:8080/"
        },
        "id": "xjevI0-55zEn",
        "outputId": "0502752b-1d0e-4507-aa01-a8bcb0c7637a"
      },
      "execution_count": null,
      "outputs": [
        {
          "output_type": "stream",
          "name": "stdout",
          "text": [
            "--2022-01-29 07:32:08--  https://i.pinimg.com/originals/a1/b6/e1/a1b6e19e01422fa942aad1a8985130b5.png\n",
            "Resolving i.pinimg.com (i.pinimg.com)... 23.11.224.196, 2a04:4e42:3e::84\n",
            "Connecting to i.pinimg.com (i.pinimg.com)|23.11.224.196|:443... connected.\n",
            "HTTP request sent, awaiting response... 200 OK\n",
            "Length: 553043 (540K) [image/png]\n",
            "Saving to: ‘dog_poodle.png’\n",
            "\n",
            "\rdog_poodle.png        0%[                    ]       0  --.-KB/s               \rdog_poodle.png      100%[===================>] 540.08K  --.-KB/s    in 0.06s   \n",
            "\n",
            "2022-01-29 07:32:09 (9.37 MB/s) - ‘dog_poodle.png’ saved [553043/553043]\n",
            "\n"
          ]
        }
      ]
    },
    {
      "cell_type": "code",
      "source": [
        "transf_img = torchvision.transforms.Compose([\n",
        "  torchvision.transforms.Resize(256),\n",
        "  torchvision.transforms.RandomResizedCrop(224),\n",
        "  torchvision.transforms.ToTensor(),\n",
        "  torchvision.transforms.Normalize([0.485, 0.456, 0.406,0], [0.229, 0.224, 0.225,1])\n",
        "                                            \n",
        "])"
      ],
      "metadata": {
        "id": "_KUMNoJs6OTb"
      },
      "execution_count": null,
      "outputs": []
    },
    {
      "cell_type": "code",
      "source": [
        "I = PIL.Image.open(open(\"dog_poodle.png\",\"rb\"))\n",
        "I1 = transf_img(I)\n",
        "x = I1[:3,:,:].reshape(1,3,224,224)"
      ],
      "metadata": {
        "id": "eCzELXcw518w"
      },
      "execution_count": null,
      "outputs": []
    },
    {
      "cell_type": "code",
      "source": [
        "resnet18_model.eval()"
      ],
      "metadata": {
        "colab": {
          "base_uri": "https://localhost:8080/"
        },
        "id": "y55lUY4175Iu",
        "outputId": "a44f9aa2-737e-4ec2-dda1-0e9f1bc2ea68"
      },
      "execution_count": null,
      "outputs": [
        {
          "output_type": "execute_result",
          "data": {
            "text/plain": [
              "ResNet(\n",
              "  (conv1): Conv2d(3, 64, kernel_size=(7, 7), stride=(2, 2), padding=(3, 3), bias=False)\n",
              "  (bn1): BatchNorm2d(64, eps=1e-05, momentum=0.1, affine=True, track_running_stats=True)\n",
              "  (relu): ReLU(inplace=True)\n",
              "  (maxpool): MaxPool2d(kernel_size=3, stride=2, padding=1, dilation=1, ceil_mode=False)\n",
              "  (layer1): Sequential(\n",
              "    (0): BasicBlock(\n",
              "      (conv1): Conv2d(64, 64, kernel_size=(3, 3), stride=(1, 1), padding=(1, 1), bias=False)\n",
              "      (bn1): BatchNorm2d(64, eps=1e-05, momentum=0.1, affine=True, track_running_stats=True)\n",
              "      (relu): ReLU(inplace=True)\n",
              "      (conv2): Conv2d(64, 64, kernel_size=(3, 3), stride=(1, 1), padding=(1, 1), bias=False)\n",
              "      (bn2): BatchNorm2d(64, eps=1e-05, momentum=0.1, affine=True, track_running_stats=True)\n",
              "    )\n",
              "    (1): BasicBlock(\n",
              "      (conv1): Conv2d(64, 64, kernel_size=(3, 3), stride=(1, 1), padding=(1, 1), bias=False)\n",
              "      (bn1): BatchNorm2d(64, eps=1e-05, momentum=0.1, affine=True, track_running_stats=True)\n",
              "      (relu): ReLU(inplace=True)\n",
              "      (conv2): Conv2d(64, 64, kernel_size=(3, 3), stride=(1, 1), padding=(1, 1), bias=False)\n",
              "      (bn2): BatchNorm2d(64, eps=1e-05, momentum=0.1, affine=True, track_running_stats=True)\n",
              "    )\n",
              "  )\n",
              "  (layer2): Sequential(\n",
              "    (0): BasicBlock(\n",
              "      (conv1): Conv2d(64, 128, kernel_size=(3, 3), stride=(2, 2), padding=(1, 1), bias=False)\n",
              "      (bn1): BatchNorm2d(128, eps=1e-05, momentum=0.1, affine=True, track_running_stats=True)\n",
              "      (relu): ReLU(inplace=True)\n",
              "      (conv2): Conv2d(128, 128, kernel_size=(3, 3), stride=(1, 1), padding=(1, 1), bias=False)\n",
              "      (bn2): BatchNorm2d(128, eps=1e-05, momentum=0.1, affine=True, track_running_stats=True)\n",
              "      (downsample): Sequential(\n",
              "        (0): Conv2d(64, 128, kernel_size=(1, 1), stride=(2, 2), bias=False)\n",
              "        (1): BatchNorm2d(128, eps=1e-05, momentum=0.1, affine=True, track_running_stats=True)\n",
              "      )\n",
              "    )\n",
              "    (1): BasicBlock(\n",
              "      (conv1): Conv2d(128, 128, kernel_size=(3, 3), stride=(1, 1), padding=(1, 1), bias=False)\n",
              "      (bn1): BatchNorm2d(128, eps=1e-05, momentum=0.1, affine=True, track_running_stats=True)\n",
              "      (relu): ReLU(inplace=True)\n",
              "      (conv2): Conv2d(128, 128, kernel_size=(3, 3), stride=(1, 1), padding=(1, 1), bias=False)\n",
              "      (bn2): BatchNorm2d(128, eps=1e-05, momentum=0.1, affine=True, track_running_stats=True)\n",
              "    )\n",
              "  )\n",
              "  (layer3): Sequential(\n",
              "    (0): BasicBlock(\n",
              "      (conv1): Conv2d(128, 256, kernel_size=(3, 3), stride=(2, 2), padding=(1, 1), bias=False)\n",
              "      (bn1): BatchNorm2d(256, eps=1e-05, momentum=0.1, affine=True, track_running_stats=True)\n",
              "      (relu): ReLU(inplace=True)\n",
              "      (conv2): Conv2d(256, 256, kernel_size=(3, 3), stride=(1, 1), padding=(1, 1), bias=False)\n",
              "      (bn2): BatchNorm2d(256, eps=1e-05, momentum=0.1, affine=True, track_running_stats=True)\n",
              "      (downsample): Sequential(\n",
              "        (0): Conv2d(128, 256, kernel_size=(1, 1), stride=(2, 2), bias=False)\n",
              "        (1): BatchNorm2d(256, eps=1e-05, momentum=0.1, affine=True, track_running_stats=True)\n",
              "      )\n",
              "    )\n",
              "    (1): BasicBlock(\n",
              "      (conv1): Conv2d(256, 256, kernel_size=(3, 3), stride=(1, 1), padding=(1, 1), bias=False)\n",
              "      (bn1): BatchNorm2d(256, eps=1e-05, momentum=0.1, affine=True, track_running_stats=True)\n",
              "      (relu): ReLU(inplace=True)\n",
              "      (conv2): Conv2d(256, 256, kernel_size=(3, 3), stride=(1, 1), padding=(1, 1), bias=False)\n",
              "      (bn2): BatchNorm2d(256, eps=1e-05, momentum=0.1, affine=True, track_running_stats=True)\n",
              "    )\n",
              "  )\n",
              "  (layer4): Sequential(\n",
              "    (0): BasicBlock(\n",
              "      (conv1): Conv2d(256, 512, kernel_size=(3, 3), stride=(2, 2), padding=(1, 1), bias=False)\n",
              "      (bn1): BatchNorm2d(512, eps=1e-05, momentum=0.1, affine=True, track_running_stats=True)\n",
              "      (relu): ReLU(inplace=True)\n",
              "      (conv2): Conv2d(512, 512, kernel_size=(3, 3), stride=(1, 1), padding=(1, 1), bias=False)\n",
              "      (bn2): BatchNorm2d(512, eps=1e-05, momentum=0.1, affine=True, track_running_stats=True)\n",
              "      (downsample): Sequential(\n",
              "        (0): Conv2d(256, 512, kernel_size=(1, 1), stride=(2, 2), bias=False)\n",
              "        (1): BatchNorm2d(512, eps=1e-05, momentum=0.1, affine=True, track_running_stats=True)\n",
              "      )\n",
              "    )\n",
              "    (1): BasicBlock(\n",
              "      (conv1): Conv2d(512, 512, kernel_size=(3, 3), stride=(1, 1), padding=(1, 1), bias=False)\n",
              "      (bn1): BatchNorm2d(512, eps=1e-05, momentum=0.1, affine=True, track_running_stats=True)\n",
              "      (relu): ReLU(inplace=True)\n",
              "      (conv2): Conv2d(512, 512, kernel_size=(3, 3), stride=(1, 1), padding=(1, 1), bias=False)\n",
              "      (bn2): BatchNorm2d(512, eps=1e-05, momentum=0.1, affine=True, track_running_stats=True)\n",
              "    )\n",
              "  )\n",
              "  (avgpool): AdaptiveAvgPool2d(output_size=(1, 1))\n",
              "  (fc): Linear(in_features=512, out_features=1000, bias=True)\n",
              ")"
            ]
          },
          "metadata": {},
          "execution_count": 31
        }
      ]
    },
    {
      "cell_type": "code",
      "source": [
        "img1k_labels[torch.argmax(resnet18_model(x)).item()]"
      ],
      "metadata": {
        "colab": {
          "base_uri": "https://localhost:8080/",
          "height": 35
        },
        "id": "JqRzZDJG50XQ",
        "outputId": "210667f3-66ac-4b22-8449-0adbb8d4977a"
      },
      "execution_count": null,
      "outputs": [
        {
          "output_type": "execute_result",
          "data": {
            "application/vnd.google.colaboratory.intrinsic+json": {
              "type": "string"
            },
            "text/plain": [
              "'toy poodle'"
            ]
          },
          "metadata": {},
          "execution_count": 32
        }
      ]
    }
  ]
}