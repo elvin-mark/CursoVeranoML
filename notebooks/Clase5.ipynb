{
  "nbformat": 4,
  "nbformat_minor": 0,
  "metadata": {
    "colab": {
      "name": "Clase5.ipynb",
      "provenance": [],
      "collapsed_sections": []
    },
    "kernelspec": {
      "name": "python3",
      "display_name": "Python 3"
    },
    "language_info": {
      "name": "python"
    },
    "widgets": {
      "application/vnd.jupyter.widget-state+json": {
        "18eb0fdbfa6c4a9ca2f7a1d6cc1326b3": {
          "model_module": "@jupyter-widgets/controls",
          "model_name": "HBoxModel",
          "model_module_version": "1.5.0",
          "state": {
            "_view_name": "HBoxView",
            "_dom_classes": [],
            "_model_name": "HBoxModel",
            "_view_module": "@jupyter-widgets/controls",
            "_model_module_version": "1.5.0",
            "_view_count": null,
            "_view_module_version": "1.5.0",
            "box_style": "",
            "layout": "IPY_MODEL_b2584a5d5eef4fa5b52af26becd0300d",
            "_model_module": "@jupyter-widgets/controls",
            "children": [
              "IPY_MODEL_505966fbfa414810b6da6b8c57d532c0",
              "IPY_MODEL_fd7e22559c2a427bb6c1ed217ec59ba1",
              "IPY_MODEL_67911a7c86b14f0e8ee01d28a83e4578"
            ]
          }
        },
        "b2584a5d5eef4fa5b52af26becd0300d": {
          "model_module": "@jupyter-widgets/base",
          "model_name": "LayoutModel",
          "model_module_version": "1.2.0",
          "state": {
            "_view_name": "LayoutView",
            "grid_template_rows": null,
            "right": null,
            "justify_content": null,
            "_view_module": "@jupyter-widgets/base",
            "overflow": null,
            "_model_module_version": "1.2.0",
            "_view_count": null,
            "flex_flow": null,
            "width": null,
            "min_width": null,
            "border": null,
            "align_items": null,
            "bottom": null,
            "_model_module": "@jupyter-widgets/base",
            "top": null,
            "grid_column": null,
            "overflow_y": null,
            "overflow_x": null,
            "grid_auto_flow": null,
            "grid_area": null,
            "grid_template_columns": null,
            "flex": null,
            "_model_name": "LayoutModel",
            "justify_items": null,
            "grid_row": null,
            "max_height": null,
            "align_content": null,
            "visibility": null,
            "align_self": null,
            "height": null,
            "min_height": null,
            "padding": null,
            "grid_auto_rows": null,
            "grid_gap": null,
            "max_width": null,
            "order": null,
            "_view_module_version": "1.2.0",
            "grid_template_areas": null,
            "object_position": null,
            "object_fit": null,
            "grid_auto_columns": null,
            "margin": null,
            "display": null,
            "left": null
          }
        },
        "505966fbfa414810b6da6b8c57d532c0": {
          "model_module": "@jupyter-widgets/controls",
          "model_name": "HTMLModel",
          "model_module_version": "1.5.0",
          "state": {
            "_view_name": "HTMLView",
            "style": "IPY_MODEL_8db3a2a1eab44c709ff5592fa61f65be",
            "_dom_classes": [],
            "description": "",
            "_model_name": "HTMLModel",
            "placeholder": "​",
            "_view_module": "@jupyter-widgets/controls",
            "_model_module_version": "1.5.0",
            "value": "Downloading: 100%",
            "_view_count": null,
            "_view_module_version": "1.5.0",
            "description_tooltip": null,
            "_model_module": "@jupyter-widgets/controls",
            "layout": "IPY_MODEL_30ffbfce81a04354b9a4f9fc01dec94a"
          }
        },
        "fd7e22559c2a427bb6c1ed217ec59ba1": {
          "model_module": "@jupyter-widgets/controls",
          "model_name": "FloatProgressModel",
          "model_module_version": "1.5.0",
          "state": {
            "_view_name": "ProgressView",
            "style": "IPY_MODEL_00801ded551a4e6f8847d036e986c335",
            "_dom_classes": [],
            "description": "",
            "_model_name": "FloatProgressModel",
            "bar_style": "success",
            "max": 801636,
            "_view_module": "@jupyter-widgets/controls",
            "_model_module_version": "1.5.0",
            "value": 801636,
            "_view_count": null,
            "_view_module_version": "1.5.0",
            "orientation": "horizontal",
            "min": 0,
            "description_tooltip": null,
            "_model_module": "@jupyter-widgets/controls",
            "layout": "IPY_MODEL_473297c61585415a932499321a0cfee2"
          }
        },
        "67911a7c86b14f0e8ee01d28a83e4578": {
          "model_module": "@jupyter-widgets/controls",
          "model_name": "HTMLModel",
          "model_module_version": "1.5.0",
          "state": {
            "_view_name": "HTMLView",
            "style": "IPY_MODEL_114cf720e2fa46e28170d149d80f4ddb",
            "_dom_classes": [],
            "description": "",
            "_model_name": "HTMLModel",
            "placeholder": "​",
            "_view_module": "@jupyter-widgets/controls",
            "_model_module_version": "1.5.0",
            "value": " 783k/783k [00:00&lt;00:00, 644kB/s]",
            "_view_count": null,
            "_view_module_version": "1.5.0",
            "description_tooltip": null,
            "_model_module": "@jupyter-widgets/controls",
            "layout": "IPY_MODEL_4a381723235d434f97da9da59048814d"
          }
        },
        "8db3a2a1eab44c709ff5592fa61f65be": {
          "model_module": "@jupyter-widgets/controls",
          "model_name": "DescriptionStyleModel",
          "model_module_version": "1.5.0",
          "state": {
            "_view_name": "StyleView",
            "_model_name": "DescriptionStyleModel",
            "description_width": "",
            "_view_module": "@jupyter-widgets/base",
            "_model_module_version": "1.5.0",
            "_view_count": null,
            "_view_module_version": "1.2.0",
            "_model_module": "@jupyter-widgets/controls"
          }
        },
        "30ffbfce81a04354b9a4f9fc01dec94a": {
          "model_module": "@jupyter-widgets/base",
          "model_name": "LayoutModel",
          "model_module_version": "1.2.0",
          "state": {
            "_view_name": "LayoutView",
            "grid_template_rows": null,
            "right": null,
            "justify_content": null,
            "_view_module": "@jupyter-widgets/base",
            "overflow": null,
            "_model_module_version": "1.2.0",
            "_view_count": null,
            "flex_flow": null,
            "width": null,
            "min_width": null,
            "border": null,
            "align_items": null,
            "bottom": null,
            "_model_module": "@jupyter-widgets/base",
            "top": null,
            "grid_column": null,
            "overflow_y": null,
            "overflow_x": null,
            "grid_auto_flow": null,
            "grid_area": null,
            "grid_template_columns": null,
            "flex": null,
            "_model_name": "LayoutModel",
            "justify_items": null,
            "grid_row": null,
            "max_height": null,
            "align_content": null,
            "visibility": null,
            "align_self": null,
            "height": null,
            "min_height": null,
            "padding": null,
            "grid_auto_rows": null,
            "grid_gap": null,
            "max_width": null,
            "order": null,
            "_view_module_version": "1.2.0",
            "grid_template_areas": null,
            "object_position": null,
            "object_fit": null,
            "grid_auto_columns": null,
            "margin": null,
            "display": null,
            "left": null
          }
        },
        "00801ded551a4e6f8847d036e986c335": {
          "model_module": "@jupyter-widgets/controls",
          "model_name": "ProgressStyleModel",
          "model_module_version": "1.5.0",
          "state": {
            "_view_name": "StyleView",
            "_model_name": "ProgressStyleModel",
            "description_width": "",
            "_view_module": "@jupyter-widgets/base",
            "_model_module_version": "1.5.0",
            "_view_count": null,
            "_view_module_version": "1.2.0",
            "bar_color": null,
            "_model_module": "@jupyter-widgets/controls"
          }
        },
        "473297c61585415a932499321a0cfee2": {
          "model_module": "@jupyter-widgets/base",
          "model_name": "LayoutModel",
          "model_module_version": "1.2.0",
          "state": {
            "_view_name": "LayoutView",
            "grid_template_rows": null,
            "right": null,
            "justify_content": null,
            "_view_module": "@jupyter-widgets/base",
            "overflow": null,
            "_model_module_version": "1.2.0",
            "_view_count": null,
            "flex_flow": null,
            "width": null,
            "min_width": null,
            "border": null,
            "align_items": null,
            "bottom": null,
            "_model_module": "@jupyter-widgets/base",
            "top": null,
            "grid_column": null,
            "overflow_y": null,
            "overflow_x": null,
            "grid_auto_flow": null,
            "grid_area": null,
            "grid_template_columns": null,
            "flex": null,
            "_model_name": "LayoutModel",
            "justify_items": null,
            "grid_row": null,
            "max_height": null,
            "align_content": null,
            "visibility": null,
            "align_self": null,
            "height": null,
            "min_height": null,
            "padding": null,
            "grid_auto_rows": null,
            "grid_gap": null,
            "max_width": null,
            "order": null,
            "_view_module_version": "1.2.0",
            "grid_template_areas": null,
            "object_position": null,
            "object_fit": null,
            "grid_auto_columns": null,
            "margin": null,
            "display": null,
            "left": null
          }
        },
        "114cf720e2fa46e28170d149d80f4ddb": {
          "model_module": "@jupyter-widgets/controls",
          "model_name": "DescriptionStyleModel",
          "model_module_version": "1.5.0",
          "state": {
            "_view_name": "StyleView",
            "_model_name": "DescriptionStyleModel",
            "description_width": "",
            "_view_module": "@jupyter-widgets/base",
            "_model_module_version": "1.5.0",
            "_view_count": null,
            "_view_module_version": "1.2.0",
            "_model_module": "@jupyter-widgets/controls"
          }
        },
        "4a381723235d434f97da9da59048814d": {
          "model_module": "@jupyter-widgets/base",
          "model_name": "LayoutModel",
          "model_module_version": "1.2.0",
          "state": {
            "_view_name": "LayoutView",
            "grid_template_rows": null,
            "right": null,
            "justify_content": null,
            "_view_module": "@jupyter-widgets/base",
            "overflow": null,
            "_model_module_version": "1.2.0",
            "_view_count": null,
            "flex_flow": null,
            "width": null,
            "min_width": null,
            "border": null,
            "align_items": null,
            "bottom": null,
            "_model_module": "@jupyter-widgets/base",
            "top": null,
            "grid_column": null,
            "overflow_y": null,
            "overflow_x": null,
            "grid_auto_flow": null,
            "grid_area": null,
            "grid_template_columns": null,
            "flex": null,
            "_model_name": "LayoutModel",
            "justify_items": null,
            "grid_row": null,
            "max_height": null,
            "align_content": null,
            "visibility": null,
            "align_self": null,
            "height": null,
            "min_height": null,
            "padding": null,
            "grid_auto_rows": null,
            "grid_gap": null,
            "max_width": null,
            "order": null,
            "_view_module_version": "1.2.0",
            "grid_template_areas": null,
            "object_position": null,
            "object_fit": null,
            "grid_auto_columns": null,
            "margin": null,
            "display": null,
            "left": null
          }
        },
        "19efd467eebb4155bc0744c177b1f881": {
          "model_module": "@jupyter-widgets/controls",
          "model_name": "HBoxModel",
          "model_module_version": "1.5.0",
          "state": {
            "_view_name": "HBoxView",
            "_dom_classes": [],
            "_model_name": "HBoxModel",
            "_view_module": "@jupyter-widgets/controls",
            "_model_module_version": "1.5.0",
            "_view_count": null,
            "_view_module_version": "1.5.0",
            "box_style": "",
            "layout": "IPY_MODEL_91cecaf3236540b29063d23ce188358d",
            "_model_module": "@jupyter-widgets/controls",
            "children": [
              "IPY_MODEL_f848e8d072a04a9ea8a1c2f591a76d77",
              "IPY_MODEL_e57661a209b741259392afed013dd8a3",
              "IPY_MODEL_fd54f9083b224aa7b245c694e8344bff"
            ]
          }
        },
        "91cecaf3236540b29063d23ce188358d": {
          "model_module": "@jupyter-widgets/base",
          "model_name": "LayoutModel",
          "model_module_version": "1.2.0",
          "state": {
            "_view_name": "LayoutView",
            "grid_template_rows": null,
            "right": null,
            "justify_content": null,
            "_view_module": "@jupyter-widgets/base",
            "overflow": null,
            "_model_module_version": "1.2.0",
            "_view_count": null,
            "flex_flow": null,
            "width": null,
            "min_width": null,
            "border": null,
            "align_items": null,
            "bottom": null,
            "_model_module": "@jupyter-widgets/base",
            "top": null,
            "grid_column": null,
            "overflow_y": null,
            "overflow_x": null,
            "grid_auto_flow": null,
            "grid_area": null,
            "grid_template_columns": null,
            "flex": null,
            "_model_name": "LayoutModel",
            "justify_items": null,
            "grid_row": null,
            "max_height": null,
            "align_content": null,
            "visibility": null,
            "align_self": null,
            "height": null,
            "min_height": null,
            "padding": null,
            "grid_auto_rows": null,
            "grid_gap": null,
            "max_width": null,
            "order": null,
            "_view_module_version": "1.2.0",
            "grid_template_areas": null,
            "object_position": null,
            "object_fit": null,
            "grid_auto_columns": null,
            "margin": null,
            "display": null,
            "left": null
          }
        },
        "f848e8d072a04a9ea8a1c2f591a76d77": {
          "model_module": "@jupyter-widgets/controls",
          "model_name": "HTMLModel",
          "model_module_version": "1.5.0",
          "state": {
            "_view_name": "HTMLView",
            "style": "IPY_MODEL_654ba2cf5f3c4592904309dba3a4876b",
            "_dom_classes": [],
            "description": "",
            "_model_name": "HTMLModel",
            "placeholder": "​",
            "_view_module": "@jupyter-widgets/controls",
            "_model_module_version": "1.5.0",
            "value": "Downloading: 100%",
            "_view_count": null,
            "_view_module_version": "1.5.0",
            "description_tooltip": null,
            "_model_module": "@jupyter-widgets/controls",
            "layout": "IPY_MODEL_b7beb3c411a34ea98089c72e771dcde8"
          }
        },
        "e57661a209b741259392afed013dd8a3": {
          "model_module": "@jupyter-widgets/controls",
          "model_name": "FloatProgressModel",
          "model_module_version": "1.5.0",
          "state": {
            "_view_name": "ProgressView",
            "style": "IPY_MODEL_182ca5347a5a4873aa60dc8f500a2b79",
            "_dom_classes": [],
            "description": "",
            "_model_name": "FloatProgressModel",
            "bar_style": "success",
            "max": 825924,
            "_view_module": "@jupyter-widgets/controls",
            "_model_module_version": "1.5.0",
            "value": 825924,
            "_view_count": null,
            "_view_module_version": "1.5.0",
            "orientation": "horizontal",
            "min": 0,
            "description_tooltip": null,
            "_model_module": "@jupyter-widgets/controls",
            "layout": "IPY_MODEL_99d8772d8230419aa41818d7085d21b4"
          }
        },
        "fd54f9083b224aa7b245c694e8344bff": {
          "model_module": "@jupyter-widgets/controls",
          "model_name": "HTMLModel",
          "model_module_version": "1.5.0",
          "state": {
            "_view_name": "HTMLView",
            "style": "IPY_MODEL_6657d854fc174466941c53adc601b252",
            "_dom_classes": [],
            "description": "",
            "_model_name": "HTMLModel",
            "placeholder": "​",
            "_view_module": "@jupyter-widgets/controls",
            "_model_module_version": "1.5.0",
            "value": " 807k/807k [00:00&lt;00:00, 646kB/s]",
            "_view_count": null,
            "_view_module_version": "1.5.0",
            "description_tooltip": null,
            "_model_module": "@jupyter-widgets/controls",
            "layout": "IPY_MODEL_2b1fe6184018439f9f5ef3131d7a7525"
          }
        },
        "654ba2cf5f3c4592904309dba3a4876b": {
          "model_module": "@jupyter-widgets/controls",
          "model_name": "DescriptionStyleModel",
          "model_module_version": "1.5.0",
          "state": {
            "_view_name": "StyleView",
            "_model_name": "DescriptionStyleModel",
            "description_width": "",
            "_view_module": "@jupyter-widgets/base",
            "_model_module_version": "1.5.0",
            "_view_count": null,
            "_view_module_version": "1.2.0",
            "_model_module": "@jupyter-widgets/controls"
          }
        },
        "b7beb3c411a34ea98089c72e771dcde8": {
          "model_module": "@jupyter-widgets/base",
          "model_name": "LayoutModel",
          "model_module_version": "1.2.0",
          "state": {
            "_view_name": "LayoutView",
            "grid_template_rows": null,
            "right": null,
            "justify_content": null,
            "_view_module": "@jupyter-widgets/base",
            "overflow": null,
            "_model_module_version": "1.2.0",
            "_view_count": null,
            "flex_flow": null,
            "width": null,
            "min_width": null,
            "border": null,
            "align_items": null,
            "bottom": null,
            "_model_module": "@jupyter-widgets/base",
            "top": null,
            "grid_column": null,
            "overflow_y": null,
            "overflow_x": null,
            "grid_auto_flow": null,
            "grid_area": null,
            "grid_template_columns": null,
            "flex": null,
            "_model_name": "LayoutModel",
            "justify_items": null,
            "grid_row": null,
            "max_height": null,
            "align_content": null,
            "visibility": null,
            "align_self": null,
            "height": null,
            "min_height": null,
            "padding": null,
            "grid_auto_rows": null,
            "grid_gap": null,
            "max_width": null,
            "order": null,
            "_view_module_version": "1.2.0",
            "grid_template_areas": null,
            "object_position": null,
            "object_fit": null,
            "grid_auto_columns": null,
            "margin": null,
            "display": null,
            "left": null
          }
        },
        "182ca5347a5a4873aa60dc8f500a2b79": {
          "model_module": "@jupyter-widgets/controls",
          "model_name": "ProgressStyleModel",
          "model_module_version": "1.5.0",
          "state": {
            "_view_name": "StyleView",
            "_model_name": "ProgressStyleModel",
            "description_width": "",
            "_view_module": "@jupyter-widgets/base",
            "_model_module_version": "1.5.0",
            "_view_count": null,
            "_view_module_version": "1.2.0",
            "bar_color": null,
            "_model_module": "@jupyter-widgets/controls"
          }
        },
        "99d8772d8230419aa41818d7085d21b4": {
          "model_module": "@jupyter-widgets/base",
          "model_name": "LayoutModel",
          "model_module_version": "1.2.0",
          "state": {
            "_view_name": "LayoutView",
            "grid_template_rows": null,
            "right": null,
            "justify_content": null,
            "_view_module": "@jupyter-widgets/base",
            "overflow": null,
            "_model_module_version": "1.2.0",
            "_view_count": null,
            "flex_flow": null,
            "width": null,
            "min_width": null,
            "border": null,
            "align_items": null,
            "bottom": null,
            "_model_module": "@jupyter-widgets/base",
            "top": null,
            "grid_column": null,
            "overflow_y": null,
            "overflow_x": null,
            "grid_auto_flow": null,
            "grid_area": null,
            "grid_template_columns": null,
            "flex": null,
            "_model_name": "LayoutModel",
            "justify_items": null,
            "grid_row": null,
            "max_height": null,
            "align_content": null,
            "visibility": null,
            "align_self": null,
            "height": null,
            "min_height": null,
            "padding": null,
            "grid_auto_rows": null,
            "grid_gap": null,
            "max_width": null,
            "order": null,
            "_view_module_version": "1.2.0",
            "grid_template_areas": null,
            "object_position": null,
            "object_fit": null,
            "grid_auto_columns": null,
            "margin": null,
            "display": null,
            "left": null
          }
        },
        "6657d854fc174466941c53adc601b252": {
          "model_module": "@jupyter-widgets/controls",
          "model_name": "DescriptionStyleModel",
          "model_module_version": "1.5.0",
          "state": {
            "_view_name": "StyleView",
            "_model_name": "DescriptionStyleModel",
            "description_width": "",
            "_view_module": "@jupyter-widgets/base",
            "_model_module_version": "1.5.0",
            "_view_count": null,
            "_view_module_version": "1.2.0",
            "_model_module": "@jupyter-widgets/controls"
          }
        },
        "2b1fe6184018439f9f5ef3131d7a7525": {
          "model_module": "@jupyter-widgets/base",
          "model_name": "LayoutModel",
          "model_module_version": "1.2.0",
          "state": {
            "_view_name": "LayoutView",
            "grid_template_rows": null,
            "right": null,
            "justify_content": null,
            "_view_module": "@jupyter-widgets/base",
            "overflow": null,
            "_model_module_version": "1.2.0",
            "_view_count": null,
            "flex_flow": null,
            "width": null,
            "min_width": null,
            "border": null,
            "align_items": null,
            "bottom": null,
            "_model_module": "@jupyter-widgets/base",
            "top": null,
            "grid_column": null,
            "overflow_y": null,
            "overflow_x": null,
            "grid_auto_flow": null,
            "grid_area": null,
            "grid_template_columns": null,
            "flex": null,
            "_model_name": "LayoutModel",
            "justify_items": null,
            "grid_row": null,
            "max_height": null,
            "align_content": null,
            "visibility": null,
            "align_self": null,
            "height": null,
            "min_height": null,
            "padding": null,
            "grid_auto_rows": null,
            "grid_gap": null,
            "max_width": null,
            "order": null,
            "_view_module_version": "1.2.0",
            "grid_template_areas": null,
            "object_position": null,
            "object_fit": null,
            "grid_auto_columns": null,
            "margin": null,
            "display": null,
            "left": null
          }
        },
        "8c042719ec3246e09e19676cd3646156": {
          "model_module": "@jupyter-widgets/controls",
          "model_name": "HBoxModel",
          "model_module_version": "1.5.0",
          "state": {
            "_view_name": "HBoxView",
            "_dom_classes": [],
            "_model_name": "HBoxModel",
            "_view_module": "@jupyter-widgets/controls",
            "_model_module_version": "1.5.0",
            "_view_count": null,
            "_view_module_version": "1.5.0",
            "box_style": "",
            "layout": "IPY_MODEL_7930d8ab50c54cad948102fb896a0dad",
            "_model_module": "@jupyter-widgets/controls",
            "children": [
              "IPY_MODEL_cb2f57af080d4ee388f6a7765178a5c8",
              "IPY_MODEL_3b03ead7852e4f09b374f70993b378ee",
              "IPY_MODEL_1140968baa77423fa74f5472b0bb3087"
            ]
          }
        },
        "7930d8ab50c54cad948102fb896a0dad": {
          "model_module": "@jupyter-widgets/base",
          "model_name": "LayoutModel",
          "model_module_version": "1.2.0",
          "state": {
            "_view_name": "LayoutView",
            "grid_template_rows": null,
            "right": null,
            "justify_content": null,
            "_view_module": "@jupyter-widgets/base",
            "overflow": null,
            "_model_module_version": "1.2.0",
            "_view_count": null,
            "flex_flow": null,
            "width": null,
            "min_width": null,
            "border": null,
            "align_items": null,
            "bottom": null,
            "_model_module": "@jupyter-widgets/base",
            "top": null,
            "grid_column": null,
            "overflow_y": null,
            "overflow_x": null,
            "grid_auto_flow": null,
            "grid_area": null,
            "grid_template_columns": null,
            "flex": null,
            "_model_name": "LayoutModel",
            "justify_items": null,
            "grid_row": null,
            "max_height": null,
            "align_content": null,
            "visibility": null,
            "align_self": null,
            "height": null,
            "min_height": null,
            "padding": null,
            "grid_auto_rows": null,
            "grid_gap": null,
            "max_width": null,
            "order": null,
            "_view_module_version": "1.2.0",
            "grid_template_areas": null,
            "object_position": null,
            "object_fit": null,
            "grid_auto_columns": null,
            "margin": null,
            "display": null,
            "left": null
          }
        },
        "cb2f57af080d4ee388f6a7765178a5c8": {
          "model_module": "@jupyter-widgets/controls",
          "model_name": "HTMLModel",
          "model_module_version": "1.5.0",
          "state": {
            "_view_name": "HTMLView",
            "style": "IPY_MODEL_20384b1cc18e405c83d5b6742da746b3",
            "_dom_classes": [],
            "description": "",
            "_model_name": "HTMLModel",
            "placeholder": "​",
            "_view_module": "@jupyter-widgets/controls",
            "_model_module_version": "1.5.0",
            "value": "Downloading: 100%",
            "_view_count": null,
            "_view_module_version": "1.5.0",
            "description_tooltip": null,
            "_model_module": "@jupyter-widgets/controls",
            "layout": "IPY_MODEL_4db5bca0f71f42ab98370a27552c0677"
          }
        },
        "3b03ead7852e4f09b374f70993b378ee": {
          "model_module": "@jupyter-widgets/controls",
          "model_name": "FloatProgressModel",
          "model_module_version": "1.5.0",
          "state": {
            "_view_name": "ProgressView",
            "style": "IPY_MODEL_60957ddb8d1c4724ac83520cf7acc543",
            "_dom_classes": [],
            "description": "",
            "_model_name": "FloatProgressModel",
            "bar_style": "success",
            "max": 1590040,
            "_view_module": "@jupyter-widgets/controls",
            "_model_module_version": "1.5.0",
            "value": 1590040,
            "_view_count": null,
            "_view_module_version": "1.5.0",
            "orientation": "horizontal",
            "min": 0,
            "description_tooltip": null,
            "_model_module": "@jupyter-widgets/controls",
            "layout": "IPY_MODEL_0053452f45014bf6a0288976f1215ae6"
          }
        },
        "1140968baa77423fa74f5472b0bb3087": {
          "model_module": "@jupyter-widgets/controls",
          "model_name": "HTMLModel",
          "model_module_version": "1.5.0",
          "state": {
            "_view_name": "HTMLView",
            "style": "IPY_MODEL_bcf6a7005e0a48a0856bc70d7f7a0f35",
            "_dom_classes": [],
            "description": "",
            "_model_name": "HTMLModel",
            "placeholder": "​",
            "_view_module": "@jupyter-widgets/controls",
            "_model_module_version": "1.5.0",
            "value": " 1.52M/1.52M [00:00&lt;00:00, 2.17MB/s]",
            "_view_count": null,
            "_view_module_version": "1.5.0",
            "description_tooltip": null,
            "_model_module": "@jupyter-widgets/controls",
            "layout": "IPY_MODEL_5693aba43918445b828db295928e01e7"
          }
        },
        "20384b1cc18e405c83d5b6742da746b3": {
          "model_module": "@jupyter-widgets/controls",
          "model_name": "DescriptionStyleModel",
          "model_module_version": "1.5.0",
          "state": {
            "_view_name": "StyleView",
            "_model_name": "DescriptionStyleModel",
            "description_width": "",
            "_view_module": "@jupyter-widgets/base",
            "_model_module_version": "1.5.0",
            "_view_count": null,
            "_view_module_version": "1.2.0",
            "_model_module": "@jupyter-widgets/controls"
          }
        },
        "4db5bca0f71f42ab98370a27552c0677": {
          "model_module": "@jupyter-widgets/base",
          "model_name": "LayoutModel",
          "model_module_version": "1.2.0",
          "state": {
            "_view_name": "LayoutView",
            "grid_template_rows": null,
            "right": null,
            "justify_content": null,
            "_view_module": "@jupyter-widgets/base",
            "overflow": null,
            "_model_module_version": "1.2.0",
            "_view_count": null,
            "flex_flow": null,
            "width": null,
            "min_width": null,
            "border": null,
            "align_items": null,
            "bottom": null,
            "_model_module": "@jupyter-widgets/base",
            "top": null,
            "grid_column": null,
            "overflow_y": null,
            "overflow_x": null,
            "grid_auto_flow": null,
            "grid_area": null,
            "grid_template_columns": null,
            "flex": null,
            "_model_name": "LayoutModel",
            "justify_items": null,
            "grid_row": null,
            "max_height": null,
            "align_content": null,
            "visibility": null,
            "align_self": null,
            "height": null,
            "min_height": null,
            "padding": null,
            "grid_auto_rows": null,
            "grid_gap": null,
            "max_width": null,
            "order": null,
            "_view_module_version": "1.2.0",
            "grid_template_areas": null,
            "object_position": null,
            "object_fit": null,
            "grid_auto_columns": null,
            "margin": null,
            "display": null,
            "left": null
          }
        },
        "60957ddb8d1c4724ac83520cf7acc543": {
          "model_module": "@jupyter-widgets/controls",
          "model_name": "ProgressStyleModel",
          "model_module_version": "1.5.0",
          "state": {
            "_view_name": "StyleView",
            "_model_name": "ProgressStyleModel",
            "description_width": "",
            "_view_module": "@jupyter-widgets/base",
            "_model_module_version": "1.5.0",
            "_view_count": null,
            "_view_module_version": "1.2.0",
            "bar_color": null,
            "_model_module": "@jupyter-widgets/controls"
          }
        },
        "0053452f45014bf6a0288976f1215ae6": {
          "model_module": "@jupyter-widgets/base",
          "model_name": "LayoutModel",
          "model_module_version": "1.2.0",
          "state": {
            "_view_name": "LayoutView",
            "grid_template_rows": null,
            "right": null,
            "justify_content": null,
            "_view_module": "@jupyter-widgets/base",
            "overflow": null,
            "_model_module_version": "1.2.0",
            "_view_count": null,
            "flex_flow": null,
            "width": null,
            "min_width": null,
            "border": null,
            "align_items": null,
            "bottom": null,
            "_model_module": "@jupyter-widgets/base",
            "top": null,
            "grid_column": null,
            "overflow_y": null,
            "overflow_x": null,
            "grid_auto_flow": null,
            "grid_area": null,
            "grid_template_columns": null,
            "flex": null,
            "_model_name": "LayoutModel",
            "justify_items": null,
            "grid_row": null,
            "max_height": null,
            "align_content": null,
            "visibility": null,
            "align_self": null,
            "height": null,
            "min_height": null,
            "padding": null,
            "grid_auto_rows": null,
            "grid_gap": null,
            "max_width": null,
            "order": null,
            "_view_module_version": "1.2.0",
            "grid_template_areas": null,
            "object_position": null,
            "object_fit": null,
            "grid_auto_columns": null,
            "margin": null,
            "display": null,
            "left": null
          }
        },
        "bcf6a7005e0a48a0856bc70d7f7a0f35": {
          "model_module": "@jupyter-widgets/controls",
          "model_name": "DescriptionStyleModel",
          "model_module_version": "1.5.0",
          "state": {
            "_view_name": "StyleView",
            "_model_name": "DescriptionStyleModel",
            "description_width": "",
            "_view_module": "@jupyter-widgets/base",
            "_model_module_version": "1.5.0",
            "_view_count": null,
            "_view_module_version": "1.2.0",
            "_model_module": "@jupyter-widgets/controls"
          }
        },
        "5693aba43918445b828db295928e01e7": {
          "model_module": "@jupyter-widgets/base",
          "model_name": "LayoutModel",
          "model_module_version": "1.2.0",
          "state": {
            "_view_name": "LayoutView",
            "grid_template_rows": null,
            "right": null,
            "justify_content": null,
            "_view_module": "@jupyter-widgets/base",
            "overflow": null,
            "_model_module_version": "1.2.0",
            "_view_count": null,
            "flex_flow": null,
            "width": null,
            "min_width": null,
            "border": null,
            "align_items": null,
            "bottom": null,
            "_model_module": "@jupyter-widgets/base",
            "top": null,
            "grid_column": null,
            "overflow_y": null,
            "overflow_x": null,
            "grid_auto_flow": null,
            "grid_area": null,
            "grid_template_columns": null,
            "flex": null,
            "_model_name": "LayoutModel",
            "justify_items": null,
            "grid_row": null,
            "max_height": null,
            "align_content": null,
            "visibility": null,
            "align_self": null,
            "height": null,
            "min_height": null,
            "padding": null,
            "grid_auto_rows": null,
            "grid_gap": null,
            "max_width": null,
            "order": null,
            "_view_module_version": "1.2.0",
            "grid_template_areas": null,
            "object_position": null,
            "object_fit": null,
            "grid_auto_columns": null,
            "margin": null,
            "display": null,
            "left": null
          }
        },
        "66d80b982aea4dc6aa0307717080f9dd": {
          "model_module": "@jupyter-widgets/controls",
          "model_name": "HBoxModel",
          "model_module_version": "1.5.0",
          "state": {
            "_view_name": "HBoxView",
            "_dom_classes": [],
            "_model_name": "HBoxModel",
            "_view_module": "@jupyter-widgets/controls",
            "_model_module_version": "1.5.0",
            "_view_count": null,
            "_view_module_version": "1.5.0",
            "box_style": "",
            "layout": "IPY_MODEL_8a66984641f14a18bb791de3fd222921",
            "_model_module": "@jupyter-widgets/controls",
            "children": [
              "IPY_MODEL_cd66b60c8bd44197a718e6b90e8e62f1",
              "IPY_MODEL_d494eddf8e4e446ba09bdcdeadb40cba",
              "IPY_MODEL_5784d3e543d744eb92fb90cfe910716c"
            ]
          }
        },
        "8a66984641f14a18bb791de3fd222921": {
          "model_module": "@jupyter-widgets/base",
          "model_name": "LayoutModel",
          "model_module_version": "1.2.0",
          "state": {
            "_view_name": "LayoutView",
            "grid_template_rows": null,
            "right": null,
            "justify_content": null,
            "_view_module": "@jupyter-widgets/base",
            "overflow": null,
            "_model_module_version": "1.2.0",
            "_view_count": null,
            "flex_flow": null,
            "width": null,
            "min_width": null,
            "border": null,
            "align_items": null,
            "bottom": null,
            "_model_module": "@jupyter-widgets/base",
            "top": null,
            "grid_column": null,
            "overflow_y": null,
            "overflow_x": null,
            "grid_auto_flow": null,
            "grid_area": null,
            "grid_template_columns": null,
            "flex": null,
            "_model_name": "LayoutModel",
            "justify_items": null,
            "grid_row": null,
            "max_height": null,
            "align_content": null,
            "visibility": null,
            "align_self": null,
            "height": null,
            "min_height": null,
            "padding": null,
            "grid_auto_rows": null,
            "grid_gap": null,
            "max_width": null,
            "order": null,
            "_view_module_version": "1.2.0",
            "grid_template_areas": null,
            "object_position": null,
            "object_fit": null,
            "grid_auto_columns": null,
            "margin": null,
            "display": null,
            "left": null
          }
        },
        "cd66b60c8bd44197a718e6b90e8e62f1": {
          "model_module": "@jupyter-widgets/controls",
          "model_name": "HTMLModel",
          "model_module_version": "1.5.0",
          "state": {
            "_view_name": "HTMLView",
            "style": "IPY_MODEL_15997930fa6642d99a89fee84fd45752",
            "_dom_classes": [],
            "description": "",
            "_model_name": "HTMLModel",
            "placeholder": "​",
            "_view_module": "@jupyter-widgets/controls",
            "_model_module_version": "1.5.0",
            "value": "Downloading: 100%",
            "_view_count": null,
            "_view_module_version": "1.5.0",
            "description_tooltip": null,
            "_model_module": "@jupyter-widgets/controls",
            "layout": "IPY_MODEL_0b7ee2d10e794c9a8babd80aa884c76d"
          }
        },
        "d494eddf8e4e446ba09bdcdeadb40cba": {
          "model_module": "@jupyter-widgets/controls",
          "model_name": "FloatProgressModel",
          "model_module_version": "1.5.0",
          "state": {
            "_view_name": "ProgressView",
            "style": "IPY_MODEL_cb792d22737940a5b15fe335dbb28fc9",
            "_dom_classes": [],
            "description": "",
            "_model_name": "FloatProgressModel",
            "bar_style": "success",
            "max": 312087523,
            "_view_module": "@jupyter-widgets/controls",
            "_model_module_version": "1.5.0",
            "value": 312087523,
            "_view_count": null,
            "_view_module_version": "1.5.0",
            "orientation": "horizontal",
            "min": 0,
            "description_tooltip": null,
            "_model_module": "@jupyter-widgets/controls",
            "layout": "IPY_MODEL_d5c78f28a8d3479d8de2175af4daa45c"
          }
        },
        "5784d3e543d744eb92fb90cfe910716c": {
          "model_module": "@jupyter-widgets/controls",
          "model_name": "HTMLModel",
          "model_module_version": "1.5.0",
          "state": {
            "_view_name": "HTMLView",
            "style": "IPY_MODEL_341a1dd309014d5a8a0e257899dae3ea",
            "_dom_classes": [],
            "description": "",
            "_model_name": "HTMLModel",
            "placeholder": "​",
            "_view_module": "@jupyter-widgets/controls",
            "_model_module_version": "1.5.0",
            "value": " 298M/298M [00:12&lt;00:00, 32.3MB/s]",
            "_view_count": null,
            "_view_module_version": "1.5.0",
            "description_tooltip": null,
            "_model_module": "@jupyter-widgets/controls",
            "layout": "IPY_MODEL_6bdd2050408245d6bcbb5eb386d590a2"
          }
        },
        "15997930fa6642d99a89fee84fd45752": {
          "model_module": "@jupyter-widgets/controls",
          "model_name": "DescriptionStyleModel",
          "model_module_version": "1.5.0",
          "state": {
            "_view_name": "StyleView",
            "_model_name": "DescriptionStyleModel",
            "description_width": "",
            "_view_module": "@jupyter-widgets/base",
            "_model_module_version": "1.5.0",
            "_view_count": null,
            "_view_module_version": "1.2.0",
            "_model_module": "@jupyter-widgets/controls"
          }
        },
        "0b7ee2d10e794c9a8babd80aa884c76d": {
          "model_module": "@jupyter-widgets/base",
          "model_name": "LayoutModel",
          "model_module_version": "1.2.0",
          "state": {
            "_view_name": "LayoutView",
            "grid_template_rows": null,
            "right": null,
            "justify_content": null,
            "_view_module": "@jupyter-widgets/base",
            "overflow": null,
            "_model_module_version": "1.2.0",
            "_view_count": null,
            "flex_flow": null,
            "width": null,
            "min_width": null,
            "border": null,
            "align_items": null,
            "bottom": null,
            "_model_module": "@jupyter-widgets/base",
            "top": null,
            "grid_column": null,
            "overflow_y": null,
            "overflow_x": null,
            "grid_auto_flow": null,
            "grid_area": null,
            "grid_template_columns": null,
            "flex": null,
            "_model_name": "LayoutModel",
            "justify_items": null,
            "grid_row": null,
            "max_height": null,
            "align_content": null,
            "visibility": null,
            "align_self": null,
            "height": null,
            "min_height": null,
            "padding": null,
            "grid_auto_rows": null,
            "grid_gap": null,
            "max_width": null,
            "order": null,
            "_view_module_version": "1.2.0",
            "grid_template_areas": null,
            "object_position": null,
            "object_fit": null,
            "grid_auto_columns": null,
            "margin": null,
            "display": null,
            "left": null
          }
        },
        "cb792d22737940a5b15fe335dbb28fc9": {
          "model_module": "@jupyter-widgets/controls",
          "model_name": "ProgressStyleModel",
          "model_module_version": "1.5.0",
          "state": {
            "_view_name": "StyleView",
            "_model_name": "ProgressStyleModel",
            "description_width": "",
            "_view_module": "@jupyter-widgets/base",
            "_model_module_version": "1.5.0",
            "_view_count": null,
            "_view_module_version": "1.2.0",
            "bar_color": null,
            "_model_module": "@jupyter-widgets/controls"
          }
        },
        "d5c78f28a8d3479d8de2175af4daa45c": {
          "model_module": "@jupyter-widgets/base",
          "model_name": "LayoutModel",
          "model_module_version": "1.2.0",
          "state": {
            "_view_name": "LayoutView",
            "grid_template_rows": null,
            "right": null,
            "justify_content": null,
            "_view_module": "@jupyter-widgets/base",
            "overflow": null,
            "_model_module_version": "1.2.0",
            "_view_count": null,
            "flex_flow": null,
            "width": null,
            "min_width": null,
            "border": null,
            "align_items": null,
            "bottom": null,
            "_model_module": "@jupyter-widgets/base",
            "top": null,
            "grid_column": null,
            "overflow_y": null,
            "overflow_x": null,
            "grid_auto_flow": null,
            "grid_area": null,
            "grid_template_columns": null,
            "flex": null,
            "_model_name": "LayoutModel",
            "justify_items": null,
            "grid_row": null,
            "max_height": null,
            "align_content": null,
            "visibility": null,
            "align_self": null,
            "height": null,
            "min_height": null,
            "padding": null,
            "grid_auto_rows": null,
            "grid_gap": null,
            "max_width": null,
            "order": null,
            "_view_module_version": "1.2.0",
            "grid_template_areas": null,
            "object_position": null,
            "object_fit": null,
            "grid_auto_columns": null,
            "margin": null,
            "display": null,
            "left": null
          }
        },
        "341a1dd309014d5a8a0e257899dae3ea": {
          "model_module": "@jupyter-widgets/controls",
          "model_name": "DescriptionStyleModel",
          "model_module_version": "1.5.0",
          "state": {
            "_view_name": "StyleView",
            "_model_name": "DescriptionStyleModel",
            "description_width": "",
            "_view_module": "@jupyter-widgets/base",
            "_model_module_version": "1.5.0",
            "_view_count": null,
            "_view_module_version": "1.2.0",
            "_model_module": "@jupyter-widgets/controls"
          }
        },
        "6bdd2050408245d6bcbb5eb386d590a2": {
          "model_module": "@jupyter-widgets/base",
          "model_name": "LayoutModel",
          "model_module_version": "1.2.0",
          "state": {
            "_view_name": "LayoutView",
            "grid_template_rows": null,
            "right": null,
            "justify_content": null,
            "_view_module": "@jupyter-widgets/base",
            "overflow": null,
            "_model_module_version": "1.2.0",
            "_view_count": null,
            "flex_flow": null,
            "width": null,
            "min_width": null,
            "border": null,
            "align_items": null,
            "bottom": null,
            "_model_module": "@jupyter-widgets/base",
            "top": null,
            "grid_column": null,
            "overflow_y": null,
            "overflow_x": null,
            "grid_auto_flow": null,
            "grid_area": null,
            "grid_template_columns": null,
            "flex": null,
            "_model_name": "LayoutModel",
            "justify_items": null,
            "grid_row": null,
            "max_height": null,
            "align_content": null,
            "visibility": null,
            "align_self": null,
            "height": null,
            "min_height": null,
            "padding": null,
            "grid_auto_rows": null,
            "grid_gap": null,
            "max_width": null,
            "order": null,
            "_view_module_version": "1.2.0",
            "grid_template_areas": null,
            "object_position": null,
            "object_fit": null,
            "grid_auto_columns": null,
            "margin": null,
            "display": null,
            "left": null
          }
        }
      }
    }
  },
  "cells": [
    {
      "cell_type": "code",
      "source": [
        "!python -m spacy download en_core_web_md"
      ],
      "metadata": {
        "colab": {
          "base_uri": "https://localhost:8080/"
        },
        "id": "aFCscykxmivd",
        "outputId": "a50757b8-ccc7-4f8d-82f2-b4dc83b1c5ec"
      },
      "execution_count": 34,
      "outputs": [
        {
          "output_type": "stream",
          "name": "stdout",
          "text": [
            "Collecting en_core_web_md==2.2.5\n",
            "  Downloading https://github.com/explosion/spacy-models/releases/download/en_core_web_md-2.2.5/en_core_web_md-2.2.5.tar.gz (96.4 MB)\n",
            "\u001b[K     |████████████████████████████████| 96.4 MB 1.3 MB/s \n",
            "\u001b[?25hRequirement already satisfied: spacy>=2.2.2 in /usr/local/lib/python3.7/dist-packages (from en_core_web_md==2.2.5) (2.2.4)\n",
            "Requirement already satisfied: wasabi<1.1.0,>=0.4.0 in /usr/local/lib/python3.7/dist-packages (from spacy>=2.2.2->en_core_web_md==2.2.5) (0.9.0)\n",
            "Requirement already satisfied: plac<1.2.0,>=0.9.6 in /usr/local/lib/python3.7/dist-packages (from spacy>=2.2.2->en_core_web_md==2.2.5) (1.1.3)\n",
            "Requirement already satisfied: catalogue<1.1.0,>=0.0.7 in /usr/local/lib/python3.7/dist-packages (from spacy>=2.2.2->en_core_web_md==2.2.5) (1.0.0)\n",
            "Requirement already satisfied: numpy>=1.15.0 in /usr/local/lib/python3.7/dist-packages (from spacy>=2.2.2->en_core_web_md==2.2.5) (1.21.5)\n",
            "Requirement already satisfied: thinc==7.4.0 in /usr/local/lib/python3.7/dist-packages (from spacy>=2.2.2->en_core_web_md==2.2.5) (7.4.0)\n",
            "Requirement already satisfied: requests<3.0.0,>=2.13.0 in /usr/local/lib/python3.7/dist-packages (from spacy>=2.2.2->en_core_web_md==2.2.5) (2.23.0)\n",
            "Requirement already satisfied: cymem<2.1.0,>=2.0.2 in /usr/local/lib/python3.7/dist-packages (from spacy>=2.2.2->en_core_web_md==2.2.5) (2.0.6)\n",
            "Requirement already satisfied: preshed<3.1.0,>=3.0.2 in /usr/local/lib/python3.7/dist-packages (from spacy>=2.2.2->en_core_web_md==2.2.5) (3.0.6)\n",
            "Requirement already satisfied: setuptools in /usr/local/lib/python3.7/dist-packages (from spacy>=2.2.2->en_core_web_md==2.2.5) (57.4.0)\n",
            "Requirement already satisfied: srsly<1.1.0,>=1.0.2 in /usr/local/lib/python3.7/dist-packages (from spacy>=2.2.2->en_core_web_md==2.2.5) (1.0.5)\n",
            "Requirement already satisfied: tqdm<5.0.0,>=4.38.0 in /usr/local/lib/python3.7/dist-packages (from spacy>=2.2.2->en_core_web_md==2.2.5) (4.62.3)\n",
            "Requirement already satisfied: murmurhash<1.1.0,>=0.28.0 in /usr/local/lib/python3.7/dist-packages (from spacy>=2.2.2->en_core_web_md==2.2.5) (1.0.6)\n",
            "Requirement already satisfied: blis<0.5.0,>=0.4.0 in /usr/local/lib/python3.7/dist-packages (from spacy>=2.2.2->en_core_web_md==2.2.5) (0.4.1)\n",
            "Requirement already satisfied: importlib-metadata>=0.20 in /usr/local/lib/python3.7/dist-packages (from catalogue<1.1.0,>=0.0.7->spacy>=2.2.2->en_core_web_md==2.2.5) (4.11.0)\n",
            "Requirement already satisfied: typing-extensions>=3.6.4 in /usr/local/lib/python3.7/dist-packages (from importlib-metadata>=0.20->catalogue<1.1.0,>=0.0.7->spacy>=2.2.2->en_core_web_md==2.2.5) (3.10.0.2)\n",
            "Requirement already satisfied: zipp>=0.5 in /usr/local/lib/python3.7/dist-packages (from importlib-metadata>=0.20->catalogue<1.1.0,>=0.0.7->spacy>=2.2.2->en_core_web_md==2.2.5) (3.7.0)\n",
            "Requirement already satisfied: certifi>=2017.4.17 in /usr/local/lib/python3.7/dist-packages (from requests<3.0.0,>=2.13.0->spacy>=2.2.2->en_core_web_md==2.2.5) (2021.10.8)\n",
            "Requirement already satisfied: urllib3!=1.25.0,!=1.25.1,<1.26,>=1.21.1 in /usr/local/lib/python3.7/dist-packages (from requests<3.0.0,>=2.13.0->spacy>=2.2.2->en_core_web_md==2.2.5) (1.24.3)\n",
            "Requirement already satisfied: chardet<4,>=3.0.2 in /usr/local/lib/python3.7/dist-packages (from requests<3.0.0,>=2.13.0->spacy>=2.2.2->en_core_web_md==2.2.5) (3.0.4)\n",
            "Requirement already satisfied: idna<3,>=2.5 in /usr/local/lib/python3.7/dist-packages (from requests<3.0.0,>=2.13.0->spacy>=2.2.2->en_core_web_md==2.2.5) (2.10)\n",
            "\u001b[38;5;2m✔ Download and installation successful\u001b[0m\n",
            "You can now load the model via spacy.load('en_core_web_md')\n"
          ]
        }
      ]
    },
    {
      "cell_type": "code",
      "source": [
        "!python -m spacy download es_core_news_md"
      ],
      "metadata": {
        "colab": {
          "base_uri": "https://localhost:8080/"
        },
        "id": "Of0hj18qwsi-",
        "outputId": "09b89c34-bc18-46c5-fdbe-2bd46a02d798"
      },
      "execution_count": 35,
      "outputs": [
        {
          "output_type": "stream",
          "name": "stdout",
          "text": [
            "Collecting es_core_news_md==2.2.5\n",
            "  Downloading https://github.com/explosion/spacy-models/releases/download/es_core_news_md-2.2.5/es_core_news_md-2.2.5.tar.gz (78.4 MB)\n",
            "\u001b[K     |████████████████████████████████| 78.4 MB 1.4 MB/s \n",
            "\u001b[?25hRequirement already satisfied: spacy>=2.2.2 in /usr/local/lib/python3.7/dist-packages (from es_core_news_md==2.2.5) (2.2.4)\n",
            "Requirement already satisfied: blis<0.5.0,>=0.4.0 in /usr/local/lib/python3.7/dist-packages (from spacy>=2.2.2->es_core_news_md==2.2.5) (0.4.1)\n",
            "Requirement already satisfied: cymem<2.1.0,>=2.0.2 in /usr/local/lib/python3.7/dist-packages (from spacy>=2.2.2->es_core_news_md==2.2.5) (2.0.6)\n",
            "Requirement already satisfied: requests<3.0.0,>=2.13.0 in /usr/local/lib/python3.7/dist-packages (from spacy>=2.2.2->es_core_news_md==2.2.5) (2.23.0)\n",
            "Requirement already satisfied: catalogue<1.1.0,>=0.0.7 in /usr/local/lib/python3.7/dist-packages (from spacy>=2.2.2->es_core_news_md==2.2.5) (1.0.0)\n",
            "Requirement already satisfied: thinc==7.4.0 in /usr/local/lib/python3.7/dist-packages (from spacy>=2.2.2->es_core_news_md==2.2.5) (7.4.0)\n",
            "Requirement already satisfied: plac<1.2.0,>=0.9.6 in /usr/local/lib/python3.7/dist-packages (from spacy>=2.2.2->es_core_news_md==2.2.5) (1.1.3)\n",
            "Requirement already satisfied: setuptools in /usr/local/lib/python3.7/dist-packages (from spacy>=2.2.2->es_core_news_md==2.2.5) (57.4.0)\n",
            "Requirement already satisfied: numpy>=1.15.0 in /usr/local/lib/python3.7/dist-packages (from spacy>=2.2.2->es_core_news_md==2.2.5) (1.21.5)\n",
            "Requirement already satisfied: wasabi<1.1.0,>=0.4.0 in /usr/local/lib/python3.7/dist-packages (from spacy>=2.2.2->es_core_news_md==2.2.5) (0.9.0)\n",
            "Requirement already satisfied: tqdm<5.0.0,>=4.38.0 in /usr/local/lib/python3.7/dist-packages (from spacy>=2.2.2->es_core_news_md==2.2.5) (4.62.3)\n",
            "Requirement already satisfied: murmurhash<1.1.0,>=0.28.0 in /usr/local/lib/python3.7/dist-packages (from spacy>=2.2.2->es_core_news_md==2.2.5) (1.0.6)\n",
            "Requirement already satisfied: srsly<1.1.0,>=1.0.2 in /usr/local/lib/python3.7/dist-packages (from spacy>=2.2.2->es_core_news_md==2.2.5) (1.0.5)\n",
            "Requirement already satisfied: preshed<3.1.0,>=3.0.2 in /usr/local/lib/python3.7/dist-packages (from spacy>=2.2.2->es_core_news_md==2.2.5) (3.0.6)\n",
            "Requirement already satisfied: importlib-metadata>=0.20 in /usr/local/lib/python3.7/dist-packages (from catalogue<1.1.0,>=0.0.7->spacy>=2.2.2->es_core_news_md==2.2.5) (4.11.0)\n",
            "Requirement already satisfied: zipp>=0.5 in /usr/local/lib/python3.7/dist-packages (from importlib-metadata>=0.20->catalogue<1.1.0,>=0.0.7->spacy>=2.2.2->es_core_news_md==2.2.5) (3.7.0)\n",
            "Requirement already satisfied: typing-extensions>=3.6.4 in /usr/local/lib/python3.7/dist-packages (from importlib-metadata>=0.20->catalogue<1.1.0,>=0.0.7->spacy>=2.2.2->es_core_news_md==2.2.5) (3.10.0.2)\n",
            "Requirement already satisfied: certifi>=2017.4.17 in /usr/local/lib/python3.7/dist-packages (from requests<3.0.0,>=2.13.0->spacy>=2.2.2->es_core_news_md==2.2.5) (2021.10.8)\n",
            "Requirement already satisfied: urllib3!=1.25.0,!=1.25.1,<1.26,>=1.21.1 in /usr/local/lib/python3.7/dist-packages (from requests<3.0.0,>=2.13.0->spacy>=2.2.2->es_core_news_md==2.2.5) (1.24.3)\n",
            "Requirement already satisfied: idna<3,>=2.5 in /usr/local/lib/python3.7/dist-packages (from requests<3.0.0,>=2.13.0->spacy>=2.2.2->es_core_news_md==2.2.5) (2.10)\n",
            "Requirement already satisfied: chardet<4,>=3.0.2 in /usr/local/lib/python3.7/dist-packages (from requests<3.0.0,>=2.13.0->spacy>=2.2.2->es_core_news_md==2.2.5) (3.0.4)\n",
            "\u001b[38;5;2m✔ Download and installation successful\u001b[0m\n",
            "You can now load the model via spacy.load('es_core_news_md')\n"
          ]
        }
      ]
    },
    {
      "cell_type": "code",
      "metadata": {
        "id": "heEDxEWUOR-k"
      },
      "source": [
        "import torch\n",
        "import torch.nn as nn\n",
        "import torchtext\n",
        "\n",
        "import spacy\n",
        "import nltk\n",
        "from nltk.stem import *\n",
        "\n",
        "import gensim\n",
        "import gensim.downloader\n",
        "from gensim.models import Word2Vec\n",
        "\n",
        "import json\n",
        "import matplotlib.pyplot as plt\n",
        "import numpy as np\n",
        "import pickle"
      ],
      "execution_count": 36,
      "outputs": []
    },
    {
      "cell_type": "markdown",
      "source": [
        "# Tokenizing"
      ],
      "metadata": {
        "id": "yY62Eo0dxlGR"
      }
    },
    {
      "cell_type": "code",
      "source": [
        "sp_en = spacy.load(\"en_core_web_md\")"
      ],
      "metadata": {
        "id": "cojsclmf5bqT"
      },
      "execution_count": 4,
      "outputs": []
    },
    {
      "cell_type": "code",
      "source": [
        "sp_es = spacy.load(\"es_core_news_md\")"
      ],
      "metadata": {
        "id": "X9lRT5YNrQbs"
      },
      "execution_count": 37,
      "outputs": []
    },
    {
      "cell_type": "code",
      "source": [
        "for w in sp_es(\"Bienvenidos a la clase de Aprendizaje Automatico\"):\n",
        "  print(w,w.pos_,w.dep_)"
      ],
      "metadata": {
        "id": "9VY2Ayrj50qZ",
        "colab": {
          "base_uri": "https://localhost:8080/"
        },
        "outputId": "ad9bcb4d-75b0-478e-949f-8c0aea138a9a"
      },
      "execution_count": 38,
      "outputs": [
        {
          "output_type": "stream",
          "name": "stdout",
          "text": [
            "Bienvenidos ADJ ROOT\n",
            "a ADP case\n",
            "la DET det\n",
            "clase NOUN obj\n",
            "de ADP case\n",
            "Aprendizaje PROPN nmod\n",
            "Automatico PROPN flat\n"
          ]
        }
      ]
    },
    {
      "cell_type": "code",
      "source": [
        "for w in sp_en(\"Welcome to the Machine Learning class\"):\n",
        "  print(w,w.pos_,w.dep_)"
      ],
      "metadata": {
        "colab": {
          "base_uri": "https://localhost:8080/"
        },
        "id": "DdcMaBO1xTVk",
        "outputId": "b222e12b-59cf-4310-9020-040badf9d836"
      },
      "execution_count": 39,
      "outputs": [
        {
          "output_type": "stream",
          "name": "stdout",
          "text": [
            "Welcome VERB ROOT\n",
            "to ADP prep\n",
            "the DET det\n",
            "Machine PROPN compound\n",
            "Learning PROPN compound\n",
            "class NOUN pobj\n"
          ]
        }
      ]
    },
    {
      "cell_type": "markdown",
      "source": [
        "# Word Vectorization"
      ],
      "metadata": {
        "id": "oULHucbZ2731"
      }
    },
    {
      "cell_type": "code",
      "source": [
        "word_to_vec = torchtext.vocab.GloVe()"
      ],
      "metadata": {
        "id": "l8mazOoT7-nW"
      },
      "execution_count": 40,
      "outputs": []
    },
    {
      "cell_type": "code",
      "source": [
        "word_to_vec.get_vecs_by_tokens(\"hello how are you\".split(\" \"))"
      ],
      "metadata": {
        "colab": {
          "base_uri": "https://localhost:8080/"
        },
        "id": "JCLIwS7Q3SjK",
        "outputId": "9ac84512-3793-40d7-987d-8e1b2bcdeebf"
      },
      "execution_count": 41,
      "outputs": [
        {
          "output_type": "execute_result",
          "data": {
            "text/plain": [
              "tensor([[ 0.2523,  0.1018, -0.6748,  ...,  0.1787, -0.5192,  0.3359],\n",
              "        [-0.2321,  0.4747, -0.3826,  ...,  0.3318,  0.3155,  0.3797],\n",
              "        [-0.1986, -0.0628, -0.3661,  ..., -0.5845,  0.2788, -0.2621],\n",
              "        [-0.1108,  0.3079, -0.5198,  ..., -0.0591,  0.4760,  0.0566]])"
            ]
          },
          "metadata": {},
          "execution_count": 41
        }
      ]
    },
    {
      "cell_type": "code",
      "source": [
        "cosine_simalirty = torch.nn.CosineSimilarity(dim=0)"
      ],
      "metadata": {
        "id": "USGpq-8_i4Gk"
      },
      "execution_count": 42,
      "outputs": []
    },
    {
      "cell_type": "code",
      "source": [
        "cosine_simalirty(word_to_vec.get_vecs_by_tokens(\"hello\"),word_to_vec.get_vecs_by_tokens(\"potato\"))"
      ],
      "metadata": {
        "colab": {
          "base_uri": "https://localhost:8080/"
        },
        "id": "EPmZFxXx5oA4",
        "outputId": "5ef802a7-8515-4de2-f154-016fe15530c3"
      },
      "execution_count": 43,
      "outputs": [
        {
          "output_type": "execute_result",
          "data": {
            "text/plain": [
              "tensor(0.1982)"
            ]
          },
          "metadata": {},
          "execution_count": 43
        }
      ]
    },
    {
      "cell_type": "code",
      "source": [
        "cosine_simalirty(word_to_vec.get_vecs_by_tokens(\"hello\"),word_to_vec.get_vecs_by_tokens(\"hi\"))"
      ],
      "metadata": {
        "colab": {
          "base_uri": "https://localhost:8080/"
        },
        "id": "juoYaJrx6WJY",
        "outputId": "6939a5d5-66fd-4a59-8141-2303d74c3512"
      },
      "execution_count": 44,
      "outputs": [
        {
          "output_type": "execute_result",
          "data": {
            "text/plain": [
              "tensor(0.7629)"
            ]
          },
          "metadata": {},
          "execution_count": 44
        }
      ]
    },
    {
      "cell_type": "code",
      "source": [
        "cosine_simalirty(word_to_vec.get_vecs_by_tokens(\"university\"),word_to_vec.get_vecs_by_tokens(\"school\"))"
      ],
      "metadata": {
        "colab": {
          "base_uri": "https://localhost:8080/"
        },
        "id": "zRQ9ronEjKpp",
        "outputId": "a3ff3c5c-c416-4afb-bca9-a2ed19ac6751"
      },
      "execution_count": 45,
      "outputs": [
        {
          "output_type": "execute_result",
          "data": {
            "text/plain": [
              "tensor(0.6848)"
            ]
          },
          "metadata": {},
          "execution_count": 45
        }
      ]
    },
    {
      "cell_type": "code",
      "source": [
        "cosine_simalirty(word_to_vec.get_vecs_by_tokens(\"university\"),word_to_vec.get_vecs_by_tokens(\"bar\"))"
      ],
      "metadata": {
        "colab": {
          "base_uri": "https://localhost:8080/"
        },
        "id": "0XcSJ9lSjNqh",
        "outputId": "92da4a77-950c-40bf-f443-ee5f9a83252d"
      },
      "execution_count": 46,
      "outputs": [
        {
          "output_type": "execute_result",
          "data": {
            "text/plain": [
              "tensor(0.2076)"
            ]
          },
          "metadata": {},
          "execution_count": 46
        }
      ]
    },
    {
      "cell_type": "markdown",
      "source": [
        "# Simple Chat Bot"
      ],
      "metadata": {
        "id": "bNPcTig-2YuL"
      }
    },
    {
      "cell_type": "code",
      "source": [
        "!mkdir .kaggle\n",
        "!mv kaggle.json .kaggle/\n",
        "!mv .kaggle ~"
      ],
      "metadata": {
        "colab": {
          "base_uri": "https://localhost:8080/"
        },
        "id": "aj77Xuy2nfN8",
        "outputId": "d0282744-f5b8-4b5f-d353-567486c9772b"
      },
      "execution_count": 48,
      "outputs": [
        {
          "output_type": "stream",
          "name": "stdout",
          "text": [
            "mkdir: cannot create directory ‘.kaggle’: File exists\n",
            "mv: cannot move '.kaggle' to '/root/.kaggle': Directory not empty\n"
          ]
        }
      ]
    },
    {
      "cell_type": "code",
      "source": [
        "!kaggle datasets download elvinagammed/chatbots-intent-recognition-dataset\n",
        "!unzip chatbots-intent-recognition-dataset.zip"
      ],
      "metadata": {
        "id": "e5EiOrEv6Y1P",
        "colab": {
          "base_uri": "https://localhost:8080/"
        },
        "outputId": "67d29fe8-e031-4c53-d85b-c983db503ddc"
      },
      "execution_count": 49,
      "outputs": [
        {
          "output_type": "stream",
          "name": "stdout",
          "text": [
            "Warning: Your Kaggle API key is readable by other users on this system! To fix this, you can run 'chmod 600 /root/.kaggle/kaggle.json'\n",
            "chatbots-intent-recognition-dataset.zip: Skipping, found more recently modified local copy (use --force to force download)\n",
            "Archive:  chatbots-intent-recognition-dataset.zip\n",
            "replace Intent.json? [y]es, [n]o, [A]ll, [N]one, [r]ename: n\n"
          ]
        }
      ]
    },
    {
      "cell_type": "code",
      "source": [
        "data_ = json.load(open(\"Intent.json\"))"
      ],
      "metadata": {
        "id": "iZKHZFcy6ejA"
      },
      "execution_count": 50,
      "outputs": []
    },
    {
      "cell_type": "code",
      "source": [
        "intents_ = data_[\"intents\"]\n",
        "num_intent = len(intents_)"
      ],
      "metadata": {
        "id": "1EUq2g_26l7e"
      },
      "execution_count": 51,
      "outputs": []
    },
    {
      "cell_type": "code",
      "source": [
        "words = set()\n",
        "for intent_ in intents_:\n",
        "  for sentence_ in intent_[\"text\"]:\n",
        "    for w in sp_en(sentence_):\n",
        "      words.add(str(w).lower())\n",
        "  for sentence_ in intent_[\"responses\"]:\n",
        "    for w in sp_en(sentence_):\n",
        "      words.add(str(w).lower())"
      ],
      "metadata": {
        "id": "_hEbmBaMoDQD"
      },
      "execution_count": 52,
      "outputs": []
    },
    {
      "cell_type": "code",
      "source": [
        "bag_of_words = {k: v for v,k in enumerate(words)}\n",
        "num_words = len(bag_of_words)"
      ],
      "metadata": {
        "id": "AGIaFPUEowqe"
      },
      "execution_count": 53,
      "outputs": []
    },
    {
      "cell_type": "code",
      "source": [
        "dev = torch.device(\"cuda:0\" if torch.cuda.is_available() else \"cpu\")"
      ],
      "metadata": {
        "id": "yRLmbgE7pXaj"
      },
      "execution_count": 54,
      "outputs": []
    },
    {
      "cell_type": "code",
      "source": [
        "model = nn.Sequential(\n",
        "    nn.Linear(num_words,256),\n",
        "    nn.ReLU(inplace=True),\n",
        "    nn.Linear(256,num_intent)\n",
        ").to(dev)"
      ],
      "metadata": {
        "id": "DNU8ug2Oo4E-"
      },
      "execution_count": 55,
      "outputs": []
    },
    {
      "cell_type": "code",
      "source": [
        "class MyDataset(torch.utils.data.Dataset):\n",
        "  def __init__(self):\n",
        "    self.intents_text = []\n",
        "    self.intents_target = []\n",
        "    for target, intent_ in enumerate(intents_):\n",
        "      self.intents_text += intent_[\"text\"]\n",
        "      self.intents_target += [target]*len(intent_[\"text\"])\n",
        "  \n",
        "  def __getitem__(self,idx):\n",
        "    x = torch.zeros(num_words)\n",
        "    for w in sp_en(self.intents_text[idx]):\n",
        "      w = str(w).lower()\n",
        "      x[bag_of_words[w]] = 1\n",
        "    \n",
        "    return x, self.intents_target[idx]\n",
        "  def __len__(self):\n",
        "    return len(self.intents_text)"
      ],
      "metadata": {
        "id": "gNxkfT72pdgo"
      },
      "execution_count": 56,
      "outputs": []
    },
    {
      "cell_type": "code",
      "source": [
        "train_ds = MyDataset()\n",
        "train_dl = torch.utils.data.DataLoader(train_ds,batch_size=32,shuffle=True)"
      ],
      "metadata": {
        "id": "lP6vEf1rq1Wb"
      },
      "execution_count": 57,
      "outputs": []
    },
    {
      "cell_type": "code",
      "source": [
        "def evaluate(model, loader, crit):\n",
        "  model.eval()\n",
        "  total = 0\n",
        "  corrects = 0\n",
        "  avg_loss = 0\n",
        "  for x, y in loader:\n",
        "    x = x.to(dev)\n",
        "    y = y.to(dev)\n",
        "    o = model(x)\n",
        "    loss = crit(o,y)\n",
        "    avg_loss += loss.item()\n",
        "    corrects += torch.sum(torch.argmax(o,axis=1) == y).item()\n",
        "    total += len(y)\n",
        "  acc = 100* corrects / total\n",
        "  avg_loss /= len(loader)  \n",
        "  return avg_loss, acc\n",
        "\n",
        "def train_one_epoch(model, train_loader, crit, optim):\n",
        "  model.train()\n",
        "  total = 0\n",
        "  corrects = 0\n",
        "  avg_loss = 0\n",
        "  for x, y in train_loader:\n",
        "    optim.zero_grad()\n",
        "    x = x.to(dev)\n",
        "    y = y.to(dev)\n",
        "    o = model(x)\n",
        "    loss = crit(o,y)\n",
        "    avg_loss += loss.item()\n",
        "    loss.backward()\n",
        "    optim.step()\n",
        "    corrects += torch.sum(torch.argmax(o,axis=1) == y).item()\n",
        "    total += len(y)\n",
        "  acc = 100 * corrects / total\n",
        "  avg_loss /= len(train_loader)\n",
        "  return avg_loss, acc\n",
        "\n",
        "def train(model, train_loader, test_loader, crit, optim, epochs = 20):\n",
        "  for epoch in range(epochs):\n",
        "    train_loss, train_acc = train_one_epoch(model, train_loader,crit, optim)\n",
        "    test_loss, test_acc = evaluate(model, test_loader, crit)\n",
        "    print(f\"epoch: {epoch}, train loss: {train_loss}, train acc: {train_acc}%, test loss: {test_loss}, test acc: {test_acc}%\")"
      ],
      "metadata": {
        "id": "fOf1WHCqq43z"
      },
      "execution_count": 58,
      "outputs": []
    },
    {
      "cell_type": "code",
      "source": [
        "crit = nn.CrossEntropyLoss()\n",
        "optim = torch.optim.Adam(model.parameters(),lr=0.1)\n",
        "train(model,train_dl,train_dl, crit, optim,epochs=10)"
      ],
      "metadata": {
        "colab": {
          "base_uri": "https://localhost:8080/"
        },
        "id": "L2y4Df-eq7Wb",
        "outputId": "60840e4e-f297-4122-de67-0ae5e20ed900"
      },
      "execution_count": 59,
      "outputs": [
        {
          "output_type": "stream",
          "name": "stdout",
          "text": [
            "epoch: 0, train loss: 2.581163740158081, train acc: 30.76923076923077%, test loss: 0.8848951935768128, test acc: 78.32167832167832%\n",
            "epoch: 1, train loss: 0.6092755734920502, train acc: 80.41958041958041%, test loss: 0.280326846241951, test acc: 93.00699300699301%\n",
            "epoch: 2, train loss: 0.15987884066998959, train acc: 94.4055944055944%, test loss: 0.048370074667036536, test acc: 97.2027972027972%\n",
            "epoch: 3, train loss: 0.1032136266672751, train acc: 97.2027972027972%, test loss: 0.004532892489805818, test acc: 100.0%\n",
            "epoch: 4, train loss: 0.09504019755986519, train acc: 99.3006993006993%, test loss: 0.0009294453797338065, test acc: 100.0%\n",
            "epoch: 5, train loss: 0.0006214900777194998, train acc: 100.0%, test loss: 0.00013553579274230287, test acc: 100.0%\n",
            "epoch: 6, train loss: 0.00014146582102512185, train acc: 100.0%, test loss: 0.0008331643863812132, test acc: 100.0%\n",
            "epoch: 7, train loss: 0.01492447194395936, train acc: 99.3006993006993%, test loss: 8.020959754162504e-06, test acc: 100.0%\n",
            "epoch: 8, train loss: 0.006156182793711195, train acc: 100.0%, test loss: 5.869668314062437e-06, test acc: 100.0%\n",
            "epoch: 9, train loss: 1.8429226565785938e-05, train acc: 100.0%, test loss: 0.18604765805030182, test acc: 97.2027972027972%\n"
          ]
        }
      ]
    },
    {
      "cell_type": "code",
      "source": [
        "torch.save(model.state_dict(),\"chatbot.ckpt\")"
      ],
      "metadata": {
        "id": "NeYI68eltr-d"
      },
      "execution_count": 60,
      "outputs": []
    },
    {
      "cell_type": "code",
      "source": [
        "def get_response(model, text_):\n",
        "  model.eval()\n",
        "  x = torch.zeros(1,num_words)\n",
        "  for w in sp_en(text_):\n",
        "    w = str(w).lower()\n",
        "    if w in bag_of_words:\n",
        "      x[0,bag_of_words[w]] = 1\n",
        "  pred_scores = torch.softmax(model(x.to(dev)),1).cpu()\n",
        "  pred_intent_idx = torch.argmax(pred_scores).item()\n",
        "  confidence = pred_scores[0][pred_intent_idx].item() * 100\n",
        "  print(\"confidence: \", confidence, \"%\")\n",
        "  responses_ = intents_[pred_intent_idx][\"responses\"]\n",
        "  if confidence > 50:\n",
        "    rand_idx = np.random.randint(0,len(responses_))\n",
        "    return responses_[rand_idx]\n",
        "  return \"I don't understand what you are saying\""
      ],
      "metadata": {
        "id": "oUoQeNphsLej"
      },
      "execution_count": 61,
      "outputs": []
    },
    {
      "cell_type": "code",
      "source": [
        "get_response(model,\"who are you?\")"
      ],
      "metadata": {
        "colab": {
          "base_uri": "https://localhost:8080/",
          "height": 53
        },
        "id": "Usp_BtynsrPn",
        "outputId": "910ab7c8-38db-4e61-a902-a31f58ec6dad"
      },
      "execution_count": 62,
      "outputs": [
        {
          "output_type": "stream",
          "name": "stdout",
          "text": [
            "confidence:  99.99997615814209 %\n"
          ]
        },
        {
          "output_type": "execute_result",
          "data": {
            "application/vnd.google.colaboratory.intrinsic+json": {
              "type": "string"
            },
            "text/plain": [
              "'Call me Geni'"
            ]
          },
          "metadata": {},
          "execution_count": 62
        }
      ]
    },
    {
      "cell_type": "markdown",
      "source": [
        "# Hugging Face"
      ],
      "metadata": {
        "id": "cGF5v7NzApZT"
      }
    },
    {
      "cell_type": "markdown",
      "source": [
        "# Traductor"
      ],
      "metadata": {
        "id": "aensmEKvMf4A"
      }
    },
    {
      "cell_type": "code",
      "source": [
        "!pip3 install transformers"
      ],
      "metadata": {
        "colab": {
          "base_uri": "https://localhost:8080/"
        },
        "id": "vAXTIQ-YAqbn",
        "outputId": "6a90c97d-92b0-42d1-862d-40c3ad9861e7"
      },
      "execution_count": 63,
      "outputs": [
        {
          "output_type": "stream",
          "name": "stdout",
          "text": [
            "Requirement already satisfied: transformers in /usr/local/lib/python3.7/dist-packages (4.16.2)\n",
            "Requirement already satisfied: pyyaml>=5.1 in /usr/local/lib/python3.7/dist-packages (from transformers) (6.0)\n",
            "Requirement already satisfied: regex!=2019.12.17 in /usr/local/lib/python3.7/dist-packages (from transformers) (2019.12.20)\n",
            "Requirement already satisfied: numpy>=1.17 in /usr/local/lib/python3.7/dist-packages (from transformers) (1.21.5)\n",
            "Requirement already satisfied: tqdm>=4.27 in /usr/local/lib/python3.7/dist-packages (from transformers) (4.62.3)\n",
            "Requirement already satisfied: packaging>=20.0 in /usr/local/lib/python3.7/dist-packages (from transformers) (21.3)\n",
            "Requirement already satisfied: sacremoses in /usr/local/lib/python3.7/dist-packages (from transformers) (0.0.47)\n",
            "Requirement already satisfied: huggingface-hub<1.0,>=0.1.0 in /usr/local/lib/python3.7/dist-packages (from transformers) (0.4.0)\n",
            "Requirement already satisfied: requests in /usr/local/lib/python3.7/dist-packages (from transformers) (2.23.0)\n",
            "Requirement already satisfied: tokenizers!=0.11.3,>=0.10.1 in /usr/local/lib/python3.7/dist-packages (from transformers) (0.11.5)\n",
            "Requirement already satisfied: importlib-metadata in /usr/local/lib/python3.7/dist-packages (from transformers) (4.11.0)\n",
            "Requirement already satisfied: filelock in /usr/local/lib/python3.7/dist-packages (from transformers) (3.4.2)\n",
            "Requirement already satisfied: typing-extensions>=3.7.4.3 in /usr/local/lib/python3.7/dist-packages (from huggingface-hub<1.0,>=0.1.0->transformers) (3.10.0.2)\n",
            "Requirement already satisfied: pyparsing!=3.0.5,>=2.0.2 in /usr/local/lib/python3.7/dist-packages (from packaging>=20.0->transformers) (3.0.7)\n",
            "Requirement already satisfied: zipp>=0.5 in /usr/local/lib/python3.7/dist-packages (from importlib-metadata->transformers) (3.7.0)\n",
            "Requirement already satisfied: certifi>=2017.4.17 in /usr/local/lib/python3.7/dist-packages (from requests->transformers) (2021.10.8)\n",
            "Requirement already satisfied: idna<3,>=2.5 in /usr/local/lib/python3.7/dist-packages (from requests->transformers) (2.10)\n",
            "Requirement already satisfied: chardet<4,>=3.0.2 in /usr/local/lib/python3.7/dist-packages (from requests->transformers) (3.0.4)\n",
            "Requirement already satisfied: urllib3!=1.25.0,!=1.25.1,<1.26,>=1.21.1 in /usr/local/lib/python3.7/dist-packages (from requests->transformers) (1.24.3)\n",
            "Requirement already satisfied: six in /usr/local/lib/python3.7/dist-packages (from sacremoses->transformers) (1.15.0)\n",
            "Requirement already satisfied: joblib in /usr/local/lib/python3.7/dist-packages (from sacremoses->transformers) (1.1.0)\n",
            "Requirement already satisfied: click in /usr/local/lib/python3.7/dist-packages (from sacremoses->transformers) (7.1.2)\n"
          ]
        }
      ]
    },
    {
      "cell_type": "code",
      "source": [
        "!pip3 install sentencepiece"
      ],
      "metadata": {
        "colab": {
          "base_uri": "https://localhost:8080/"
        },
        "id": "dugB1ZMvZ9Gd",
        "outputId": "6dc3f73f-207c-4847-cd28-479e4f819e86"
      },
      "execution_count": 65,
      "outputs": [
        {
          "output_type": "stream",
          "name": "stdout",
          "text": [
            "Collecting sentencepiece\n",
            "  Downloading sentencepiece-0.1.96-cp37-cp37m-manylinux_2_17_x86_64.manylinux2014_x86_64.whl (1.2 MB)\n",
            "\u001b[?25l\r\u001b[K     |▎                               | 10 kB 22.8 MB/s eta 0:00:01\r\u001b[K     |▌                               | 20 kB 31.0 MB/s eta 0:00:01\r\u001b[K     |▉                               | 30 kB 23.6 MB/s eta 0:00:01\r\u001b[K     |█                               | 40 kB 12.1 MB/s eta 0:00:01\r\u001b[K     |█▍                              | 51 kB 11.3 MB/s eta 0:00:01\r\u001b[K     |█▋                              | 61 kB 12.7 MB/s eta 0:00:01\r\u001b[K     |██                              | 71 kB 13.2 MB/s eta 0:00:01\r\u001b[K     |██▏                             | 81 kB 13.2 MB/s eta 0:00:01\r\u001b[K     |██▍                             | 92 kB 14.5 MB/s eta 0:00:01\r\u001b[K     |██▊                             | 102 kB 11.8 MB/s eta 0:00:01\r\u001b[K     |███                             | 112 kB 11.8 MB/s eta 0:00:01\r\u001b[K     |███▎                            | 122 kB 11.8 MB/s eta 0:00:01\r\u001b[K     |███▌                            | 133 kB 11.8 MB/s eta 0:00:01\r\u001b[K     |███▉                            | 143 kB 11.8 MB/s eta 0:00:01\r\u001b[K     |████                            | 153 kB 11.8 MB/s eta 0:00:01\r\u001b[K     |████▎                           | 163 kB 11.8 MB/s eta 0:00:01\r\u001b[K     |████▋                           | 174 kB 11.8 MB/s eta 0:00:01\r\u001b[K     |████▉                           | 184 kB 11.8 MB/s eta 0:00:01\r\u001b[K     |█████▏                          | 194 kB 11.8 MB/s eta 0:00:01\r\u001b[K     |█████▍                          | 204 kB 11.8 MB/s eta 0:00:01\r\u001b[K     |█████▊                          | 215 kB 11.8 MB/s eta 0:00:01\r\u001b[K     |██████                          | 225 kB 11.8 MB/s eta 0:00:01\r\u001b[K     |██████▏                         | 235 kB 11.8 MB/s eta 0:00:01\r\u001b[K     |██████▌                         | 245 kB 11.8 MB/s eta 0:00:01\r\u001b[K     |██████▊                         | 256 kB 11.8 MB/s eta 0:00:01\r\u001b[K     |███████                         | 266 kB 11.8 MB/s eta 0:00:01\r\u001b[K     |███████▎                        | 276 kB 11.8 MB/s eta 0:00:01\r\u001b[K     |███████▋                        | 286 kB 11.8 MB/s eta 0:00:01\r\u001b[K     |███████▉                        | 296 kB 11.8 MB/s eta 0:00:01\r\u001b[K     |████████                        | 307 kB 11.8 MB/s eta 0:00:01\r\u001b[K     |████████▍                       | 317 kB 11.8 MB/s eta 0:00:01\r\u001b[K     |████████▋                       | 327 kB 11.8 MB/s eta 0:00:01\r\u001b[K     |█████████                       | 337 kB 11.8 MB/s eta 0:00:01\r\u001b[K     |█████████▏                      | 348 kB 11.8 MB/s eta 0:00:01\r\u001b[K     |█████████▌                      | 358 kB 11.8 MB/s eta 0:00:01\r\u001b[K     |█████████▊                      | 368 kB 11.8 MB/s eta 0:00:01\r\u001b[K     |██████████                      | 378 kB 11.8 MB/s eta 0:00:01\r\u001b[K     |██████████▎                     | 389 kB 11.8 MB/s eta 0:00:01\r\u001b[K     |██████████▌                     | 399 kB 11.8 MB/s eta 0:00:01\r\u001b[K     |██████████▉                     | 409 kB 11.8 MB/s eta 0:00:01\r\u001b[K     |███████████                     | 419 kB 11.8 MB/s eta 0:00:01\r\u001b[K     |███████████▍                    | 430 kB 11.8 MB/s eta 0:00:01\r\u001b[K     |███████████▋                    | 440 kB 11.8 MB/s eta 0:00:01\r\u001b[K     |███████████▉                    | 450 kB 11.8 MB/s eta 0:00:01\r\u001b[K     |████████████▏                   | 460 kB 11.8 MB/s eta 0:00:01\r\u001b[K     |████████████▍                   | 471 kB 11.8 MB/s eta 0:00:01\r\u001b[K     |████████████▊                   | 481 kB 11.8 MB/s eta 0:00:01\r\u001b[K     |█████████████                   | 491 kB 11.8 MB/s eta 0:00:01\r\u001b[K     |█████████████▎                  | 501 kB 11.8 MB/s eta 0:00:01\r\u001b[K     |█████████████▌                  | 512 kB 11.8 MB/s eta 0:00:01\r\u001b[K     |█████████████▊                  | 522 kB 11.8 MB/s eta 0:00:01\r\u001b[K     |██████████████                  | 532 kB 11.8 MB/s eta 0:00:01\r\u001b[K     |██████████████▎                 | 542 kB 11.8 MB/s eta 0:00:01\r\u001b[K     |██████████████▋                 | 552 kB 11.8 MB/s eta 0:00:01\r\u001b[K     |██████████████▉                 | 563 kB 11.8 MB/s eta 0:00:01\r\u001b[K     |███████████████▏                | 573 kB 11.8 MB/s eta 0:00:01\r\u001b[K     |███████████████▍                | 583 kB 11.8 MB/s eta 0:00:01\r\u001b[K     |███████████████▋                | 593 kB 11.8 MB/s eta 0:00:01\r\u001b[K     |████████████████                | 604 kB 11.8 MB/s eta 0:00:01\r\u001b[K     |████████████████▏               | 614 kB 11.8 MB/s eta 0:00:01\r\u001b[K     |████████████████▌               | 624 kB 11.8 MB/s eta 0:00:01\r\u001b[K     |████████████████▊               | 634 kB 11.8 MB/s eta 0:00:01\r\u001b[K     |█████████████████               | 645 kB 11.8 MB/s eta 0:00:01\r\u001b[K     |█████████████████▎              | 655 kB 11.8 MB/s eta 0:00:01\r\u001b[K     |█████████████████▌              | 665 kB 11.8 MB/s eta 0:00:01\r\u001b[K     |█████████████████▉              | 675 kB 11.8 MB/s eta 0:00:01\r\u001b[K     |██████████████████              | 686 kB 11.8 MB/s eta 0:00:01\r\u001b[K     |██████████████████▍             | 696 kB 11.8 MB/s eta 0:00:01\r\u001b[K     |██████████████████▋             | 706 kB 11.8 MB/s eta 0:00:01\r\u001b[K     |███████████████████             | 716 kB 11.8 MB/s eta 0:00:01\r\u001b[K     |███████████████████▏            | 727 kB 11.8 MB/s eta 0:00:01\r\u001b[K     |███████████████████▍            | 737 kB 11.8 MB/s eta 0:00:01\r\u001b[K     |███████████████████▊            | 747 kB 11.8 MB/s eta 0:00:01\r\u001b[K     |████████████████████            | 757 kB 11.8 MB/s eta 0:00:01\r\u001b[K     |████████████████████▎           | 768 kB 11.8 MB/s eta 0:00:01\r\u001b[K     |████████████████████▌           | 778 kB 11.8 MB/s eta 0:00:01\r\u001b[K     |████████████████████▉           | 788 kB 11.8 MB/s eta 0:00:01\r\u001b[K     |█████████████████████           | 798 kB 11.8 MB/s eta 0:00:01\r\u001b[K     |█████████████████████▎          | 808 kB 11.8 MB/s eta 0:00:01\r\u001b[K     |█████████████████████▋          | 819 kB 11.8 MB/s eta 0:00:01\r\u001b[K     |█████████████████████▉          | 829 kB 11.8 MB/s eta 0:00:01\r\u001b[K     |██████████████████████▏         | 839 kB 11.8 MB/s eta 0:00:01\r\u001b[K     |██████████████████████▍         | 849 kB 11.8 MB/s eta 0:00:01\r\u001b[K     |██████████████████████▊         | 860 kB 11.8 MB/s eta 0:00:01\r\u001b[K     |███████████████████████         | 870 kB 11.8 MB/s eta 0:00:01\r\u001b[K     |███████████████████████▏        | 880 kB 11.8 MB/s eta 0:00:01\r\u001b[K     |███████████████████████▌        | 890 kB 11.8 MB/s eta 0:00:01\r\u001b[K     |███████████████████████▊        | 901 kB 11.8 MB/s eta 0:00:01\r\u001b[K     |████████████████████████        | 911 kB 11.8 MB/s eta 0:00:01\r\u001b[K     |████████████████████████▎       | 921 kB 11.8 MB/s eta 0:00:01\r\u001b[K     |████████████████████████▋       | 931 kB 11.8 MB/s eta 0:00:01\r\u001b[K     |████████████████████████▉       | 942 kB 11.8 MB/s eta 0:00:01\r\u001b[K     |█████████████████████████       | 952 kB 11.8 MB/s eta 0:00:01\r\u001b[K     |█████████████████████████▍      | 962 kB 11.8 MB/s eta 0:00:01\r\u001b[K     |█████████████████████████▋      | 972 kB 11.8 MB/s eta 0:00:01\r\u001b[K     |██████████████████████████      | 983 kB 11.8 MB/s eta 0:00:01\r\u001b[K     |██████████████████████████▏     | 993 kB 11.8 MB/s eta 0:00:01\r\u001b[K     |██████████████████████████▌     | 1.0 MB 11.8 MB/s eta 0:00:01\r\u001b[K     |██████████████████████████▊     | 1.0 MB 11.8 MB/s eta 0:00:01\r\u001b[K     |███████████████████████████     | 1.0 MB 11.8 MB/s eta 0:00:01\r\u001b[K     |███████████████████████████▎    | 1.0 MB 11.8 MB/s eta 0:00:01\r\u001b[K     |███████████████████████████▌    | 1.0 MB 11.8 MB/s eta 0:00:01\r\u001b[K     |███████████████████████████▉    | 1.1 MB 11.8 MB/s eta 0:00:01\r\u001b[K     |████████████████████████████    | 1.1 MB 11.8 MB/s eta 0:00:01\r\u001b[K     |████████████████████████████▍   | 1.1 MB 11.8 MB/s eta 0:00:01\r\u001b[K     |████████████████████████████▋   | 1.1 MB 11.8 MB/s eta 0:00:01\r\u001b[K     |████████████████████████████▉   | 1.1 MB 11.8 MB/s eta 0:00:01\r\u001b[K     |█████████████████████████████▏  | 1.1 MB 11.8 MB/s eta 0:00:01\r\u001b[K     |█████████████████████████████▍  | 1.1 MB 11.8 MB/s eta 0:00:01\r\u001b[K     |█████████████████████████████▊  | 1.1 MB 11.8 MB/s eta 0:00:01\r\u001b[K     |██████████████████████████████  | 1.1 MB 11.8 MB/s eta 0:00:01\r\u001b[K     |██████████████████████████████▎ | 1.1 MB 11.8 MB/s eta 0:00:01\r\u001b[K     |██████████████████████████████▌ | 1.2 MB 11.8 MB/s eta 0:00:01\r\u001b[K     |██████████████████████████████▊ | 1.2 MB 11.8 MB/s eta 0:00:01\r\u001b[K     |███████████████████████████████ | 1.2 MB 11.8 MB/s eta 0:00:01\r\u001b[K     |███████████████████████████████▎| 1.2 MB 11.8 MB/s eta 0:00:01\r\u001b[K     |███████████████████████████████▋| 1.2 MB 11.8 MB/s eta 0:00:01\r\u001b[K     |███████████████████████████████▉| 1.2 MB 11.8 MB/s eta 0:00:01\r\u001b[K     |████████████████████████████████| 1.2 MB 11.8 MB/s \n",
            "\u001b[?25hInstalling collected packages: sentencepiece\n",
            "Successfully installed sentencepiece-0.1.96\n"
          ]
        }
      ]
    },
    {
      "cell_type": "code",
      "source": [
        "from transformers import AutoTokenizer, AutoModelForSeq2SeqLM\n",
        "\n",
        "tokenizer = AutoTokenizer.from_pretrained(\"Helsinki-NLP/opus-mt-en-es\")\n",
        "\n",
        "model = AutoModelForSeq2SeqLM.from_pretrained(\"Helsinki-NLP/opus-mt-en-es\")"
      ],
      "metadata": {
        "colab": {
          "base_uri": "https://localhost:8080/",
          "height": 145,
          "referenced_widgets": [
            "18eb0fdbfa6c4a9ca2f7a1d6cc1326b3",
            "b2584a5d5eef4fa5b52af26becd0300d",
            "505966fbfa414810b6da6b8c57d532c0",
            "fd7e22559c2a427bb6c1ed217ec59ba1",
            "67911a7c86b14f0e8ee01d28a83e4578",
            "8db3a2a1eab44c709ff5592fa61f65be",
            "30ffbfce81a04354b9a4f9fc01dec94a",
            "00801ded551a4e6f8847d036e986c335",
            "473297c61585415a932499321a0cfee2",
            "114cf720e2fa46e28170d149d80f4ddb",
            "4a381723235d434f97da9da59048814d",
            "19efd467eebb4155bc0744c177b1f881",
            "91cecaf3236540b29063d23ce188358d",
            "f848e8d072a04a9ea8a1c2f591a76d77",
            "e57661a209b741259392afed013dd8a3",
            "fd54f9083b224aa7b245c694e8344bff",
            "654ba2cf5f3c4592904309dba3a4876b",
            "b7beb3c411a34ea98089c72e771dcde8",
            "182ca5347a5a4873aa60dc8f500a2b79",
            "99d8772d8230419aa41818d7085d21b4",
            "6657d854fc174466941c53adc601b252",
            "2b1fe6184018439f9f5ef3131d7a7525",
            "8c042719ec3246e09e19676cd3646156",
            "7930d8ab50c54cad948102fb896a0dad",
            "cb2f57af080d4ee388f6a7765178a5c8",
            "3b03ead7852e4f09b374f70993b378ee",
            "1140968baa77423fa74f5472b0bb3087",
            "20384b1cc18e405c83d5b6742da746b3",
            "4db5bca0f71f42ab98370a27552c0677",
            "60957ddb8d1c4724ac83520cf7acc543",
            "0053452f45014bf6a0288976f1215ae6",
            "bcf6a7005e0a48a0856bc70d7f7a0f35",
            "5693aba43918445b828db295928e01e7",
            "66d80b982aea4dc6aa0307717080f9dd",
            "8a66984641f14a18bb791de3fd222921",
            "cd66b60c8bd44197a718e6b90e8e62f1",
            "d494eddf8e4e446ba09bdcdeadb40cba",
            "5784d3e543d744eb92fb90cfe910716c",
            "15997930fa6642d99a89fee84fd45752",
            "0b7ee2d10e794c9a8babd80aa884c76d",
            "cb792d22737940a5b15fe335dbb28fc9",
            "d5c78f28a8d3479d8de2175af4daa45c",
            "341a1dd309014d5a8a0e257899dae3ea",
            "6bdd2050408245d6bcbb5eb386d590a2"
          ]
        },
        "id": "1UxgpBylMil4",
        "outputId": "afa9cce3-178c-4964-ec51-578b2c6811e2"
      },
      "execution_count": 1,
      "outputs": [
        {
          "output_type": "display_data",
          "data": {
            "application/vnd.jupyter.widget-view+json": {
              "model_id": "18eb0fdbfa6c4a9ca2f7a1d6cc1326b3",
              "version_minor": 0,
              "version_major": 2
            },
            "text/plain": [
              "Downloading:   0%|          | 0.00/783k [00:00<?, ?B/s]"
            ]
          },
          "metadata": {}
        },
        {
          "output_type": "display_data",
          "data": {
            "application/vnd.jupyter.widget-view+json": {
              "model_id": "19efd467eebb4155bc0744c177b1f881",
              "version_minor": 0,
              "version_major": 2
            },
            "text/plain": [
              "Downloading:   0%|          | 0.00/807k [00:00<?, ?B/s]"
            ]
          },
          "metadata": {}
        },
        {
          "output_type": "display_data",
          "data": {
            "application/vnd.jupyter.widget-view+json": {
              "model_id": "8c042719ec3246e09e19676cd3646156",
              "version_minor": 0,
              "version_major": 2
            },
            "text/plain": [
              "Downloading:   0%|          | 0.00/1.52M [00:00<?, ?B/s]"
            ]
          },
          "metadata": {}
        },
        {
          "output_type": "display_data",
          "data": {
            "application/vnd.jupyter.widget-view+json": {
              "model_id": "66d80b982aea4dc6aa0307717080f9dd",
              "version_minor": 0,
              "version_major": 2
            },
            "text/plain": [
              "Downloading:   0%|          | 0.00/298M [00:00<?, ?B/s]"
            ]
          },
          "metadata": {}
        }
      ]
    },
    {
      "cell_type": "code",
      "source": [
        "original_phrase = \"I would like to visit other latinamerican countries\""
      ],
      "metadata": {
        "id": "3MydDeOJZ5ru"
      },
      "execution_count": 13,
      "outputs": []
    },
    {
      "cell_type": "code",
      "source": [
        "tokenizer(original_phrase,return_tensors=\"pt\")"
      ],
      "metadata": {
        "colab": {
          "base_uri": "https://localhost:8080/"
        },
        "id": "1nT6wXaBbJtK",
        "outputId": "f9e6546a-66c4-44c9-99ce-0bf13a9390f7"
      },
      "execution_count": 14,
      "outputs": [
        {
          "output_type": "execute_result",
          "data": {
            "text/plain": [
              "{'input_ids': tensor([[   33,   134,   172,    13,  2080,   114, 42483, 29893,   240,     0]]), 'attention_mask': tensor([[1, 1, 1, 1, 1, 1, 1, 1, 1, 1]])}"
            ]
          },
          "metadata": {},
          "execution_count": 14
        }
      ]
    },
    {
      "cell_type": "code",
      "source": [
        "model.generate(**tokenizer(original_phrase,return_tensors=\"pt\"))"
      ],
      "metadata": {
        "colab": {
          "base_uri": "https://localhost:8080/"
        },
        "id": "dNLKEVS7bqAP",
        "outputId": "34707ae6-7fa6-4bf7-997f-6e4b2f490f85"
      },
      "execution_count": 15,
      "outputs": [
        {
          "output_type": "execute_result",
          "data": {
            "text/plain": [
              "tensor([[65000,   377,  3756,  4998,   262,   185,     6, 33191,     0]])"
            ]
          },
          "metadata": {},
          "execution_count": 15
        }
      ]
    },
    {
      "cell_type": "code",
      "source": [
        "tokenizer.batch_decode(model.generate(**tokenizer(original_phrase,return_tensors=\"pt\")))"
      ],
      "metadata": {
        "colab": {
          "base_uri": "https://localhost:8080/"
        },
        "id": "iLYSuxtSaOjR",
        "outputId": "e3856adb-7de1-4f12-c064-345b461b2676"
      },
      "execution_count": 16,
      "outputs": [
        {
          "output_type": "execute_result",
          "data": {
            "text/plain": [
              "['<pad> Me gustaría visitar otros países latinoamericanos']"
            ]
          },
          "metadata": {},
          "execution_count": 16
        }
      ]
    },
    {
      "cell_type": "markdown",
      "source": [
        "# Question answering"
      ],
      "metadata": {
        "id": "cJ6lJfpdpaVm"
      }
    },
    {
      "cell_type": "code",
      "source": [
        "from transformers import AutoModelForQuestionAnswering, AutoTokenizer, pipeline\n",
        "model_name = \"deepset/roberta-base-squad2\"\n",
        "\n",
        "nlp = pipeline('question-answering', model=model_name, tokenizer=model_name)\n",
        "QA_input = {\n",
        "    'question': \"Who is Candace?\",\n",
        "    'context':  \"\"\"\n",
        "Phineas and Ferb is an American animated musical-comedy television series created by Dan Povenmire and Jeff \"Swampy\" Marsh for Disney Channel and Disney XD. Produced by Disney Television Animation, the series was originally broadcast as a one-episode preview on August 17, 2007, and again previewed on September 28, 2007, the series officially premiered on February 1, 2008, on Disney Channel, running until June 12, 2015.\n",
        "\n",
        "The program follows Phineas Flynn and his stepbrother Ferb Fletcher,[2] who are between eight and ten years old,[3] during summer vacation. Every day, the boys embark on a grand new project, which is usually unrealistic in scale given the protagonists' ages (and are sometimes physically impossible). This annoys their controlling older sister Candace, who frequently tries to reveal their shenanigans to her and Phineas' mother, Linda Flynn-Fletcher, and less frequently to Ferb's father, Lawrence Fletcher. The series follows a standard plot system; running gags occur in every episode, and the subplot almost always features Phineas and Ferb's pet platypus Perry the Platypus working as a spy named \"Agent P\" for OWCA (the Organization Without a Cool Acronym) to defeat the latest scheme of Dr. Heinz Doofenshmirtz, a mad scientist driven largely by a need to assert his evilness (although he is not especially evil and has a good heart in some situations). The two plots intersect at the end to erase all traces of the boys' project just before Candace can show it to their mother, which usually leaves Candace very frustrated.\n",
        "\n",
        "Povenmire and Marsh had previously worked together on Fox's The Simpsons and Nickelodeon's Rocko's Modern Life. The creators also voice two of the main B-plot characters, Dr. Doofenshmirtz and Major Monogram. Phineas and Ferb was conceived after Povenmire sketched a triangular boy – the prototype for Phineas – in a restaurant. Povenmire and Marsh developed the series concept together and pitched it to networks for 16 years before securing a run on Disney Channel.[2]\"\"\"\n",
        "}\n",
        "res = nlp(QA_input)"
      ],
      "metadata": {
        "colab": {
          "base_uri": "https://localhost:8080/"
        },
        "id": "u2Gn7_6ed6iJ",
        "outputId": "e6e46a23-71ea-4fd4-d622-8db723124223"
      },
      "execution_count": 160,
      "outputs": [
        {
          "output_type": "stream",
          "name": "stderr",
          "text": [
            "/usr/local/lib/python3.7/dist-packages/transformers/tokenization_utils_base.py:707: VisibleDeprecationWarning: Creating an ndarray from ragged nested sequences (which is a list-or-tuple of lists-or-tuples-or ndarrays with different lengths or shapes) is deprecated. If you meant to do this, you must specify 'dtype=object' when creating the ndarray.\n",
            "  tensor = as_tensor(value)\n",
            "/usr/local/lib/python3.7/dist-packages/transformers/pipelines/question_answering.py:299: VisibleDeprecationWarning: Creating an ndarray from ragged nested sequences (which is a list-or-tuple of lists-or-tuples-or ndarrays with different lengths or shapes) is deprecated. If you meant to do this, you must specify 'dtype=object' when creating the ndarray.\n",
            "  for span_id in range(num_spans)\n"
          ]
        }
      ]
    },
    {
      "cell_type": "code",
      "source": [
        "res"
      ],
      "metadata": {
        "colab": {
          "base_uri": "https://localhost:8080/"
        },
        "id": "BMu9cQOCeHsQ",
        "outputId": "3caec065-57ca-4380-8773-a18c0d32b76a"
      },
      "execution_count": 161,
      "outputs": [
        {
          "output_type": "execute_result",
          "data": {
            "text/plain": [
              "{'answer': 'older sister',\n",
              " 'end': 768,\n",
              " 'score': 0.7630390524864197,\n",
              " 'start': 756}"
            ]
          },
          "metadata": {},
          "execution_count": 161
        }
      ]
    }
  ]
}